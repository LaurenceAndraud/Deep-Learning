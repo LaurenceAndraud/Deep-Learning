{
 "cells": [
  {
   "cell_type": "markdown",
   "id": "353b917b",
   "metadata": {},
   "source": [
    "### Deep Learning - Exercice 1"
   ]
  },
  {
   "cell_type": "markdown",
   "id": "d14932ba",
   "metadata": {},
   "source": [
    "###### Réseau de neurone"
   ]
  },
  {
   "cell_type": "code",
   "execution_count": 98,
   "id": "ae70a149",
   "metadata": {},
   "outputs": [],
   "source": [
    "# Importation des librairies\n",
    "import pandas as pd\n",
    "import matplotlib.pyplot as plt\n",
    "import numpy as np\n",
    "import math"
   ]
  },
  {
   "cell_type": "code",
   "execution_count": 99,
   "id": "9141ca5c",
   "metadata": {},
   "outputs": [],
   "source": [
    "# Création de la liste\n",
    "x1 = 1\n",
    "x2 = -3.1\n",
    "x3 = -7.2\n",
    "x4 = 2.1\n",
    "\n",
    "x = [x1, x2, x3, x4]"
   ]
  },
  {
   "cell_type": "code",
   "execution_count": 100,
   "id": "bb4e9e0b",
   "metadata": {},
   "outputs": [],
   "source": [
    "# Création des poids \n",
    "w1 = 2.1\n",
    "w2 = 1.2\n",
    "w3 = 0.3\n",
    "w4 = 1.3\n",
    "\n",
    "w = [w1, w2, w3, w4]"
   ]
  },
  {
   "cell_type": "code",
   "execution_count": 101,
   "id": "0cd0ee1f",
   "metadata": {},
   "outputs": [],
   "source": [
    "# Création du biais\n",
    "b = -3"
   ]
  },
  {
   "cell_type": "code",
   "execution_count": 102,
   "id": "bf3ade0d",
   "metadata": {},
   "outputs": [],
   "source": [
    "# Création fonction linéaire \n",
    "def lin_reg1(x, w, b):\n",
    "    entry = x1*w1 + x2*w2 + x3*w3 + x4*w4 + b\n",
    "    return entry"
   ]
  },
  {
   "cell_type": "code",
   "execution_count": 103,
   "id": "bf3e805c",
   "metadata": {},
   "outputs": [
    {
     "data": {
      "text/plain": [
       "-4.049999999999999"
      ]
     },
     "execution_count": 103,
     "metadata": {},
     "output_type": "execute_result"
    }
   ],
   "source": [
    "lin_reg1(x, w, b)"
   ]
  },
  {
   "cell_type": "code",
   "execution_count": 104,
   "id": "f9ae1993",
   "metadata": {},
   "outputs": [],
   "source": [
    "# Créer une fonction d'activation\n",
    "def ReLu(x):\n",
    "    if x >= 0:\n",
    "        x = x\n",
    "    else:\n",
    "        x = 0"
   ]
  },
  {
   "cell_type": "code",
   "execution_count": 105,
   "id": "a025be3a",
   "metadata": {},
   "outputs": [],
   "source": [
    "# Calculer y d'après le schéma précédent et le nommer out_1\n",
    "out_1 = ReLu(lin_reg1(x, w, b))\n",
    "out_1"
   ]
  },
  {
   "cell_type": "code",
   "execution_count": 106,
   "id": "369b4cfe",
   "metadata": {},
   "outputs": [],
   "source": [
    "# Deuxième régression avec paramètres différents\n",
    "def linreg_2(x, w, b):\n",
    "    w1 = 0.1\n",
    "    w2 = 1.2\n",
    "    w3 = 4.9\n",
    "    w4 = 3.1\n",
    "    w = [w1, w2, w3, w4]\n",
    "    b = -5\n",
    "    entry_2 = x1*w1 + x2*w2 + x3*w3 + x4*w4 + b\n",
    "    return entry_2"
   ]
  },
  {
   "cell_type": "code",
   "execution_count": 107,
   "id": "e55417ae",
   "metadata": {},
   "outputs": [
    {
     "data": {
      "text/plain": [
       "-37.39"
      ]
     },
     "execution_count": 107,
     "metadata": {},
     "output_type": "execute_result"
    }
   ],
   "source": [
    "linreg_2(x, w, b)"
   ]
  },
  {
   "cell_type": "code",
   "execution_count": 108,
   "id": "59fc4415",
   "metadata": {},
   "outputs": [],
   "source": [
    "out_2 = ReLu(linreg_2(x, w, b))\n",
    "out_2"
   ]
  },
  {
   "cell_type": "code",
   "execution_count": 109,
   "id": "4198e2bc",
   "metadata": {},
   "outputs": [],
   "source": [
    "# Troisième régression avec paramètres différents\n",
    "def linreg_3(x, w, b):\n",
    "    w1 = 0.4\n",
    "    w2 = 2.6\n",
    "    w3 = 2.5\n",
    "    w4 = 3.8\n",
    "    w = [w1, w2, w3, w4]\n",
    "    b = -8\n",
    "    entry_3 = x1*w1 + x2*w2 + x3*w3 + x4*w4 + b\n",
    "    return entry_3"
   ]
  },
  {
   "cell_type": "code",
   "execution_count": 110,
   "id": "e904b179",
   "metadata": {},
   "outputs": [
    {
     "data": {
      "text/plain": [
       "-25.68"
      ]
     },
     "execution_count": 110,
     "metadata": {},
     "output_type": "execute_result"
    }
   ],
   "source": [
    "linreg_3(x, w, b)"
   ]
  },
  {
   "cell_type": "code",
   "execution_count": 111,
   "id": "3f245ee0",
   "metadata": {},
   "outputs": [],
   "source": [
    "out_3 = ReLu(linreg_3(x, w, b))\n",
    "out_3"
   ]
  },
  {
   "cell_type": "code",
   "execution_count": 112,
   "id": "1de86106",
   "metadata": {},
   "outputs": [],
   "source": [
    "# définir l'entrée d'une autre couche\n",
    "def linreg_next_layer(x, w, b):\n",
    "    w1 = 1.1\n",
    "    w2 = -4.1\n",
    "    w3 = 0.7\n",
    "    w = [w1, w2, w3]\n",
    "    b = 5.1\n",
    "    entry_4 = x1*w1 + x2*w2 + x3*w3\n",
    "    return entry_4"
   ]
  },
  {
   "cell_type": "code",
   "execution_count": 113,
   "id": "06cc498f",
   "metadata": {},
   "outputs": [],
   "source": [
    "# Implémentez ue dernière fonction d'activation (sigmoide)\n",
    "def activation_next_layer(x):\n",
    "    return 1/( 1 + math.exp(-x))"
   ]
  },
  {
   "cell_type": "code",
   "execution_count": 115,
   "id": "0e6dd196",
   "metadata": {},
   "outputs": [
    {
     "data": {
      "text/plain": [
       "0.9998447005410191"
      ]
     },
     "execution_count": 115,
     "metadata": {},
     "output_type": "execute_result"
    }
   ],
   "source": [
    "# Calculez la sortie de la couche\n",
    "y_pred = activation_next_layer(linreg_next_layer(x, w, b))\n",
    "y_pred"
   ]
  }
 ],
 "metadata": {
  "kernelspec": {
   "display_name": "Python 3 (ipykernel)",
   "language": "python",
   "name": "python3"
  },
  "language_info": {
   "codemirror_mode": {
    "name": "ipython",
    "version": 3
   },
   "file_extension": ".py",
   "mimetype": "text/x-python",
   "name": "python",
   "nbconvert_exporter": "python",
   "pygments_lexer": "ipython3",
   "version": "3.9.12"
  }
 },
 "nbformat": 4,
 "nbformat_minor": 5
}
