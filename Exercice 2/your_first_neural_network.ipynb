{
 "cells": [
  {
   "cell_type": "markdown",
   "metadata": {
    "id": "0uP2vJrPQg1R"
   },
   "source": [
    "# Your First Neural Network\n",
    "\n",
    "### Exercise objectives\n",
    "- Write your first Neural Network\n",
    "- Inspect some of the most important hyperparameters of Neural Networks\n",
    "\n",
    "<hr>\n",
    "<hr>\n",
    "\n",
    "\n",
    "In this exercise, you will build your first Neural Network that will separate two classes.\n",
    "Each data $X$ has only two coordinates $X = (x_1, x_2)$ and belongs to either the class 0 or to the class 1. It is called the `moons dataset`. \n",
    "\n",
    "As there are only two features, the points can be represented on a 2D-scatterplot, where the colors correspond to the two available classes: $\\color{blue}{blue}$ and $\\color{red}{red} $. Here is an example of such data : \n",
    "\n",
    "![Two moons](moons_example.png)\n",
    "\n",
    "\n",
    "\n",
    "## 1. Create data\n",
    "\n",
    "Here, we will use the scikit-learn `make_moons` function [(see documentation here)](https://scikit-learn.org/stable/modules/generated/sklearn.datasets.make_moons.html) to create 2 moons that cannot be linearly separated. Each moon correspond to a class."
   ]
  },
  {
   "cell_type": "code",
   "execution_count": 13,
   "metadata": {
    "id": "0DVejA3_Qg1W"
   },
   "outputs": [
    {
     "data": {
      "text/plain": [
       "(array([[ 5.09442530e-02,  1.84891782e-01],\n",
       "        [ 1.76144596e+00, -1.48228395e-01],\n",
       "        [-5.72116660e-01,  8.20172255e-01],\n",
       "        [-9.67294863e-01,  2.53654584e-01],\n",
       "        [ 8.40400105e-01, -4.87181783e-01],\n",
       "        [ 3.76510198e-01, -2.81831482e-01],\n",
       "        [ 9.03976974e-01, -4.95379113e-01],\n",
       "        [ 1.15959990e+00, -4.87181783e-01],\n",
       "        [ 1.28452759e+00, -4.58667853e-01],\n",
       "        [ 1.80141362e+00, -9.81105305e-02],\n",
       "        [ 2.81650650e-01, -1.95682551e-01],\n",
       "        [ 1.87131870e+00,  9.28244800e-03],\n",
       "        [ 1.98586378e-01, -9.81105305e-02],\n",
       "        [ 8.20998618e-03,  3.72122838e-01],\n",
       "        [ 2.22520934e-01,  9.74927912e-01],\n",
       "        [ 6.54634946e-01, -4.38468422e-01],\n",
       "        [ 1.62348980e+00, -2.81831482e-01],\n",
       "        [ 6.72300890e-01,  7.40277997e-01],\n",
       "        [ 4.62538290e-01,  8.86599306e-01],\n",
       "        [-9.60230259e-02,  9.95379113e-01],\n",
       "        [ 9.60230259e-02,  9.95379113e-01],\n",
       "        [-3.45365054e-01,  9.38468422e-01],\n",
       "        [-7.61445958e-01,  6.48228395e-01],\n",
       "        [ 6.23489802e-01,  7.81831482e-01],\n",
       "        [ 7.77479066e-01, -4.74927912e-01],\n",
       "        [ 7.61445958e-01,  6.48228395e-01],\n",
       "        [ 1.71834935e+00, -1.95682551e-01],\n",
       "        [-8.38088105e-01,  5.45534901e-01],\n",
       "        [ 4.04783343e-01,  9.14412623e-01],\n",
       "        [ 1.28681296e-01,  9.28244800e-03],\n",
       "        [-1.00000000e+00,  1.22464680e-16],\n",
       "        [-4.62538290e-01,  8.86599306e-01],\n",
       "        [ 1.03205158e+00, -4.99486216e-01],\n",
       "        [-8.01413622e-01,  5.98110530e-01],\n",
       "        [ 4.81607432e-01, -3.55142763e-01],\n",
       "        [-9.91790014e-01,  1.27877162e-01],\n",
       "        [-6.72300890e-01,  7.40277997e-01],\n",
       "        [ 1.67230089e+00, -2.40277997e-01],\n",
       "        [ 5.37461710e-01, -3.86599306e-01],\n",
       "        [ 2.00000000e+00,  5.00000000e-01],\n",
       "        [-8.71318704e-01,  4.90717552e-01],\n",
       "        [-2.84527587e-01,  9.58667853e-01],\n",
       "        [-4.04783343e-01,  9.14412623e-01],\n",
       "        [ 1.57211666e+00, -3.20172255e-01],\n",
       "        [ 7.18349350e-01,  6.95682551e-01],\n",
       "        [ 9.26916757e-01,  3.75267005e-01],\n",
       "        [ 4.27883340e-01, -3.20172255e-01],\n",
       "        [ 1.51839257e+00, -3.55142763e-01],\n",
       "        [ 5.95216657e-01, -4.14412623e-01],\n",
       "        [ 9.00968868e-01,  4.33883739e-01],\n",
       "        [-9.00968868e-01,  4.33883739e-01],\n",
       "        [ 8.71318704e-01,  4.90717552e-01],\n",
       "        [ 1.96729486e+00,  2.46345416e-01],\n",
       "        [ 9.81559157e-01,  1.91158629e-01],\n",
       "        [-2.22520934e-01,  9.74927912e-01],\n",
       "        [-1.59599895e-01,  9.87181783e-01],\n",
       "        [ 8.38088105e-01,  5.45534901e-01],\n",
       "        [ 5.18392568e-01,  8.55142763e-01],\n",
       "        [ 3.27051370e-02,  2.46345416e-01],\n",
       "        [ 1.92691676e+00,  1.24732995e-01],\n",
       "        [ 1.09602303e+00, -4.95379113e-01],\n",
       "        [ 2.38554042e-01, -1.48228395e-01],\n",
       "        [-6.23489802e-01,  7.81831482e-01],\n",
       "        [ 0.00000000e+00,  5.00000000e-01],\n",
       "        [ 9.67948422e-01, -4.99486216e-01],\n",
       "        [ 1.90096887e+00,  6.61162609e-02],\n",
       "        [ 2.05460725e-03,  4.35929780e-01],\n",
       "        [ 1.99794539e+00,  4.35929780e-01],\n",
       "        [ 9.91790014e-01,  1.27877162e-01],\n",
       "        [ 1.22252093e+00, -4.74927912e-01],\n",
       "        [-3.20515776e-02,  9.99486216e-01],\n",
       "        [ 3.27699110e-01, -2.40277997e-01],\n",
       "        [ 1.59599895e-01,  9.87181783e-01],\n",
       "        [-9.26916757e-01,  3.75267005e-01],\n",
       "        [ 9.67294863e-01,  2.53654584e-01],\n",
       "        [ 9.97945393e-01,  6.40702200e-02],\n",
       "        [ 7.15472413e-01, -4.58667853e-01],\n",
       "        [ 3.45365054e-01,  9.38468422e-01],\n",
       "        [ 1.00000000e+00,  0.00000000e+00],\n",
       "        [ 1.46253829e+00, -3.86599306e-01],\n",
       "        [ 3.20515776e-02,  9.99486216e-01],\n",
       "        [ 1.83808810e+00, -4.55349012e-02],\n",
       "        [-5.18392568e-01,  8.55142763e-01],\n",
       "        [-9.49055747e-01,  3.15108218e-01],\n",
       "        [ 1.98155916e+00,  3.08841371e-01],\n",
       "        [ 5.72116660e-01,  8.20172255e-01],\n",
       "        [ 2.84527587e-01,  9.58667853e-01],\n",
       "        [ 9.90311321e-02,  6.61162609e-02],\n",
       "        [ 1.40478334e+00, -4.14412623e-01],\n",
       "        [-9.81559157e-01,  1.91158629e-01],\n",
       "        [ 1.61911895e-01, -4.55349012e-02],\n",
       "        [ 1.94905575e+00,  1.84891782e-01],\n",
       "        [ 1.99179001e+00,  3.72122838e-01],\n",
       "        [ 7.30832427e-02,  1.24732995e-01],\n",
       "        [ 1.84408430e-02,  3.08841371e-01],\n",
       "        [-9.97945393e-01,  6.40702200e-02],\n",
       "        [ 1.34536505e+00, -4.38468422e-01],\n",
       "        [ 9.49055747e-01,  3.15108218e-01],\n",
       "        [-7.18349350e-01,  6.95682551e-01],\n",
       "        [ 8.01413622e-01,  5.98110530e-01]]),\n",
       " array([1, 1, 0, 0, 1, 1, 1, 1, 1, 1, 1, 1, 1, 1, 0, 1, 1, 0, 0, 0, 0, 0,\n",
       "        0, 0, 1, 0, 1, 0, 0, 1, 0, 0, 1, 0, 1, 0, 0, 1, 1, 1, 0, 0, 0, 1,\n",
       "        0, 0, 1, 1, 1, 0, 0, 0, 1, 0, 0, 0, 0, 0, 1, 1, 1, 1, 0, 1, 1, 1,\n",
       "        1, 1, 0, 1, 0, 1, 0, 0, 0, 0, 1, 0, 0, 1, 0, 1, 0, 0, 1, 0, 0, 1,\n",
       "        1, 0, 1, 1, 1, 1, 1, 0, 1, 0, 0, 0], dtype=int64))"
      ]
     },
     "execution_count": 13,
     "metadata": {},
     "output_type": "execute_result"
    }
   ],
   "source": [
    "### Data generation\n",
    "from sklearn.datasets import make_moons\n",
    "import numpy as np\n",
    "sklearn.datasets.make_moons(n_samples=100, shuffle=True, noise=None, random_state=None)"
   ]
  },
  {
   "cell_type": "code",
   "execution_count": 16,
   "metadata": {
    "id": "rOlhZcpFQg1Y"
   },
   "outputs": [],
   "source": [
    "### This function allows to plot the two moons\n",
    "X, y = make_moons(100, noise = 0.2)"
   ]
  },
  {
   "cell_type": "markdown",
   "metadata": {
    "id": "-nqT-q2HQg1Z"
   },
   "source": [
    "❓ Play with the number of samples and the noise to discover the effects on the moons dataset, by plotting the moons for different values"
   ]
  },
  {
   "cell_type": "code",
   "execution_count": 15,
   "metadata": {
    "id": "2LQ2dJGjQg1a"
   },
   "outputs": [],
   "source": []
  },
  {
   "cell_type": "markdown",
   "metadata": {
    "id": "DeKbE-sUQg1b"
   },
   "source": [
    "❓ Draw 250 samples of the data with a noise equal to 0.20 (random state being 0) and split the initial dataset into a train and test set (size: 70/30%)\n",
    "\n",
    "*Remark* : Please call the variables `X_train`, `y_train`, `X_test` and `y_test`"
   ]
  },
  {
   "cell_type": "code",
   "execution_count": null,
   "metadata": {
    "id": "O7BsHkoJQg1b",
    "tags": [
     "challengify"
    ]
   },
   "outputs": [],
   "source": []
  },
  {
   "cell_type": "markdown",
   "metadata": {
    "id": "yxzanCjqQg1c"
   },
   "source": [
    "## 2. Simple model"
   ]
  },
  {
   "cell_type": "markdown",
   "metadata": {
    "id": "JfW3fgGfQg1d"
   },
   "source": [
    "You will now define your first neural network.\n",
    "The architecture of your model should have : \n",
    "- a first layer with 5 neurons, with a `relu` activation function and the correct input dimension\n",
    "- a output layer suited to your 2-class classification task.\n",
    "\n",
    "\n",
    "❓ Complete the next function with the previous architecture"
   ]
  },
  {
   "cell_type": "code",
   "execution_count": null,
   "metadata": {
    "id": "gVaVqnuzQg1e",
    "tags": [
     "challengify"
    ]
   },
   "outputs": [],
   "source": []
  },
  {
   "cell_type": "code",
   "execution_count": null,
   "metadata": {
    "id": "56lj6QgyQg1f",
    "outputId": "6a25a9cf-45f8-47dc-8e6d-a4b4e04b5e7a"
   },
   "outputs": [
    {
     "name": "stderr",
     "output_type": "stream",
     "text": [
      "2021-08-09 11:47:43.274030: I tensorflow/core/platform/cpu_feature_guard.cc:142] This TensorFlow binary is optimized with oneAPI Deep Neural Network Library (oneDNN) to use the following CPU instructions in performance-critical operations:  AVX2 AVX512F FMA\n",
      "To enable them in other operations, rebuild TensorFlow with the appropriate compiler flags.\n"
     ]
    }
   ],
   "source": [
    "def initialize_model():\n",
    "\n",
    "    return model\n",
    "\n",
    "model = initialize_model()"
   ]
  },
  {
   "cell_type": "markdown",
   "metadata": {
    "id": "R9poBeD5Qg1g"
   },
   "source": [
    "❗ **Remark** ❗ Briefly speaking, the **`.compile()`** tells your algorithm how to optimize the weights of your network once it will be fit on real data. **`binary_crossentropy`** is the \"log-loss\" that you have have to use and explain\n",
    "\n",
    "❓ How many parameters does the model have?  \n",
    "Double check using the **`.summary()`** function which displays the stack of layers, the shape of the output after each layer, and the number of parameters of each layer. Use this function to check that you have 21 parameters i.e. weights in your model."
   ]
  },
  {
   "cell_type": "code",
   "execution_count": null,
   "metadata": {
    "id": "2se6x3biQg1i",
    "tags": [
     "challengify"
    ]
   },
   "outputs": [],
   "source": []
  },
  {
   "cell_type": "markdown",
   "metadata": {
    "id": "qbFM5ssZQg1i"
   },
   "source": [
    "You are now ready to train your algorithm on the training set:"
   ]
  },
  {
   "cell_type": "code",
   "execution_count": null,
   "metadata": {
    "id": "jeb_1yf0Qg1i"
   },
   "outputs": [],
   "source": []
  },
  {
   "cell_type": "markdown",
   "metadata": {
    "id": "OxWfsKQ9Qg1i"
   },
   "source": [
    "### Fit history"
   ]
  },
  {
   "cell_type": "markdown",
   "metadata": {
    "id": "y_sxKq2JQg1j"
   },
   "source": [
    "`history` contains information about the training.\n",
    "\n",
    "❓ Inspect all its attributes using `history.__dict__`. You will see epoch-by-epoch info stored in `history.history`"
   ]
  },
  {
   "cell_type": "code",
   "execution_count": null,
   "metadata": {
    "id": "pseuJfQDQg1k"
   },
   "outputs": [],
   "source": []
  },
  {
   "cell_type": "markdown",
   "metadata": {
    "id": "1qBWUOvdQg1m"
   },
   "source": [
    "❓ Plot the history of the train loss using the following function"
   ]
  },
  {
   "cell_type": "code",
   "execution_count": null,
   "metadata": {
    "id": "zw24mD8nQg1n"
   },
   "outputs": [],
   "source": []
  },
  {
   "cell_type": "code",
   "execution_count": null,
   "metadata": {
    "id": "T_Rmt5ooQg1o",
    "tags": [
     "challengify"
    ]
   },
   "outputs": [],
   "source": []
  },
  {
   "cell_type": "markdown",
   "metadata": {
    "id": "W56-TKS6Qg1o"
   },
   "source": [
    "### Predict & Evaluate performance on test set"
   ]
  },
  {
   "cell_type": "markdown",
   "metadata": {
    "id": "M60Tu9eNQg1p"
   },
   "source": [
    "You can predict `y_pred` using the **`.predict()`** method."
   ]
  },
  {
   "cell_type": "code",
   "execution_count": null,
   "metadata": {
    "id": "4zapokMRQg1p"
   },
   "outputs": [],
   "source": []
  },
  {
   "cell_type": "markdown",
   "metadata": {
    "id": "cnt8koLaQg1q"
   },
   "source": [
    "You can use the **`.evaluate()`** method to return the **`loss value`** &  and the **`performance metrics`**"
   ]
  },
  {
   "cell_type": "code",
   "execution_count": null,
   "metadata": {
    "id": "czLZRWtBQg1q"
   },
   "outputs": [],
   "source": []
  },
  {
   "cell_type": "markdown",
   "metadata": {
    "id": "QQI0We8bQg1q"
   },
   "source": [
    "- The first element corresponds to the **loss** value, set to `\"binary_crossentropy\"` in `model.compile()`. Its value is hard to interpret.\n",
    "\n",
    "- The second element is the **metrics**, that we set to `\"accuracy\"`"
   ]
  },
  {
   "cell_type": "markdown",
   "metadata": {
    "id": "fgtR3iodQg1q"
   },
   "source": [
    "❓ What is your accuracy on the test test? Store the value as a `float` in the `accuracy` variable."
   ]
  },
  {
   "cell_type": "code",
   "execution_count": null,
   "metadata": {
    "id": "Whi0fMYEQg1q",
    "tags": [
     "challengify"
    ]
   },
   "outputs": [],
   "source": []
  },
  {
   "cell_type": "markdown",
   "metadata": {
    "id": "c8GV6jg2Qg1q"
   },
   "source": [
    "❓ Check your prediction visually by using our `plot_decision_regions` available in `utils/plots.py`. It looks a bit underfitted, right? We will create a deeper network next!"
   ]
  },
  {
   "cell_type": "code",
   "execution_count": null,
   "metadata": {
    "id": "Fq4_nl1sQg1q"
   },
   "outputs": [],
   "source": []
  },
  {
   "cell_type": "markdown",
   "metadata": {
    "id": "2tsafuw3Qg1r"
   },
   "source": [
    "## 3. Variations"
   ]
  },
  {
   "cell_type": "markdown",
   "metadata": {
    "id": "tA_6zweLQg1r"
   },
   "source": [
    "❓ Relaunch the model on 500 iterations\n",
    "- Don't forget to call the `initialize_model` function, otherwise, your initial parameters will be those you have already learnt on the previous fit!!)\n",
    "- Plot the history to see how the loss changed over the different epochs/iterations."
   ]
  },
  {
   "cell_type": "code",
   "execution_count": null,
   "metadata": {
    "id": "JFEz8PPHQg1s",
    "tags": [
     "challengify"
    ]
   },
   "outputs": [],
   "source": []
  },
  {
   "cell_type": "markdown",
   "metadata": {
    "id": "C3aKWAPpQg1s"
   },
   "source": [
    "❓ Did the test accuracy improve?"
   ]
  },
  {
   "cell_type": "code",
   "execution_count": null,
   "metadata": {
    "id": "ZdOTjauHQg1s",
    "tags": [
     "challengify"
    ]
   },
   "outputs": [],
   "source": []
  },
  {
   "cell_type": "markdown",
   "metadata": {
    "id": "mK-gSr9mQg1s"
   },
   "source": [
    "Not necessarily...So when should we stop training a Deep Learning Model?\n",
    "Answer in the next chapter `Optimizers, Loss, Fitting` of this `Deep Learning Module` !"
   ]
  },
  {
   "cell_type": "markdown",
   "metadata": {
    "id": "At6oUoaSQg1t"
   },
   "source": [
    "❓ Let's try a **deeper** architecture that includes : \n",
    "\n",
    "- a first layer with 20 neurons (activation: `\"relu\"`)\n",
    "- a second layer with 10 neurons (activation: `\"relu\"`)\n",
    "- a third layer with 5 neurons (activation: `\"relu\"`)\n",
    "- an output layer suited for this problem\n"
   ]
  },
  {
   "cell_type": "code",
   "execution_count": null,
   "metadata": {
    "id": "o4wTj3PsQg1t"
   },
   "outputs": [],
   "source": []
  },
  {
   "cell_type": "markdown",
   "metadata": {
    "id": "61Mnv5xPQg1t"
   },
   "source": [
    "❓ What is the number of parameters of your new model?"
   ]
  },
  {
   "cell_type": "code",
   "execution_count": null,
   "metadata": {
    "id": "RBx1NRXNQg1u",
    "tags": [
     "challengify"
    ]
   },
   "outputs": [],
   "source": []
  },
  {
   "cell_type": "markdown",
   "metadata": {
    "id": "AWpoOdRuQg1u"
   },
   "source": [
    "Run your model on the previous data with 500 epochs and plot the loss afterwards.  \n",
    "❓ What is your accuracy on the test test? Store it as `accuracy_deep` variable (`float`)."
   ]
  },
  {
   "cell_type": "code",
   "execution_count": null,
   "metadata": {
    "id": "3e81YKtwQg1u",
    "tags": [
     "challengify"
    ]
   },
   "outputs": [],
   "source": []
  },
  {
   "cell_type": "code",
   "execution_count": null,
   "metadata": {
    "id": "Ci2RSViIQg1u",
    "tags": [
     "challengify"
    ]
   },
   "outputs": [],
   "source": []
  },
  {
   "cell_type": "markdown",
   "metadata": {
    "id": "2ylhtk7mQg1u"
   },
   "source": [
    "❓ Do you think we have overfitted on the noise? Check it out below"
   ]
  },
  {
   "cell_type": "code",
   "execution_count": null,
   "metadata": {
    "id": "QsJDlLE3Qg1v"
   },
   "outputs": [],
   "source": []
  },
  {
   "cell_type": "code",
   "execution_count": null,
   "metadata": {
    "id": "XsW2pBSZQg1v"
   },
   "outputs": [],
   "source": []
  },
  {
   "cell_type": "code",
   "execution_count": null,
   "metadata": {
    "id": "K2y5rdR0Qg1v"
   },
   "outputs": [],
   "source": []
  }
 ],
 "metadata": {
  "colab": {
   "provenance": []
  },
  "kernelspec": {
   "display_name": "Python 3 (ipykernel)",
   "language": "python",
   "name": "python3"
  },
  "language_info": {
   "codemirror_mode": {
    "name": "ipython",
    "version": 3
   },
   "file_extension": ".py",
   "mimetype": "text/x-python",
   "name": "python",
   "nbconvert_exporter": "python",
   "pygments_lexer": "ipython3",
   "version": "3.9.12"
  }
 },
 "nbformat": 4,
 "nbformat_minor": 1
}
