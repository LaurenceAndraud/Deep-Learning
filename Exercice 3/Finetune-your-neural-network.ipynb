{
 "cells": [
  {
   "cell_type": "markdown",
   "metadata": {},
   "source": [
    "# Finetune your Neural Network\n",
    "\n",
    "**Exercise objectives:**\n",
    "- `Finetune` the model optimizer\n",
    "- `Save` and `Load` a `trained neural network`\n",
    "\n",
    "<hr>\n",
    "\n",
    "Now that you have solid foundations of what Neural Networks, how to design their architecture and how to regularize them, let's take a closer look at the `.compile(loss = ..., metrics = ..., activation = ...)` part.\n",
    "\n",
    "# Data\n",
    "\n",
    "We will use the data from the `Boston Housing dataset`. \n",
    "\n",
    "Our goal is to `predict the values of the houses` (in k USD), and we will measure our models' performances  using the `Mean Absolute Error` metrics"
   ]
  },
  {
   "cell_type": "code",
   "execution_count": 21,
   "metadata": {},
   "outputs": [],
   "source": [
    "import numpy as np\n",
    "import pandas as pd\n",
    "from tensorflow.keras.datasets import boston_housing\n",
    "import matplotlib.pyplot as plt\n",
    "import seaborn as sns\n",
    "%matplotlib inline"
   ]
  },
  {
   "cell_type": "code",
   "execution_count": 41,
   "metadata": {},
   "outputs": [
    {
     "data": {
      "text/plain": [
       "<AxesSubplot:ylabel='Count'>"
      ]
     },
     "execution_count": 41,
     "metadata": {},
     "output_type": "execute_result"
    },
    {
     "data": {
      "image/png": "[encoded data removed]",
      "text/plain": [
       "<Figure size 432x288 with 1 Axes>"
      ]
     },
     "metadata": {
      "needs_background": "light"
     },
     "output_type": "display_data"
    }
   ],
   "source": [
    "(X_train, y_train), (X_test, y_test) = boston_housing.load_data()\n",
    "X_train.shape\n",
    "sns.histplot(y_train)"
   ]
  },
  {
   "cell_type": "code",
   "execution_count": 33,
   "metadata": {},
   "outputs": [
    {
     "name": "stdout",
     "output_type": "stream",
     "text": [
      "<class 'pandas.core.frame.DataFrame'>\n",
      "RangeIndex: 404 entries, 0 to 403\n",
      "Data columns (total 13 columns):\n",
      " #   Column  Non-Null Count  Dtype  \n",
      "---  ------  --------------  -----  \n",
      " 0   0       404 non-null    float64\n",
      " 1   1       404 non-null    float64\n",
      " 2   2       404 non-null    float64\n",
      " 3   3       404 non-null    float64\n",
      " 4   4       404 non-null    float64\n",
      " 5   5       404 non-null    float64\n",
      " 6   6       404 non-null    float64\n",
      " 7   7       404 non-null    float64\n",
      " 8   8       404 non-null    float64\n",
      " 9   9       404 non-null    float64\n",
      " 10  10      404 non-null    float64\n",
      " 11  11      404 non-null    float64\n",
      " 12  12      404 non-null    float64\n",
      "dtypes: float64(13)\n",
      "memory usage: 41.2 KB\n"
     ]
    }
   ],
   "source": [
    "pd.DataFrame(X_train).info()"
   ]
  },
  {
   "cell_type": "code",
   "execution_count": 34,
   "metadata": {},
   "outputs": [
    {
     "data": {
      "text/html": [
       "<div>\n",
       "<style scoped>\n",
       "    .dataframe tbody tr th:only-of-type {\n",
       "        vertical-align: middle;\n",
       "    }\n",
       "\n",
       "    .dataframe tbody tr th {\n",
       "        vertical-align: top;\n",
       "    }\n",
       "\n",
       "    .dataframe thead th {\n",
       "        text-align: right;\n",
       "    }\n",
       "</style>\n",
       "<table border=\"1\" class=\"dataframe\">\n",
       "  <thead>\n",
       "    <tr style=\"text-align: right;\">\n",
       "      <th></th>\n",
       "      <th>0</th>\n",
       "      <th>1</th>\n",
       "      <th>2</th>\n",
       "      <th>3</th>\n",
       "      <th>4</th>\n",
       "      <th>5</th>\n",
       "      <th>6</th>\n",
       "      <th>7</th>\n",
       "      <th>8</th>\n",
       "      <th>9</th>\n",
       "      <th>10</th>\n",
       "      <th>11</th>\n",
       "      <th>12</th>\n",
       "    </tr>\n",
       "  </thead>\n",
       "  <tbody>\n",
       "    <tr>\n",
       "      <th>count</th>\n",
       "      <td>404.000000</td>\n",
       "      <td>404.000000</td>\n",
       "      <td>404.000000</td>\n",
       "      <td>404.000000</td>\n",
       "      <td>404.000000</td>\n",
       "      <td>404.000000</td>\n",
       "      <td>404.000000</td>\n",
       "      <td>404.000000</td>\n",
       "      <td>404.000000</td>\n",
       "      <td>404.000000</td>\n",
       "      <td>404.000000</td>\n",
       "      <td>404.000000</td>\n",
       "      <td>404.000000</td>\n",
       "    </tr>\n",
       "    <tr>\n",
       "      <th>mean</th>\n",
       "      <td>3.745111</td>\n",
       "      <td>11.480198</td>\n",
       "      <td>11.104431</td>\n",
       "      <td>0.061881</td>\n",
       "      <td>0.557356</td>\n",
       "      <td>6.267082</td>\n",
       "      <td>69.010644</td>\n",
       "      <td>3.740271</td>\n",
       "      <td>9.440594</td>\n",
       "      <td>405.898515</td>\n",
       "      <td>18.475990</td>\n",
       "      <td>354.783168</td>\n",
       "      <td>12.740817</td>\n",
       "    </tr>\n",
       "    <tr>\n",
       "      <th>std</th>\n",
       "      <td>9.240734</td>\n",
       "      <td>23.767711</td>\n",
       "      <td>6.811308</td>\n",
       "      <td>0.241238</td>\n",
       "      <td>0.117293</td>\n",
       "      <td>0.709788</td>\n",
       "      <td>27.940665</td>\n",
       "      <td>2.030215</td>\n",
       "      <td>8.698360</td>\n",
       "      <td>166.374543</td>\n",
       "      <td>2.200382</td>\n",
       "      <td>94.111148</td>\n",
       "      <td>7.254545</td>\n",
       "    </tr>\n",
       "    <tr>\n",
       "      <th>min</th>\n",
       "      <td>0.006320</td>\n",
       "      <td>0.000000</td>\n",
       "      <td>0.460000</td>\n",
       "      <td>0.000000</td>\n",
       "      <td>0.385000</td>\n",
       "      <td>3.561000</td>\n",
       "      <td>2.900000</td>\n",
       "      <td>1.129600</td>\n",
       "      <td>1.000000</td>\n",
       "      <td>188.000000</td>\n",
       "      <td>12.600000</td>\n",
       "      <td>0.320000</td>\n",
       "      <td>1.730000</td>\n",
       "    </tr>\n",
       "    <tr>\n",
       "      <th>25%</th>\n",
       "      <td>0.081437</td>\n",
       "      <td>0.000000</td>\n",
       "      <td>5.130000</td>\n",
       "      <td>0.000000</td>\n",
       "      <td>0.453000</td>\n",
       "      <td>5.874750</td>\n",
       "      <td>45.475000</td>\n",
       "      <td>2.077100</td>\n",
       "      <td>4.000000</td>\n",
       "      <td>279.000000</td>\n",
       "      <td>17.225000</td>\n",
       "      <td>374.672500</td>\n",
       "      <td>6.890000</td>\n",
       "    </tr>\n",
       "    <tr>\n",
       "      <th>50%</th>\n",
       "      <td>0.268880</td>\n",
       "      <td>0.000000</td>\n",
       "      <td>9.690000</td>\n",
       "      <td>0.000000</td>\n",
       "      <td>0.538000</td>\n",
       "      <td>6.198500</td>\n",
       "      <td>78.500000</td>\n",
       "      <td>3.142300</td>\n",
       "      <td>5.000000</td>\n",
       "      <td>330.000000</td>\n",
       "      <td>19.100000</td>\n",
       "      <td>391.250000</td>\n",
       "      <td>11.395000</td>\n",
       "    </tr>\n",
       "    <tr>\n",
       "      <th>75%</th>\n",
       "      <td>3.674808</td>\n",
       "      <td>12.500000</td>\n",
       "      <td>18.100000</td>\n",
       "      <td>0.000000</td>\n",
       "      <td>0.631000</td>\n",
       "      <td>6.609000</td>\n",
       "      <td>94.100000</td>\n",
       "      <td>5.118000</td>\n",
       "      <td>24.000000</td>\n",
       "      <td>666.000000</td>\n",
       "      <td>20.200000</td>\n",
       "      <td>396.157500</td>\n",
       "      <td>17.092500</td>\n",
       "    </tr>\n",
       "    <tr>\n",
       "      <th>max</th>\n",
       "      <td>88.976200</td>\n",
       "      <td>100.000000</td>\n",
       "      <td>27.740000</td>\n",
       "      <td>1.000000</td>\n",
       "      <td>0.871000</td>\n",
       "      <td>8.725000</td>\n",
       "      <td>100.000000</td>\n",
       "      <td>10.710300</td>\n",
       "      <td>24.000000</td>\n",
       "      <td>711.000000</td>\n",
       "      <td>22.000000</td>\n",
       "      <td>396.900000</td>\n",
       "      <td>37.970000</td>\n",
       "    </tr>\n",
       "  </tbody>\n",
       "</table>\n",
       "</div>"
      ],
      "text/plain": [
       "               0           1           2           3           4           5   \\\n",
       "count  404.000000  404.000000  404.000000  404.000000  404.000000  404.000000   \n",
       "mean     3.745111   11.480198   11.104431    0.061881    0.557356    6.267082   \n",
       "std      9.240734   23.767711    6.811308    0.241238    0.117293    0.709788   \n",
       "min      0.006320    0.000000    0.460000    0.000000    0.385000    3.561000   \n",
       "25%      0.081437    0.000000    5.130000    0.000000    0.453000    5.874750   \n",
       "50%      0.268880    0.000000    9.690000    0.000000    0.538000    6.198500   \n",
       "75%      3.674808   12.500000   18.100000    0.000000    0.631000    6.609000   \n",
       "max     88.976200  100.000000   27.740000    1.000000    0.871000    8.725000   \n",
       "\n",
       "               6           7           8           9           10          11  \\\n",
       "count  404.000000  404.000000  404.000000  404.000000  404.000000  404.000000   \n",
       "mean    69.010644    3.740271    9.440594  405.898515   18.475990  354.783168   \n",
       "std     27.940665    2.030215    8.698360  166.374543    2.200382   94.111148   \n",
       "min      2.900000    1.129600    1.000000  188.000000   12.600000    0.320000   \n",
       "25%     45.475000    2.077100    4.000000  279.000000   17.225000  374.672500   \n",
       "50%     78.500000    3.142300    5.000000  330.000000   19.100000  391.250000   \n",
       "75%     94.100000    5.118000   24.000000  666.000000   20.200000  396.157500   \n",
       "max    100.000000   10.710300   24.000000  711.000000   22.000000  396.900000   \n",
       "\n",
       "               12  \n",
       "count  404.000000  \n",
       "mean    12.740817  \n",
       "std      7.254545  \n",
       "min      1.730000  \n",
       "25%      6.890000  \n",
       "50%     11.395000  \n",
       "75%     17.092500  \n",
       "max     37.970000  "
      ]
     },
     "execution_count": 34,
     "metadata": {},
     "output_type": "execute_result"
    }
   ],
   "source": [
    "pd.DataFrame(X_train).describe()"
   ]
  },
  {
   "cell_type": "markdown",
   "metadata": {},
   "source": [
    "❓ **Question** ❓ Standardize `X_train` and `X_test` set without data leakage, and replace them keeping similar variable names"
   ]
  },
  {
   "cell_type": "code",
   "execution_count": 50,
   "metadata": {},
   "outputs": [],
   "source": [
    "from sklearn.preprocessing import StandardScaler\n",
    "\n",
    "scaler = StandardScaler()\n",
    "scaler.fit(X_train)\n",
    "X_train = scaler.transform(X_train)\n",
    "X_test = scaler.transform(X_test)"
   ]
  },
  {
   "cell_type": "markdown",
   "metadata": {},
   "source": [
    "❓ **Question** ❓ To get a sense of a benchmark score you have to beat, what is the mean absolute error on the test set if your dumb prediction corresponds to the mean value of $y$ computed on the train set?"
   ]
  },
  {
   "cell_type": "code",
   "execution_count": 51,
   "metadata": {},
   "outputs": [],
   "source": [
    "from sklearn.metrics import mean_absolute_error\n",
    "\n",
    "y_train_mean = y_train.mean()\n",
    "y_test_predictions = [y_train_mean] * len(y_test)\n",
    "test_mae = mean_absolute_error(y_test, y_test_predictions)"
   ]
  },
  {
   "cell_type": "markdown",
   "metadata": {},
   "source": [
    "# 1. The model\n",
    "\n",
    "❓ **Question** ❓ Now, write a function `initialize_model` that generates a neural network with 3 layers: \n",
    "- a layer with 10 neurons and the `relu` activation function (choose the appropriate input dimension)\n",
    "- a layer with 7 neurons and the `relu` activation function\n",
    "- an appropriate layer corresponding to the problem at hand"
   ]
  },
  {
   "cell_type": "code",
   "execution_count": 35,
   "metadata": {},
   "outputs": [],
   "source": [
    "from tensorflow.keras import models\n",
    "from tensorflow.keras import layers\n",
    "from keras.models import Sequential\n",
    "from keras.layers import Dense, Activation\n",
    "\n",
    "def initialize_model():\n",
    "    model = Sequential()\n",
    "    model.add(Dense(10, input_dim=13, activation='relu'))\n",
    "    model.add(Dense(7, activation='relu'))\n",
    "    model.add(Dense(1))\n",
    "    \n",
    "    return model\n",
    "\n",
    "model = initialize_model()"
   ]
  },
  {
   "cell_type": "markdown",
   "metadata": {},
   "source": [
    "# 2. The optimizer\n",
    "\n",
    "❓ **Question** ❓ Write a function that :\n",
    "* takes as arguments a model and an optimizer, \n",
    "* `compiles` the model,\n",
    "* and returns the compiled model\n",
    "\n",
    "Please select the `loss function` to be optimized and  the `metrics` on which the model should be evaluated wisely."
   ]
  },
  {
   "cell_type": "code",
   "execution_count": 36,
   "metadata": {},
   "outputs": [
    {
     "name": "stdout",
     "output_type": "stream",
     "text": [
      "Epoch 1/100\n",
      "13/13 [==============================] - 2s 3ms/step - loss: 4154.1948\n",
      "Epoch 2/100\n",
      "13/13 [==============================] - 0s 3ms/step - loss: 1913.3577\n",
      "Epoch 3/100\n",
      "13/13 [==============================] - 0s 3ms/step - loss: 834.6343\n",
      "Epoch 4/100\n",
      "13/13 [==============================] - 0s 3ms/step - loss: 359.7617\n",
      "Epoch 5/100\n",
      "13/13 [==============================] - 0s 3ms/step - loss: 236.8854\n",
      "Epoch 6/100\n",
      "13/13 [==============================] - 0s 3ms/step - loss: 187.8190\n",
      "Epoch 7/100\n",
      "13/13 [==============================] - 0s 3ms/step - loss: 149.0152\n",
      "Epoch 8/100\n",
      "13/13 [==============================] - 0s 3ms/step - loss: 121.5024\n",
      "Epoch 9/100\n",
      "13/13 [==============================] - 0s 3ms/step - loss: 102.3893\n",
      "Epoch 10/100\n",
      "13/13 [==============================] - 0s 3ms/step - loss: 89.5451\n",
      "Epoch 11/100\n",
      "13/13 [==============================] - 0s 3ms/step - loss: 80.8470\n",
      "Epoch 12/100\n",
      "13/13 [==============================] - 0s 3ms/step - loss: 75.6587\n",
      "Epoch 13/100\n",
      "13/13 [==============================] - 0s 3ms/step - loss: 73.6418\n",
      "Epoch 14/100\n",
      "13/13 [==============================] - 0s 3ms/step - loss: 72.0949\n",
      "Epoch 15/100\n",
      "13/13 [==============================] - 0s 3ms/step - loss: 70.8122\n",
      "Epoch 16/100\n",
      "13/13 [==============================] - 0s 3ms/step - loss: 69.6776\n",
      "Epoch 17/100\n",
      "13/13 [==============================] - 0s 3ms/step - loss: 69.1104\n",
      "Epoch 18/100\n",
      "13/13 [==============================] - 0s 3ms/step - loss: 68.0939\n",
      "Epoch 19/100\n",
      "13/13 [==============================] - 0s 3ms/step - loss: 67.6980\n",
      "Epoch 20/100\n",
      "13/13 [==============================] - 0s 4ms/step - loss: 66.4632\n",
      "Epoch 21/100\n",
      "13/13 [==============================] - 0s 3ms/step - loss: 65.5419\n",
      "Epoch 22/100\n",
      "13/13 [==============================] - 0s 3ms/step - loss: 65.0409\n",
      "Epoch 23/100\n",
      "13/13 [==============================] - 0s 3ms/step - loss: 63.8504\n",
      "Epoch 24/100\n",
      "13/13 [==============================] - 0s 3ms/step - loss: 63.1762\n",
      "Epoch 25/100\n",
      "13/13 [==============================] - 0s 3ms/step - loss: 62.9208\n",
      "Epoch 26/100\n",
      "13/13 [==============================] - 0s 3ms/step - loss: 61.7071\n",
      "Epoch 27/100\n",
      "13/13 [==============================] - 0s 3ms/step - loss: 60.8891\n",
      "Epoch 28/100\n",
      "13/13 [==============================] - 0s 3ms/step - loss: 60.1863\n",
      "Epoch 29/100\n",
      "13/13 [==============================] - 0s 3ms/step - loss: 58.4710\n",
      "Epoch 30/100\n",
      "13/13 [==============================] - 0s 3ms/step - loss: 56.9550\n",
      "Epoch 31/100\n",
      "13/13 [==============================] - 0s 3ms/step - loss: 55.9924\n",
      "Epoch 32/100\n",
      "13/13 [==============================] - 0s 3ms/step - loss: 55.5879\n",
      "Epoch 33/100\n",
      "13/13 [==============================] - 0s 3ms/step - loss: 55.0180\n",
      "Epoch 34/100\n",
      "13/13 [==============================] - 0s 3ms/step - loss: 54.7373\n",
      "Epoch 35/100\n",
      "13/13 [==============================] - 0s 3ms/step - loss: 54.4725\n",
      "Epoch 36/100\n",
      "13/13 [==============================] - 0s 3ms/step - loss: 53.9560\n",
      "Epoch 37/100\n",
      "13/13 [==============================] - 0s 3ms/step - loss: 54.2009\n",
      "Epoch 38/100\n",
      "13/13 [==============================] - 0s 3ms/step - loss: 53.6972\n",
      "Epoch 39/100\n",
      "13/13 [==============================] - 0s 3ms/step - loss: 53.2560\n",
      "Epoch 40/100\n",
      "13/13 [==============================] - 0s 3ms/step - loss: 53.0644\n",
      "Epoch 41/100\n",
      "13/13 [==============================] - 0s 3ms/step - loss: 52.6357\n",
      "Epoch 42/100\n",
      "13/13 [==============================] - 0s 3ms/step - loss: 52.4726\n",
      "Epoch 43/100\n",
      "13/13 [==============================] - 0s 3ms/step - loss: 52.2377\n",
      "Epoch 44/100\n",
      "13/13 [==============================] - 0s 3ms/step - loss: 52.0745\n",
      "Epoch 45/100\n",
      "13/13 [==============================] - 0s 3ms/step - loss: 51.4598\n",
      "Epoch 46/100\n",
      "13/13 [==============================] - 0s 3ms/step - loss: 51.2761\n",
      "Epoch 47/100\n",
      "13/13 [==============================] - 0s 3ms/step - loss: 50.7538\n",
      "Epoch 48/100\n",
      "13/13 [==============================] - 0s 3ms/step - loss: 50.7950\n",
      "Epoch 49/100\n",
      "13/13 [==============================] - 0s 3ms/step - loss: 50.4980\n",
      "Epoch 50/100\n",
      "13/13 [==============================] - 0s 3ms/step - loss: 49.8147\n",
      "Epoch 51/100\n",
      "13/13 [==============================] - 0s 3ms/step - loss: 49.4422\n",
      "Epoch 52/100\n",
      "13/13 [==============================] - 0s 3ms/step - loss: 49.0846\n",
      "Epoch 53/100\n",
      "13/13 [==============================] - 0s 3ms/step - loss: 49.2458\n",
      "Epoch 54/100\n",
      "13/13 [==============================] - 0s 3ms/step - loss: 47.9722\n",
      "Epoch 55/100\n",
      "13/13 [==============================] - 0s 3ms/step - loss: 48.0061\n",
      "Epoch 56/100\n",
      "13/13 [==============================] - 0s 3ms/step - loss: 47.3261\n",
      "Epoch 57/100\n",
      "13/13 [==============================] - 0s 3ms/step - loss: 46.7080\n",
      "Epoch 58/100\n",
      "13/13 [==============================] - 0s 3ms/step - loss: 46.0475\n",
      "Epoch 59/100\n",
      "13/13 [==============================] - 0s 3ms/step - loss: 45.4627\n",
      "Epoch 60/100\n",
      "13/13 [==============================] - 0s 3ms/step - loss: 45.9256\n",
      "Epoch 61/100\n",
      "13/13 [==============================] - 0s 3ms/step - loss: 44.9227\n",
      "Epoch 62/100\n",
      "13/13 [==============================] - 0s 3ms/step - loss: 44.1672\n",
      "Epoch 63/100\n",
      "13/13 [==============================] - 0s 3ms/step - loss: 43.8830\n",
      "Epoch 64/100\n",
      "13/13 [==============================] - 0s 3ms/step - loss: 43.5143\n",
      "Epoch 65/100\n",
      "13/13 [==============================] - 0s 3ms/step - loss: 44.1455\n",
      "Epoch 66/100\n",
      "13/13 [==============================] - 0s 3ms/step - loss: 44.1772\n",
      "Epoch 67/100\n",
      "13/13 [==============================] - 0s 3ms/step - loss: 42.1927\n",
      "Epoch 68/100\n",
      "13/13 [==============================] - 0s 3ms/step - loss: 41.6434\n",
      "Epoch 69/100\n",
      "13/13 [==============================] - 0s 3ms/step - loss: 41.3607\n",
      "Epoch 70/100\n",
      "13/13 [==============================] - 0s 3ms/step - loss: 40.5594\n",
      "Epoch 71/100\n",
      "13/13 [==============================] - 0s 3ms/step - loss: 40.1558\n",
      "Epoch 72/100\n",
      "13/13 [==============================] - 0s 3ms/step - loss: 39.8522\n",
      "Epoch 73/100\n",
      "13/13 [==============================] - 0s 3ms/step - loss: 38.9798\n",
      "Epoch 74/100\n",
      "13/13 [==============================] - 0s 4ms/step - loss: 39.4157\n",
      "Epoch 75/100\n",
      "13/13 [==============================] - 0s 3ms/step - loss: 38.4791\n",
      "Epoch 76/100\n",
      "13/13 [==============================] - 0s 3ms/step - loss: 37.8653\n",
      "Epoch 77/100\n",
      "13/13 [==============================] - 0s 3ms/step - loss: 37.2990\n",
      "Epoch 78/100\n",
      "13/13 [==============================] - 0s 3ms/step - loss: 37.2005\n",
      "Epoch 79/100\n",
      "13/13 [==============================] - 0s 3ms/step - loss: 36.2985\n",
      "Epoch 80/100\n",
      "13/13 [==============================] - 0s 3ms/step - loss: 36.4127\n",
      "Epoch 81/100\n",
      "13/13 [==============================] - 0s 3ms/step - loss: 35.8097\n",
      "Epoch 82/100\n",
      "13/13 [==============================] - 0s 3ms/step - loss: 35.4983\n",
      "Epoch 83/100\n",
      "13/13 [==============================] - 0s 3ms/step - loss: 34.8082\n",
      "Epoch 84/100\n",
      "13/13 [==============================] - 0s 3ms/step - loss: 34.3193\n",
      "Epoch 85/100\n",
      "13/13 [==============================] - 0s 3ms/step - loss: 34.5122\n",
      "Epoch 86/100\n",
      "13/13 [==============================] - 0s 3ms/step - loss: 33.6745\n",
      "Epoch 87/100\n",
      "13/13 [==============================] - 0s 3ms/step - loss: 33.6013\n",
      "Epoch 88/100\n",
      "13/13 [==============================] - 0s 3ms/step - loss: 32.7113\n",
      "Epoch 89/100\n",
      "13/13 [==============================] - 0s 3ms/step - loss: 32.7407\n",
      "Epoch 90/100\n",
      "13/13 [==============================] - 0s 3ms/step - loss: 31.9862\n",
      "Epoch 91/100\n",
      "13/13 [==============================] - 0s 3ms/step - loss: 32.6713\n",
      "Epoch 92/100\n",
      "13/13 [==============================] - 0s 3ms/step - loss: 31.5722\n",
      "Epoch 93/100\n",
      "13/13 [==============================] - 0s 3ms/step - loss: 31.7858\n",
      "Epoch 94/100\n",
      "13/13 [==============================] - 0s 3ms/step - loss: 30.5955\n",
      "Epoch 95/100\n",
      "13/13 [==============================] - 0s 3ms/step - loss: 30.3278\n",
      "Epoch 96/100\n",
      "13/13 [==============================] - 0s 3ms/step - loss: 29.9778\n",
      "Epoch 97/100\n",
      "13/13 [==============================] - 0s 3ms/step - loss: 29.4011\n",
      "Epoch 98/100\n",
      "13/13 [==============================] - 0s 3ms/step - loss: 29.1798\n",
      "Epoch 99/100\n",
      "13/13 [==============================] - 0s 3ms/step - loss: 29.4408\n",
      "Epoch 100/100\n"
     ]
    },
    {
     "name": "stdout",
     "output_type": "stream",
     "text": [
      "13/13 [==============================] - 0s 3ms/step - loss: 29.5653\n",
      "Model: \"sequential_5\"\n",
      "_________________________________________________________________\n",
      " Layer (type)                Output Shape              Param #   \n",
      "=================================================================\n",
      " dense_8 (Dense)             (None, 10)                140       \n",
      "                                                                 \n",
      " dense_9 (Dense)             (None, 7)                 77        \n",
      "                                                                 \n",
      " dense_10 (Dense)            (None, 1)                 8         \n",
      "                                                                 \n",
      "=================================================================\n",
      "Total params: 225\n",
      "Trainable params: 225\n",
      "Non-trainable params: 0\n",
      "_________________________________________________________________\n",
      "None\n"
     ]
    }
   ],
   "source": [
    "def compile_model(model, optimizer_name):\n",
    "    model.compile(loss='mean_absolute_error', \n",
    "                  optimizer=optimizer_name,\n",
    "                 metrics=['mae'])\n",
    "  \n",
    "    return model\n",
    "\n",
    "model.compile(optimizer=Adam(), loss='mse')\n",
    "model.fit(X_train, y_train, epochs=100)\n",
    "print(model.summary())"
   ]
  },
  {
   "cell_type": "markdown",
   "metadata": {},
   "source": [
    "❓ **Question** ❓ Initialize the model, compile it with the `adam` optimizer and fit it on the data. \n",
    "- Evaluate your model using an Early Stopping criterion."
   ]
  },
  {
   "cell_type": "code",
   "execution_count": 38,
   "metadata": {
    "scrolled": true
   },
   "outputs": [
    {
     "name": "stdout",
     "output_type": "stream",
     "text": [
      "Epoch 1/100\n",
      "13/13 [==============================] - 0s 16ms/step - loss: 20.9369 - val_loss: 36.1361\n",
      "Epoch 2/100\n",
      "13/13 [==============================] - 0s 9ms/step - loss: 21.2295 - val_loss: 36.2872\n",
      "Epoch 3/100\n",
      "13/13 [==============================] - 0s 10ms/step - loss: 21.1463 - val_loss: 36.6609\n",
      "Epoch 4/100\n",
      "13/13 [==============================] - 0s 8ms/step - loss: 21.0040 - val_loss: 36.7255\n",
      "Epoch 5/100\n",
      "13/13 [==============================] - 0s 9ms/step - loss: 20.9605 - val_loss: 36.3545\n",
      "Epoch 6/100\n",
      "13/13 [==============================] - 0s 8ms/step - loss: 20.5591 - val_loss: 35.7521\n",
      "Epoch 7/100\n",
      "13/13 [==============================] - 0s 8ms/step - loss: 20.6522 - val_loss: 36.3992\n",
      "Epoch 8/100\n",
      "13/13 [==============================] - 0s 8ms/step - loss: 20.4677 - val_loss: 36.0495\n",
      "Epoch 9/100\n",
      "13/13 [==============================] - 0s 9ms/step - loss: 20.3098 - val_loss: 36.0645\n",
      "Epoch 10/100\n",
      "13/13 [==============================] - 0s 8ms/step - loss: 20.3555 - val_loss: 36.1836\n",
      "Epoch 11/100\n",
      "13/13 [==============================] - 0s 9ms/step - loss: 20.9338 - val_loss: 35.9185\n",
      "Epoch 12/100\n",
      "13/13 [==============================] - 0s 8ms/step - loss: 20.9747 - val_loss: 37.1862\n",
      "Epoch 13/100\n",
      "13/13 [==============================] - 0s 9ms/step - loss: 20.2838 - val_loss: 36.5381\n",
      "Epoch 14/100\n",
      "13/13 [==============================] - 0s 10ms/step - loss: 20.5119 - val_loss: 37.4488\n",
      "Epoch 15/100\n",
      "13/13 [==============================] - 0s 8ms/step - loss: 20.6657 - val_loss: 35.4654\n",
      "Epoch 16/100\n",
      "13/13 [==============================] - 0s 8ms/step - loss: 19.9038 - val_loss: 36.1873\n",
      "Epoch 17/100\n",
      "13/13 [==============================] - 0s 8ms/step - loss: 20.2094 - val_loss: 36.3003\n",
      "Epoch 18/100\n",
      "13/13 [==============================] - 0s 9ms/step - loss: 19.8835 - val_loss: 36.0896\n",
      "Epoch 19/100\n",
      "13/13 [==============================] - 0s 8ms/step - loss: 21.8689 - val_loss: 41.1697\n",
      "Epoch 20/100\n",
      "13/13 [==============================] - 0s 8ms/step - loss: 21.6766 - val_loss: 35.8989\n",
      "Epoch 21/100\n",
      "13/13 [==============================] - 0s 8ms/step - loss: 19.9588 - val_loss: 37.0067\n",
      "Epoch 22/100\n",
      "13/13 [==============================] - 0s 8ms/step - loss: 20.7362 - val_loss: 35.5181\n",
      "Epoch 23/100\n",
      "13/13 [==============================] - 0s 9ms/step - loss: 19.7440 - val_loss: 35.7304\n",
      "Epoch 24/100\n",
      "13/13 [==============================] - 0s 8ms/step - loss: 19.5813 - val_loss: 36.7838\n",
      "Epoch 25/100\n",
      "13/13 [==============================] - 0s 9ms/step - loss: 19.3580 - val_loss: 36.4441\n"
     ]
    },
    {
     "data": {
      "text/plain": [
       "<keras.callbacks.History at 0x2244e654a90>"
      ]
     },
     "execution_count": 38,
     "metadata": {},
     "output_type": "execute_result"
    }
   ],
   "source": [
    "from tensorflow.keras.callbacks import EarlyStopping\n",
    "from sklearn.model_selection import train_test_split\n",
    "from tensorflow.keras.optimizers import Adam\n",
    "\n",
    "# Create an Early Stopping object\n",
    "early_stopping = EarlyStopping(monitor='val_loss', patience=10)\n",
    "\n",
    "# Fit the model on the training data with Early Stopping\n",
    "model.fit(X_train, y_train, batch_size=32, epochs=100, validation_data=(X_test, y_test), callbacks=[early_stopping])\n"
   ]
  },
  {
   "cell_type": "markdown",
   "metadata": {},
   "source": [
    "❓ **Question** ❓ Re-run the same model on the same data using different optimizers (in a `for` loop). \n",
    "\n",
    "For each optimizer, plot the history and report the corresponding Mean Absolute Error. (see [here](https://www.tensorflow.org/api_docs/python/tf/keras/optimizers)), as well as the time it took to fit your Neural Net."
   ]
  },
  {
   "cell_type": "code",
   "execution_count": 52,
   "metadata": {},
   "outputs": [],
   "source": [
    "def plot_loss_mae(history):\n",
    "    fig, (ax1, ax2) = plt.subplots(1,2, figsize=(13,4))\n",
    "    ax1.plot(history.history['loss'])\n",
    "    ax1.plot(history.history['val_loss'])\n",
    "    ax1.set_title('Model loss')\n",
    "    ax1.set_ylabel('Loss')\n",
    "    ax1.set_xlabel('Epoch')\n",
    "    ax1.set_ylim(ymin=0, ymax=200)\n",
    "    ax1.legend(['Train', 'Validation'], loc='best')\n",
    "    ax1.grid(axis=\"x\",linewidth=0.5)\n",
    "    ax1.grid(axis=\"y\",linewidth=0.5)    \n",
    "    \n",
    "    ax2.plot(history.history['mae'])\n",
    "    ax2.plot(history.history['val_mae'])\n",
    "    ax2.set_title('MAE')\n",
    "    ax2.set_ylabel('MAE')\n",
    "    ax2.set_xlabel('Epoch')\n",
    "    ax2.set_ylim(ymin=0, ymax=20)\n",
    "    ax2.legend(['Train', 'Validation'], loc='best')\n",
    "    ax2.grid(axis=\"x\",linewidth=0.5)\n",
    "    ax2.grid(axis=\"y\",linewidth=0.5)    \n",
    "\n",
    "    plt.show()\n",
    "\n",
    "def plot_loss_mse(history):\n",
    "    fig, (ax1, ax2) = plt.subplots(1,2, figsize=(13,4))\n",
    "    ax1.plot(history.history['loss'])\n",
    "    ax1.plot(history.history['val_loss'])\n",
    "    ax1.set_title('Model loss')\n",
    "    ax1.set_ylabel('Loss')\n",
    "    ax1.set_xlabel('Epoch')\n",
    "    ax1.set_ylim(ymin=0, ymax=20)\n",
    "    ax1.legend(['Train', 'Validation'], loc='best')\n",
    "    ax1.grid(axis=\"x\",linewidth=0.5)\n",
    "    ax1.grid(axis=\"y\",linewidth=0.5)    \n",
    "\n",
    "    \n",
    "    ax2.plot(history.history['mse'])\n",
    "    ax2.plot(history.history['val_mse'])\n",
    "    ax2.set_title('MSE')\n",
    "    ax2.set_ylabel('MSE')\n",
    "    ax2.set_xlabel('Epoch')\n",
    "    ax2.set_ylim(ymin=0, ymax=200)\n",
    "    ax2.legend(['Train', 'Validation'], loc='best')\n",
    "    ax2.grid(axis=\"x\",linewidth=0.5)\n",
    "    ax2.grid(axis=\"y\",linewidth=0.5)    \n",
    "\n",
    "    plt.show()"
   ]
  },
  {
   "cell_type": "code",
   "execution_count": 53,
   "metadata": {
    "tags": [
     "delete"
    ]
   },
   "outputs": [
    {
     "name": "stdout",
     "output_type": "stream",
     "text": [
      "4/4 [==============================] - 0s 5ms/step - loss: 3.0407 - mae: 3.0407\n",
      "MAE with the rmsprop optimizer: 3.0407  reached in 27 s after 207 epochs\n"
     ]
    },
    {
     "data": {
      "image/png": "[encoded data removed]",
      "text/plain": [
       "<Figure size 936x288 with 2 Axes>"
      ]
     },
     "metadata": {
      "needs_background": "light"
     },
     "output_type": "display_data"
    },
    {
     "name": "stdout",
     "output_type": "stream",
     "text": [
      "4/4 [==============================] - 0s 4ms/step - loss: 3.1231 - mae: 3.1231\n",
      "MAE with the adam optimizer: 3.1231  reached in 35 s after 276 epochs\n"
     ]
    },
    {
     "data": {
      "image/png": "[encoded data removed]",
      "text/plain": [
       "<Figure size 936x288 with 2 Axes>"
      ]
     },
     "metadata": {
      "needs_background": "light"
     },
     "output_type": "display_data"
    },
    {
     "name": "stdout",
     "output_type": "stream",
     "text": [
      "4/4 [==============================] - 0s 5ms/step - loss: 20.2810 - mae: 20.2810\n",
      "MAE with the adagrad optimizer: 20.2810  reached in 61 s after 500 epochs\n"
     ]
    },
    {
     "data": {
      "image/png": "[encoded data removed]",
      "text/plain": [
       "<Figure size 936x288 with 2 Axes>"
      ]
     },
     "metadata": {
      "needs_background": "light"
     },
     "output_type": "display_data"
    }
   ],
   "source": [
    "import time\n",
    "\n",
    "for optimizer in ['rmsprop', 'adam', 'adagrad']:\n",
    "    start_time = time.time()\n",
    "    model = initialize_model()\n",
    "    model = compile_model(model, optimizer)\n",
    "\n",
    "    es = EarlyStopping(patience=10, restore_best_weights=True)\n",
    "\n",
    "    history = model.fit(X_train, y_train, \n",
    "                      batch_size=16, \n",
    "                      epochs=500, \n",
    "                      validation_split=0.3,\n",
    "                      callbacks=[es], verbose=0)\n",
    "\n",
    "    res = model.evaluate(X_test, y_test)[1]\n",
    "    end_time = time.time()\n",
    "\n",
    "    print(f'MAE with the {optimizer} optimizer: {res:.4f}  reached in {(end_time - start_time):.0f} s after {len(history.epoch)} epochs')\n",
    "    plot_loss_mae(history)"
   ]
  },
  {
   "cell_type": "markdown",
   "metadata": {},
   "source": [
    "❓ **Question** ❓ Are your predictions better than the benchmark model you've evaluated at the beginning of the notebook?"
   ]
  },
  {
   "cell_type": "markdown",
   "metadata": {},
   "source": [
    "❗ **Remark** ❗ \n",
    "- Here, the optimizer is may not be central as the data are in low dimensions and and there are not many samples. However, in practice, you are advised to start with the `adam` optimizer by default which often works best. \n",
    "\n",
    "- Internally, when you call any optimizer with a string, the neural network initializes the hyperparameters the optimizer relies on. Among this hyperparameters, there is quite an important one, the **`learning rate`**. This learning rate corresponds to the intensity of change of the weights at each optimization of the neural network. Different learning rates have different consequences, as shown here : \n",
    "\n",
    "<img src=\"learning_rate.png\" alt=\"Learning rate\" style=\"height:350px;\"/>\n",
    "\n",
    "\n",
    "As the learning rate is initialized with default values when you compile the model optimizer with a string, let's see how to do it differently.\n",
    "\n",
    "\n",
    "❓ **Question** ❓ Instead of initializing the optimizer with a string, we will initialize a real optimizer directly. Look at the documentation of [adam](https://www.tensorflow.org/api_docs/python/tf/keras/optimizers/Adam) and instantiate it with a learning rate of $0.1$ - keep the other values to their default values. Use this optimizer in the `compile_model` function, fit the data and plot the history"
   ]
  },
  {
   "cell_type": "code",
   "execution_count": 56,
   "metadata": {
    "tags": [
     "challengify"
    ]
   },
   "outputs": [
    {
     "name": "stdout",
     "output_type": "stream",
     "text": [
      "Epoch 1/100\n",
      "13/13 [==============================] - 2s 31ms/step - loss: 229.4254 - val_loss: 52.4664\n",
      "Epoch 2/100\n",
      "13/13 [==============================] - 0s 9ms/step - loss: 42.7738 - val_loss: 37.2912\n",
      "Epoch 3/100\n",
      "13/13 [==============================] - 0s 9ms/step - loss: 27.2219 - val_loss: 22.9749\n",
      "Epoch 4/100\n",
      "13/13 [==============================] - 0s 8ms/step - loss: 19.8483 - val_loss: 26.4141\n",
      "Epoch 5/100\n",
      "13/13 [==============================] - 0s 10ms/step - loss: 17.3940 - val_loss: 25.1633\n",
      "Epoch 6/100\n",
      "13/13 [==============================] - 0s 10ms/step - loss: 14.6378 - val_loss: 22.7766\n",
      "Epoch 7/100\n",
      "13/13 [==============================] - 0s 12ms/step - loss: 13.7197 - val_loss: 28.9482\n",
      "Epoch 8/100\n",
      "13/13 [==============================] - 0s 11ms/step - loss: 12.2943 - val_loss: 24.9483\n",
      "Epoch 9/100\n",
      "13/13 [==============================] - 0s 12ms/step - loss: 13.4239 - val_loss: 21.8967\n",
      "Epoch 10/100\n",
      "13/13 [==============================] - 0s 13ms/step - loss: 10.6007 - val_loss: 20.0917\n",
      "Epoch 11/100\n",
      "13/13 [==============================] - 0s 13ms/step - loss: 10.1093 - val_loss: 19.3403\n",
      "Epoch 12/100\n",
      "13/13 [==============================] - 0s 12ms/step - loss: 9.9443 - val_loss: 18.8811\n",
      "Epoch 13/100\n",
      "13/13 [==============================] - 0s 12ms/step - loss: 9.7073 - val_loss: 21.5151\n",
      "Epoch 14/100\n",
      "13/13 [==============================] - 0s 11ms/step - loss: 9.2786 - val_loss: 22.3194\n",
      "Epoch 15/100\n",
      "13/13 [==============================] - 0s 11ms/step - loss: 9.5411 - val_loss: 21.8100\n",
      "Epoch 16/100\n",
      "13/13 [==============================] - 0s 8ms/step - loss: 9.3607 - val_loss: 27.3109\n",
      "Epoch 17/100\n",
      "13/13 [==============================] - 0s 8ms/step - loss: 10.0867 - val_loss: 16.5630\n",
      "Epoch 18/100\n",
      "13/13 [==============================] - 0s 8ms/step - loss: 10.9585 - val_loss: 23.6385\n",
      "Epoch 19/100\n",
      "13/13 [==============================] - 0s 8ms/step - loss: 10.1888 - val_loss: 20.0632\n",
      "Epoch 20/100\n",
      "13/13 [==============================] - 0s 8ms/step - loss: 9.4225 - val_loss: 24.2398\n",
      "Epoch 21/100\n",
      "13/13 [==============================] - 0s 8ms/step - loss: 9.6599 - val_loss: 20.2432\n",
      "Epoch 22/100\n",
      "13/13 [==============================] - 0s 8ms/step - loss: 9.7931 - val_loss: 19.6140\n",
      "Epoch 23/100\n",
      "13/13 [==============================] - 0s 8ms/step - loss: 9.1266 - val_loss: 21.7975\n",
      "Epoch 24/100\n",
      "13/13 [==============================] - 0s 8ms/step - loss: 7.8059 - val_loss: 22.1466\n",
      "Epoch 25/100\n",
      "13/13 [==============================] - 0s 8ms/step - loss: 7.9344 - val_loss: 32.2399\n",
      "Epoch 26/100\n",
      "13/13 [==============================] - 0s 8ms/step - loss: 9.7484 - val_loss: 20.1241\n",
      "Epoch 27/100\n",
      "13/13 [==============================] - 0s 8ms/step - loss: 9.4627 - val_loss: 23.9204\n",
      "Epoch 28/100\n",
      "13/13 [==============================] - 0s 8ms/step - loss: 8.8138 - val_loss: 22.0773\n",
      "Epoch 29/100\n",
      "13/13 [==============================] - 0s 8ms/step - loss: 8.1772 - val_loss: 21.9021\n",
      "Epoch 30/100\n",
      "13/13 [==============================] - 0s 8ms/step - loss: 7.7892 - val_loss: 24.7945\n",
      "Epoch 31/100\n",
      "13/13 [==============================] - 0s 8ms/step - loss: 8.6279 - val_loss: 23.5853\n",
      "Epoch 32/100\n",
      "13/13 [==============================] - 0s 9ms/step - loss: 8.3000 - val_loss: 24.6682\n",
      "Epoch 33/100\n",
      "13/13 [==============================] - 0s 9ms/step - loss: 11.2393 - val_loss: 22.0959\n",
      "Epoch 34/100\n",
      "13/13 [==============================] - 0s 9ms/step - loss: 9.7226 - val_loss: 20.0763\n",
      "Epoch 35/100\n",
      "13/13 [==============================] - 0s 8ms/step - loss: 7.4187 - val_loss: 21.4987\n",
      "Epoch 36/100\n",
      "13/13 [==============================] - 0s 8ms/step - loss: 7.3550 - val_loss: 18.7774\n",
      "Epoch 37/100\n",
      "13/13 [==============================] - 0s 9ms/step - loss: 7.4981 - val_loss: 21.9946\n",
      "Epoch 38/100\n",
      "13/13 [==============================] - 0s 9ms/step - loss: 7.9104 - val_loss: 22.3129\n",
      "Epoch 39/100\n",
      "13/13 [==============================] - 0s 8ms/step - loss: 7.5049 - val_loss: 17.9033\n",
      "Epoch 40/100\n",
      "13/13 [==============================] - 0s 8ms/step - loss: 7.4213 - val_loss: 22.6492\n",
      "Epoch 41/100\n",
      "13/13 [==============================] - 0s 8ms/step - loss: 8.7284 - val_loss: 23.8957\n",
      "Epoch 42/100\n",
      "13/13 [==============================] - 0s 8ms/step - loss: 7.6115 - val_loss: 17.2296\n",
      "Epoch 43/100\n",
      "13/13 [==============================] - 0s 8ms/step - loss: 7.8128 - val_loss: 20.3522\n",
      "Epoch 44/100\n",
      "13/13 [==============================] - 0s 8ms/step - loss: 9.0524 - val_loss: 26.0693\n",
      "Epoch 45/100\n",
      "13/13 [==============================] - 0s 8ms/step - loss: 12.3759 - val_loss: 28.1070\n",
      "Epoch 46/100\n",
      "13/13 [==============================] - 0s 8ms/step - loss: 9.1601 - val_loss: 27.1743\n",
      "Epoch 47/100\n",
      "13/13 [==============================] - 0s 8ms/step - loss: 8.4897 - val_loss: 19.8874\n",
      "Epoch 48/100\n",
      "13/13 [==============================] - 0s 7ms/step - loss: 8.1012 - val_loss: 18.3306\n",
      "Epoch 49/100\n",
      "13/13 [==============================] - 0s 8ms/step - loss: 7.7632 - val_loss: 21.1546\n",
      "Epoch 50/100\n",
      "13/13 [==============================] - 0s 9ms/step - loss: 6.9442 - val_loss: 21.2731\n",
      "Epoch 51/100\n",
      "13/13 [==============================] - 0s 10ms/step - loss: 6.9417 - val_loss: 23.8130\n",
      "Epoch 52/100\n",
      "13/13 [==============================] - 0s 8ms/step - loss: 7.0371 - val_loss: 21.6739\n",
      "Epoch 53/100\n",
      "13/13 [==============================] - 0s 8ms/step - loss: 6.6730 - val_loss: 17.0294\n",
      "Epoch 54/100\n",
      "13/13 [==============================] - 0s 8ms/step - loss: 7.3768 - val_loss: 18.9129\n",
      "Epoch 55/100\n",
      "13/13 [==============================] - 0s 8ms/step - loss: 7.6282 - val_loss: 20.2806\n",
      "Epoch 56/100\n",
      "13/13 [==============================] - 0s 8ms/step - loss: 7.6153 - val_loss: 19.1783\n",
      "Epoch 57/100\n",
      "13/13 [==============================] - 0s 8ms/step - loss: 7.4405 - val_loss: 24.1442\n",
      "Epoch 58/100\n",
      "13/13 [==============================] - 0s 8ms/step - loss: 7.1681 - val_loss: 19.2632\n",
      "Epoch 59/100\n",
      "13/13 [==============================] - 0s 8ms/step - loss: 8.6091 - val_loss: 23.8679\n",
      "Epoch 60/100\n",
      "13/13 [==============================] - 0s 8ms/step - loss: 11.4117 - val_loss: 18.7683\n",
      "Epoch 61/100\n",
      "13/13 [==============================] - 0s 9ms/step - loss: 8.8556 - val_loss: 17.9456\n",
      "Epoch 62/100\n",
      "13/13 [==============================] - 0s 9ms/step - loss: 7.2855 - val_loss: 20.4006\n",
      "Epoch 63/100\n",
      "13/13 [==============================] - 0s 9ms/step - loss: 7.3991 - val_loss: 15.9480\n",
      "Epoch 64/100\n",
      "13/13 [==============================] - 0s 8ms/step - loss: 7.7236 - val_loss: 21.2041\n",
      "Epoch 65/100\n",
      "13/13 [==============================] - 0s 8ms/step - loss: 9.5697 - val_loss: 25.4444\n",
      "Epoch 66/100\n",
      "13/13 [==============================] - 0s 9ms/step - loss: 11.5885 - val_loss: 21.9027\n",
      "Epoch 67/100\n",
      "13/13 [==============================] - 0s 9ms/step - loss: 8.1383 - val_loss: 20.0317\n",
      "Epoch 68/100\n",
      "13/13 [==============================] - 0s 8ms/step - loss: 6.7199 - val_loss: 20.4248\n",
      "Epoch 69/100\n",
      "13/13 [==============================] - 0s 10ms/step - loss: 6.3075 - val_loss: 18.6439\n",
      "Epoch 70/100\n",
      "13/13 [==============================] - 0s 12ms/step - loss: 6.6302 - val_loss: 17.1573\n",
      "Epoch 71/100\n",
      "13/13 [==============================] - 0s 12ms/step - loss: 6.1803 - val_loss: 16.8854\n",
      "Epoch 72/100\n",
      "13/13 [==============================] - 0s 13ms/step - loss: 7.2160 - val_loss: 18.3355\n",
      "Epoch 73/100\n",
      "13/13 [==============================] - 0s 15ms/step - loss: 6.0931 - val_loss: 17.5807\n",
      "Epoch 74/100\n",
      "13/13 [==============================] - 0s 14ms/step - loss: 7.2707 - val_loss: 15.7418\n",
      "Epoch 75/100\n",
      "13/13 [==============================] - 0s 14ms/step - loss: 7.9169 - val_loss: 21.3649\n",
      "Epoch 76/100\n",
      "13/13 [==============================] - 0s 13ms/step - loss: 10.4102 - val_loss: 18.7019\n",
      "Epoch 77/100\n",
      "13/13 [==============================] - 0s 13ms/step - loss: 7.5758 - val_loss: 21.2345\n",
      "Epoch 78/100\n",
      "13/13 [==============================] - 0s 9ms/step - loss: 7.0763 - val_loss: 17.5740\n",
      "Epoch 79/100\n",
      "13/13 [==============================] - 0s 8ms/step - loss: 7.4886 - val_loss: 18.7294\n",
      "Epoch 80/100\n",
      "13/13 [==============================] - 0s 9ms/step - loss: 8.1664 - val_loss: 19.3863\n",
      "Epoch 81/100\n",
      "13/13 [==============================] - 0s 9ms/step - loss: 7.4247 - val_loss: 17.8697\n"
     ]
    },
    {
     "name": "stdout",
     "output_type": "stream",
     "text": [
      "Epoch 82/100\n",
      "13/13 [==============================] - 0s 9ms/step - loss: 7.1357 - val_loss: 16.1924\n",
      "Epoch 83/100\n",
      "13/13 [==============================] - 0s 9ms/step - loss: 6.3770 - val_loss: 17.5712\n",
      "Epoch 84/100\n",
      "13/13 [==============================] - 0s 9ms/step - loss: 6.2129 - val_loss: 16.3900\n",
      "Epoch 85/100\n",
      "13/13 [==============================] - 0s 9ms/step - loss: 6.5447 - val_loss: 18.1916\n",
      "Epoch 86/100\n",
      "13/13 [==============================] - 0s 14ms/step - loss: 6.6753 - val_loss: 15.6608\n",
      "Epoch 87/100\n",
      "13/13 [==============================] - 0s 13ms/step - loss: 6.6552 - val_loss: 19.0770\n",
      "Epoch 88/100\n",
      "13/13 [==============================] - 0s 12ms/step - loss: 6.4222 - val_loss: 16.1085\n",
      "Epoch 89/100\n",
      "13/13 [==============================] - 0s 15ms/step - loss: 6.8228 - val_loss: 19.2371\n",
      "Epoch 90/100\n",
      "13/13 [==============================] - 0s 12ms/step - loss: 10.2487 - val_loss: 18.1761\n",
      "Epoch 91/100\n",
      "13/13 [==============================] - 0s 14ms/step - loss: 8.8064 - val_loss: 24.2105\n",
      "Epoch 92/100\n",
      "13/13 [==============================] - 0s 12ms/step - loss: 8.6498 - val_loss: 18.8734\n",
      "Epoch 93/100\n",
      "13/13 [==============================] - 0s 14ms/step - loss: 7.5650 - val_loss: 18.8358\n",
      "Epoch 94/100\n",
      "13/13 [==============================] - 0s 14ms/step - loss: 8.2566 - val_loss: 17.5889\n",
      "Epoch 95/100\n",
      "13/13 [==============================] - 0s 12ms/step - loss: 8.1526 - val_loss: 18.4642\n",
      "Epoch 96/100\n",
      "13/13 [==============================] - 0s 14ms/step - loss: 8.2301 - val_loss: 18.8190\n",
      "Epoch 97/100\n",
      "13/13 [==============================] - 0s 13ms/step - loss: 8.6872 - val_loss: 19.0448\n",
      "Epoch 98/100\n",
      "13/13 [==============================] - 0s 13ms/step - loss: 6.8400 - val_loss: 18.2082\n",
      "Epoch 99/100\n",
      "13/13 [==============================] - 0s 14ms/step - loss: 5.3029 - val_loss: 21.0547\n",
      "Epoch 100/100\n",
      "13/13 [==============================] - 0s 13ms/step - loss: 8.2014 - val_loss: 19.6249\n"
     ]
    },
    {
     "data": {
      "image/png": "[encoded data removed]",
      "text/plain": [
       "<Figure size 432x288 with 1 Axes>"
      ]
     },
     "metadata": {
      "needs_background": "light"
     },
     "output_type": "display_data"
    }
   ],
   "source": [
    "# YOUR CODE HERE\n",
    "optimizer = Adam(learning_rate=0.1)\n",
    "\n",
    "#use the optimizer in the compile model\n",
    "model.compile(optimizer=optimizer, loss='mse')\n",
    "\n",
    "#fit the data\n",
    "history = model.fit(X_train, y_train, batch_size=32, epochs=100,\n",
    "                   validation_data=(X_test, y_test))\n",
    "\n",
    "#plot the history\n",
    "plt.plot(history.history['loss'])\n",
    "plt.plot(history.history['val_loss'])\n",
    "plt.title('Model loss')\n",
    "plt.ylabel('Loss')\n",
    "plt.xlabel('Epoch')\n",
    "plt.legend(['Train', 'Validation'], loc='upper right')\n",
    "plt.show()"
   ]
  },
  {
   "cell_type": "markdown",
   "metadata": {},
   "source": [
    "❓ **Question** ❓ Now, reproduce the same plots and results but for different learning rates.\n",
    "\n",
    "*Remark*: There is a chance that the y-axis is too large for you to visualize the results. In that case, rewrite the plot function to plot only the epochs > 10."
   ]
  },
  {
   "cell_type": "code",
   "execution_count": 61,
   "metadata": {},
   "outputs": [
    {
     "name": "stdout",
     "output_type": "stream",
     "text": [
      "Epoch 1/10\n",
      "13/13 [==============================] - 2s 41ms/step - loss: -326.2582 - accuracy: 0.0000e+00 - val_loss: -336.6793 - val_accuracy: 0.0000e+00\n",
      "Epoch 2/10\n",
      "13/13 [==============================] - 0s 9ms/step - loss: -326.2582 - accuracy: 0.0000e+00 - val_loss: -336.6793 - val_accuracy: 0.0000e+00\n",
      "Epoch 3/10\n",
      "13/13 [==============================] - 0s 8ms/step - loss: -326.2582 - accuracy: 0.0000e+00 - val_loss: -336.6793 - val_accuracy: 0.0000e+00\n",
      "Epoch 4/10\n",
      "13/13 [==============================] - 0s 8ms/step - loss: -326.2582 - accuracy: 0.0000e+00 - val_loss: -336.6793 - val_accuracy: 0.0000e+00\n",
      "Epoch 5/10\n",
      "13/13 [==============================] - 0s 9ms/step - loss: -326.2581 - accuracy: 0.0000e+00 - val_loss: -336.6793 - val_accuracy: 0.0000e+00\n",
      "Epoch 6/10\n",
      "13/13 [==============================] - 0s 9ms/step - loss: -326.2582 - accuracy: 0.0000e+00 - val_loss: -336.6793 - val_accuracy: 0.0000e+00\n",
      "Epoch 7/10\n",
      "13/13 [==============================] - 0s 10ms/step - loss: -326.2582 - accuracy: 0.0000e+00 - val_loss: -336.6793 - val_accuracy: 0.0000e+00\n",
      "Epoch 8/10\n",
      "13/13 [==============================] - 0s 12ms/step - loss: -326.2582 - accuracy: 0.0000e+00 - val_loss: -336.6793 - val_accuracy: 0.0000e+00\n",
      "Epoch 9/10\n",
      "13/13 [==============================] - 0s 13ms/step - loss: -326.2582 - accuracy: 0.0000e+00 - val_loss: -336.6793 - val_accuracy: 0.0000e+00\n",
      "Epoch 10/10\n",
      "13/13 [==============================] - 0s 13ms/step - loss: -326.2582 - accuracy: 0.0000e+00 - val_loss: -336.6793 - val_accuracy: 0.0000e+00\n"
     ]
    },
    {
     "data": {
      "image/png": "[encoded data removed]",
      "text/plain": [
       "<Figure size 432x288 with 1 Axes>"
      ]
     },
     "metadata": {
      "needs_background": "light"
     },
     "output_type": "display_data"
    },
    {
     "data": {
      "image/png": "[encoded data removed]",
      "text/plain": [
       "<Figure size 432x288 with 1 Axes>"
      ]
     },
     "metadata": {
      "needs_background": "light"
     },
     "output_type": "display_data"
    },
    {
     "name": "stdout",
     "output_type": "stream",
     "text": [
      "Epoch 1/10\n",
      "13/13 [==============================] - 3s 39ms/step - loss: -326.2582 - accuracy: 0.0000e+00 - val_loss: -336.6793 - val_accuracy: 0.0000e+00\n",
      "Epoch 2/10\n",
      "13/13 [==============================] - 0s 9ms/step - loss: -326.2582 - accuracy: 0.0000e+00 - val_loss: -336.6793 - val_accuracy: 0.0000e+00\n",
      "Epoch 3/10\n",
      "13/13 [==============================] - 0s 8ms/step - loss: -326.2582 - accuracy: 0.0000e+00 - val_loss: -336.6793 - val_accuracy: 0.0000e+00\n",
      "Epoch 4/10\n",
      "13/13 [==============================] - 0s 8ms/step - loss: -326.2582 - accuracy: 0.0000e+00 - val_loss: -336.6793 - val_accuracy: 0.0000e+00\n",
      "Epoch 5/10\n",
      "13/13 [==============================] - 0s 9ms/step - loss: -326.2582 - accuracy: 0.0000e+00 - val_loss: -336.6793 - val_accuracy: 0.0000e+00\n",
      "Epoch 6/10\n",
      "13/13 [==============================] - 0s 9ms/step - loss: -326.2582 - accuracy: 0.0000e+00 - val_loss: -336.6793 - val_accuracy: 0.0000e+00\n",
      "Epoch 7/10\n",
      "13/13 [==============================] - 0s 9ms/step - loss: -326.2582 - accuracy: 0.0000e+00 - val_loss: -336.6793 - val_accuracy: 0.0000e+00\n",
      "Epoch 8/10\n",
      "13/13 [==============================] - 0s 8ms/step - loss: -326.2582 - accuracy: 0.0000e+00 - val_loss: -336.6793 - val_accuracy: 0.0000e+00\n",
      "Epoch 9/10\n",
      "13/13 [==============================] - 0s 8ms/step - loss: -326.2582 - accuracy: 0.0000e+00 - val_loss: -336.6793 - val_accuracy: 0.0000e+00\n",
      "Epoch 10/10\n",
      "13/13 [==============================] - 0s 8ms/step - loss: -326.2582 - accuracy: 0.0000e+00 - val_loss: -336.6793 - val_accuracy: 0.0000e+00\n"
     ]
    },
    {
     "data": {
      "image/png": "[encoded data removed]",
      "text/plain": [
       "<Figure size 432x288 with 1 Axes>"
      ]
     },
     "metadata": {
      "needs_background": "light"
     },
     "output_type": "display_data"
    },
    {
     "data": {
      "image/png": "[encoded data removed]",
      "text/plain": [
       "<Figure size 432x288 with 1 Axes>"
      ]
     },
     "metadata": {
      "needs_background": "light"
     },
     "output_type": "display_data"
    },
    {
     "name": "stdout",
     "output_type": "stream",
     "text": [
      "Epoch 1/10\n",
      "13/13 [==============================] - 2s 40ms/step - loss: -326.2582 - accuracy: 0.0000e+00 - val_loss: -336.6793 - val_accuracy: 0.0000e+00\n",
      "Epoch 2/10\n",
      "13/13 [==============================] - 0s 9ms/step - loss: -326.2582 - accuracy: 0.0000e+00 - val_loss: -336.6793 - val_accuracy: 0.0000e+00\n",
      "Epoch 3/10\n",
      "13/13 [==============================] - 0s 9ms/step - loss: -326.2582 - accuracy: 0.0000e+00 - val_loss: -336.6793 - val_accuracy: 0.0000e+00\n",
      "Epoch 4/10\n",
      "13/13 [==============================] - 0s 9ms/step - loss: -326.2582 - accuracy: 0.0000e+00 - val_loss: -336.6793 - val_accuracy: 0.0000e+00\n",
      "Epoch 5/10\n",
      "13/13 [==============================] - 0s 9ms/step - loss: -326.2582 - accuracy: 0.0000e+00 - val_loss: -336.6793 - val_accuracy: 0.0000e+00\n",
      "Epoch 6/10\n",
      "13/13 [==============================] - 0s 8ms/step - loss: -326.2582 - accuracy: 0.0000e+00 - val_loss: -336.6793 - val_accuracy: 0.0000e+00\n",
      "Epoch 7/10\n",
      "13/13 [==============================] - 0s 9ms/step - loss: -326.2582 - accuracy: 0.0000e+00 - val_loss: -336.6793 - val_accuracy: 0.0000e+00\n",
      "Epoch 8/10\n",
      "13/13 [==============================] - 0s 8ms/step - loss: -326.2581 - accuracy: 0.0000e+00 - val_loss: -336.6793 - val_accuracy: 0.0000e+00\n",
      "Epoch 9/10\n",
      "13/13 [==============================] - 0s 8ms/step - loss: -326.2582 - accuracy: 0.0000e+00 - val_loss: -336.6793 - val_accuracy: 0.0000e+00\n",
      "Epoch 10/10\n",
      "13/13 [==============================] - 0s 9ms/step - loss: -326.2582 - accuracy: 0.0000e+00 - val_loss: -336.6793 - val_accuracy: 0.0000e+00\n"
     ]
    },
    {
     "data": {
      "image/png": "[encoded data removed]",
      "text/plain": [
       "<Figure size 432x288 with 1 Axes>"
      ]
     },
     "metadata": {
      "needs_background": "light"
     },
     "output_type": "display_data"
    },
    {
     "data": {
      "image/png": "[encoded data removed]",
      "text/plain": [
       "<Figure size 432x288 with 1 Axes>"
      ]
     },
     "metadata": {
      "needs_background": "light"
     },
     "output_type": "display_data"
    },
    {
     "name": "stdout",
     "output_type": "stream",
     "text": [
      "Epoch 1/10\n",
      "13/13 [==============================] - 2s 42ms/step - loss: -326.2582 - accuracy: 0.0000e+00 - val_loss: -336.6793 - val_accuracy: 0.0000e+00\n",
      "Epoch 2/10\n",
      "13/13 [==============================] - 0s 8ms/step - loss: -326.2582 - accuracy: 0.0000e+00 - val_loss: -336.6793 - val_accuracy: 0.0000e+00\n",
      "Epoch 3/10\n",
      "13/13 [==============================] - 0s 8ms/step - loss: -326.2582 - accuracy: 0.0000e+00 - val_loss: -336.6793 - val_accuracy: 0.0000e+00\n",
      "Epoch 4/10\n",
      "13/13 [==============================] - 0s 8ms/step - loss: -326.2582 - accuracy: 0.0000e+00 - val_loss: -336.6793 - val_accuracy: 0.0000e+00\n",
      "Epoch 5/10\n",
      "13/13 [==============================] - 0s 8ms/step - loss: -326.2582 - accuracy: 0.0000e+00 - val_loss: -336.6793 - val_accuracy: 0.0000e+00\n",
      "Epoch 6/10\n",
      "13/13 [==============================] - 0s 8ms/step - loss: -326.2582 - accuracy: 0.0000e+00 - val_loss: -336.6793 - val_accuracy: 0.0000e+00\n",
      "Epoch 7/10\n",
      "13/13 [==============================] - 0s 8ms/step - loss: -326.2582 - accuracy: 0.0000e+00 - val_loss: -336.6793 - val_accuracy: 0.0000e+00\n",
      "Epoch 8/10\n",
      "13/13 [==============================] - 0s 8ms/step - loss: -326.2582 - accuracy: 0.0000e+00 - val_loss: -336.6793 - val_accuracy: 0.0000e+00\n",
      "Epoch 9/10\n",
      "13/13 [==============================] - 0s 8ms/step - loss: -326.2582 - accuracy: 0.0000e+00 - val_loss: -336.6793 - val_accuracy: 0.0000e+00\n",
      "Epoch 10/10\n",
      "13/13 [==============================] - 0s 8ms/step - loss: -326.2582 - accuracy: 0.0000e+00 - val_loss: -336.6793 - val_accuracy: 0.0000e+00\n"
     ]
    },
    {
     "data": {
      "image/png": "[encoded data removed]",
      "text/plain": [
       "<Figure size 432x288 with 1 Axes>"
      ]
     },
     "metadata": {
      "needs_background": "light"
     },
     "output_type": "display_data"
    },
    {
     "data": {
      "image/png": "[encoded data removed]",
      "text/plain": [
       "<Figure size 432x288 with 1 Axes>"
      ]
     },
     "metadata": {
      "needs_background": "light"
     },
     "output_type": "display_data"
    },
    {
     "name": "stdout",
     "output_type": "stream",
     "text": [
      "Epoch 1/10\n",
      "13/13 [==============================] - 2s 39ms/step - loss: -326.2582 - accuracy: 0.0000e+00 - val_loss: -336.6793 - val_accuracy: 0.0000e+00\n",
      "Epoch 2/10\n",
      "13/13 [==============================] - 0s 8ms/step - loss: -326.2581 - accuracy: 0.0000e+00 - val_loss: -336.6793 - val_accuracy: 0.0000e+00\n",
      "Epoch 3/10\n",
      "13/13 [==============================] - 0s 8ms/step - loss: -326.2582 - accuracy: 0.0000e+00 - val_loss: -336.6793 - val_accuracy: 0.0000e+00\n",
      "Epoch 4/10\n",
      "13/13 [==============================] - 0s 8ms/step - loss: -326.2582 - accuracy: 0.0000e+00 - val_loss: -336.6793 - val_accuracy: 0.0000e+00\n",
      "Epoch 5/10\n",
      "13/13 [==============================] - 0s 8ms/step - loss: -326.2582 - accuracy: 0.0000e+00 - val_loss: -336.6793 - val_accuracy: 0.0000e+00\n",
      "Epoch 6/10\n",
      "13/13 [==============================] - 0s 8ms/step - loss: -326.2582 - accuracy: 0.0000e+00 - val_loss: -336.6793 - val_accuracy: 0.0000e+00\n",
      "Epoch 7/10\n",
      "13/13 [==============================] - 0s 8ms/step - loss: -326.2582 - accuracy: 0.0000e+00 - val_loss: -336.6793 - val_accuracy: 0.0000e+00\n",
      "Epoch 8/10\n",
      "13/13 [==============================] - 0s 8ms/step - loss: -326.2582 - accuracy: 0.0000e+00 - val_loss: -336.6793 - val_accuracy: 0.0000e+00\n",
      "Epoch 9/10\n",
      "13/13 [==============================] - 0s 8ms/step - loss: -326.2582 - accuracy: 0.0000e+00 - val_loss: -336.6793 - val_accuracy: 0.0000e+00\n",
      "Epoch 10/10\n",
      "13/13 [==============================] - 0s 8ms/step - loss: -326.2582 - accuracy: 0.0000e+00 - val_loss: -336.6793 - val_accuracy: 0.0000e+00\n"
     ]
    },
    {
     "data": {
      "image/png": "[encoded data removed]",
      "text/plain": [
       "<Figure size 432x288 with 1 Axes>"
      ]
     },
     "metadata": {
      "needs_background": "light"
     },
     "output_type": "display_data"
    },
    {
     "data": {
      "image/png": "[encoded data removed]",
      "text/plain": [
       "<Figure size 432x288 with 1 Axes>"
      ]
     },
     "metadata": {
      "needs_background": "light"
     },
     "output_type": "display_data"
    },
    {
     "name": "stdout",
     "output_type": "stream",
     "text": [
      "Epoch 1/10\n",
      "13/13 [==============================] - 2s 39ms/step - loss: -326.2582 - accuracy: 0.0000e+00 - val_loss: -336.6793 - val_accuracy: 0.0000e+00\n",
      "Epoch 2/10\n",
      "13/13 [==============================] - 0s 8ms/step - loss: -326.2582 - accuracy: 0.0000e+00 - val_loss: -336.6793 - val_accuracy: 0.0000e+00\n",
      "Epoch 3/10\n",
      "13/13 [==============================] - 0s 8ms/step - loss: -326.2581 - accuracy: 0.0000e+00 - val_loss: -336.6793 - val_accuracy: 0.0000e+00\n",
      "Epoch 4/10\n",
      "13/13 [==============================] - 0s 8ms/step - loss: -326.2582 - accuracy: 0.0000e+00 - val_loss: -336.6793 - val_accuracy: 0.0000e+00\n",
      "Epoch 5/10\n",
      "13/13 [==============================] - 0s 8ms/step - loss: -326.2582 - accuracy: 0.0000e+00 - val_loss: -336.6793 - val_accuracy: 0.0000e+00\n",
      "Epoch 6/10\n",
      "13/13 [==============================] - 0s 8ms/step - loss: -326.2582 - accuracy: 0.0000e+00 - val_loss: -336.6793 - val_accuracy: 0.0000e+00\n",
      "Epoch 7/10\n",
      "13/13 [==============================] - 0s 8ms/step - loss: -326.2582 - accuracy: 0.0000e+00 - val_loss: -336.6793 - val_accuracy: 0.0000e+00\n",
      "Epoch 8/10\n",
      "13/13 [==============================] - 0s 8ms/step - loss: -326.2582 - accuracy: 0.0000e+00 - val_loss: -336.6793 - val_accuracy: 0.0000e+00\n",
      "Epoch 9/10\n",
      "13/13 [==============================] - 0s 9ms/step - loss: -326.2582 - accuracy: 0.0000e+00 - val_loss: -336.6793 - val_accuracy: 0.0000e+00\n",
      "Epoch 10/10\n",
      "13/13 [==============================] - 0s 8ms/step - loss: -326.2582 - accuracy: 0.0000e+00 - val_loss: -336.6793 - val_accuracy: 0.0000e+00\n"
     ]
    },
    {
     "data": {
      "image/png": "[encoded data removed]",
      "text/plain": [
       "<Figure size 432x288 with 1 Axes>"
      ]
     },
     "metadata": {
      "needs_background": "light"
     },
     "output_type": "display_data"
    },
    {
     "data": {
      "image/png": "[encoded data removed]",
      "text/plain": [
       "<Figure size 432x288 with 1 Axes>"
      ]
     },
     "metadata": {
      "needs_background": "light"
     },
     "output_type": "display_data"
    }
   ],
   "source": [
    "learning_rates = [0.0001, 0.001, 0.01, 0.1, 1, 5]\n",
    "\n",
    "for lr in learning_rates:\n",
    "    optimizer = Adam(learning_rate=lr)\n",
    "    model.compile(optimizer=optimizer, loss='binary_crossentropy',\n",
    "                 metrics=['accuracy'])\n",
    "    history = model.fit(X_train, y_train, epochs=10, batch_size=32,\n",
    "                       validation_data=(X_test, y_test))\n",
    "    \n",
    "    plt.plot(history.history['accuracy'])\n",
    "    plt.plot(history.history['val_accuracy'])\n",
    "    plt.title('Model accuracy (lr=' + str(lr) + ')')\n",
    "    plt.ylabel('Accuracy')\n",
    "    plt.xlabel('Epoch')\n",
    "    plt.legend(['Train', 'Validation'], loc='upper left')\n",
    "    plt.show()\n",
    "\n",
    "    plt.plot(history.history['loss'])\n",
    "    plt.plot(history.history['val_loss'])\n",
    "    plt.title('Model loss (lr=' + str(lr) + ')')\n",
    "    plt.ylabel('Loss')\n",
    "    plt.xlabel('Epoch')\n",
    "    plt.legend(['Train', 'Validation'], loc='upper left')\n",
    "    plt.show() \n",
    "   "
   ]
  },
  {
   "cell_type": "markdown",
   "metadata": {},
   "source": [
    "# 3. The loss\n",
    "\n",
    "⚠️ It is important to **clearly understand the different between metrics and losses**. \n",
    "\n",
    "* The `loss functions` are computed *during* the training procedure\n",
    "* The `metrics` are computed *after* training your models !\n",
    "* Some metrics can be used as loss functions too... as long as they are differentiable ! (e.g. the *MSE*)\n",
    "\n",
    "❓ **Question** ❓ Run the same neural network, once with the `mae` as the loss, and once with the `mse`.  \n",
    "\n",
    "In both case, compare `mae_train`, `mae_val`, `mse_train`, `mse_val` and conclude."
   ]
  },
  {
   "cell_type": "code",
   "execution_count": 63,
   "metadata": {},
   "outputs": [],
   "source": [
    "# YOUR CODE HERE\n",
    "model.compile(optimizer='adam', loss='mae')\n",
    "\n",
    "model.compile(optimizer='adam', loss='mse')"
   ]
  },
  {
   "cell_type": "markdown",
   "metadata": {},
   "source": [
    "❗️ Countrary to first intuition, it can be sometimes better to use the MSE as the loss function in order to get the best MAE possible in the end!\n",
    "\n",
    "<details>\n",
    "    <summary>▶ Why?</summary>\n",
    "\n",
    "Well, even the Deep Learning research community is still trying to answer these types of questions rigorously.\n",
    "    \n",
    "One thing for sure: In Deep Learning, you will never really reach the \"global minimum\" of the true loss function (the one computed using your entire training set as one single \"batch\"). So, in your first model (minimizing the MAE loss), your global MAE minimum has clearly **not** been reached (otherwise you could never beat it). \n",
    "\n",
    "Why? It may well be that the minimization process of the second model has performed better. Maybe because the loss function \"energy map\" is \"smoother\" or more \"convex\" in the case of MSE loss? Or maybe your hyper-parameter are best suited to the MSE than to the MAE loss?\n",
    "\n",
    "</details>"
   ]
  },
  {
   "cell_type": "markdown",
   "metadata": {},
   "source": [
    "### 🧪 Test your model best performance\n",
    "\n",
    "❓ Save your best model performance on the test set at `mae_test` and check it out below"
   ]
  },
  {
   "cell_type": "code",
   "execution_count": 9,
   "metadata": {},
   "outputs": [],
   "source": [
    "\n",
    "# YOUR CODE HERE"
   ]
  },
  {
   "cell_type": "markdown",
   "metadata": {},
   "source": [
    "# 4 : Save and load a model\n",
    "\n",
    "❓ **Question** ❓  Save your model using `.save_model(model, 'name_of_my_model')` method that you can find [here](https://www.tensorflow.org/api_docs/python/tf/keras/models/save_model).."
   ]
  },
  {
   "cell_type": "markdown",
   "metadata": {},
   "source": [
    "❓ **Question** ❓ Now, in a variable that you will call `loaded_model`, load the model you just saved thanks to `.load_model('name_of_your_model')` [(documentation here)](https://www.tensorflow.org/api_docs/python/tf/keras/models/load_model), and evaluate it on the test data to check that it gives the same result as before."
   ]
  },
  {
   "cell_type": "code",
   "execution_count": 10,
   "metadata": {
    "tags": [
     "challengify"
    ]
   },
   "outputs": [],
   "source": [
    "# YOUR CODE"
   ]
  },
  {
   "cell_type": "markdown",
   "metadata": {},
   "source": [
    "## (Optional) `Exponential Decay` for the Optimizer's Learning Rate\n",
    "\n",
    "The next question is not essential and can be skipped as many algorithms can be run without such optimization. \n",
    "\n",
    "Instead of keeping a fixed learning rate, you can change it from one iteration to the other, with the intuition that at first, you need large learning rates, and as the neural network converges and get closer to the minimum loss value, you can decrease the value of the learning rate. This is called a **`scheduler`**. \n",
    "\n",
    "❓ **Question** ❓ Use the [Exponential Decay Scheduler](https://www.tensorflow.org/api_docs/python/tf/keras/optimizers/schedules/ExponentialDecay) in the `adam` optimizer and run it on the previous data. Start with the following:\n",
    "\n",
    "```python\n",
    "initial_learning_rate = 0.001 # start with default ADAM value\n",
    "\n",
    "lr_schedule = ExponentialDecay(\n",
    "    # Every 5000 iterations, multiply the learning rate by 0.7\n",
    "    initial_learning_rate, decay_steps=5000, decay_rate=0.7,\n",
    ")\n",
    "```"
   ]
  },
  {
   "cell_type": "code",
   "execution_count": 11,
   "metadata": {},
   "outputs": [],
   "source": [
    "# YOUR CODE HERE"
   ]
  },
  {
   "cell_type": "code",
   "execution_count": null,
   "metadata": {},
   "outputs": [],
   "source": []
  }
 ],
 "metadata": {
  "kernelspec": {
   "display_name": "Python 3 (ipykernel)",
   "language": "python",
   "name": "python3"
  },
  "language_info": {
   "codemirror_mode": {
    "name": "ipython",
    "version": 3
   },
   "file_extension": ".py",
   "mimetype": "text/x-python",
   "name": "python",
   "nbconvert_exporter": "python",
   "pygments_lexer": "ipython3",
   "version": "3.9.12"
  }
 },
 "nbformat": 4,
 "nbformat_minor": 2
}
