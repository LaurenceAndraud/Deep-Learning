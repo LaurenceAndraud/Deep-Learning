{
 "cells": [
  {
   "cell_type": "markdown",
   "metadata": {},
   "source": [
    "# Finetune your Neural Network\n",
    "\n",
    "**Exercise objectives:**\n",
    "- `Finetune` the model optimizer\n",
    "- `Save` and `Load` a `trained neural network`\n",
    "\n",
    "<hr>\n",
    "\n",
    "Now that you have solid foundations of what Neural Networks, how to design their architecture and how to regularize them, let's take a closer look at the `.compile(loss = ..., metrics = ..., activation = ...)` part.\n",
    "\n",
    "# Data\n",
    "\n",
    "We will use the data from the `Boston Housing dataset`. \n",
    "\n",
    "Our goal is to `predict the values of the houses` (in k USD), and we will measure our models' performances  using the `Mean Absolute Error` metrics"
   ]
  },
  {
   "cell_type": "code",
   "execution_count": 3,
   "metadata": {},
   "outputs": [],
   "source": [
    "import numpy as np\n",
    "import pandas as pd\n",
    "from tensorflow.keras.datasets import boston_housing\n",
    "import matplotlib.pyplot as plt\n",
    "import seaborn as sns\n",
    "%matplotlib inline"
   ]
  },
  {
   "cell_type": "code",
   "execution_count": 4,
   "metadata": {},
   "outputs": [
    {
     "data": {
      "text/plain": [
       "<AxesSubplot:ylabel='Count'>"
      ]
     },
     "execution_count": 4,
     "metadata": {},
     "output_type": "execute_result"
    },
    {
     "data": {
      "image/png": "[encoded data removed]",
      "text/plain": [
       "<Figure size 432x288 with 1 Axes>"
      ]
     },
     "metadata": {
      "needs_background": "light"
     },
     "output_type": "display_data"
    }
   ],
   "source": [
    "(X_train, y_train), (X_test, y_test) = boston_housing.load_data()\n",
    "X_train.shape\n",
    "sns.histplot(y_train)"
   ]
  },
  {
   "cell_type": "code",
   "execution_count": 5,
   "metadata": {},
   "outputs": [
    {
     "name": "stdout",
     "output_type": "stream",
     "text": [
      "<class 'pandas.core.frame.DataFrame'>\n",
      "RangeIndex: 404 entries, 0 to 403\n",
      "Data columns (total 13 columns):\n",
      " #   Column  Non-Null Count  Dtype  \n",
      "---  ------  --------------  -----  \n",
      " 0   0       404 non-null    float64\n",
      " 1   1       404 non-null    float64\n",
      " 2   2       404 non-null    float64\n",
      " 3   3       404 non-null    float64\n",
      " 4   4       404 non-null    float64\n",
      " 5   5       404 non-null    float64\n",
      " 6   6       404 non-null    float64\n",
      " 7   7       404 non-null    float64\n",
      " 8   8       404 non-null    float64\n",
      " 9   9       404 non-null    float64\n",
      " 10  10      404 non-null    float64\n",
      " 11  11      404 non-null    float64\n",
      " 12  12      404 non-null    float64\n",
      "dtypes: float64(13)\n",
      "memory usage: 41.2 KB\n"
     ]
    }
   ],
   "source": [
    "pd.DataFrame(X_train).info()"
   ]
  },
  {
   "cell_type": "code",
   "execution_count": 6,
   "metadata": {},
   "outputs": [
    {
     "data": {
      "text/html": [
       "<div>\n",
       "<style scoped>\n",
       "    .dataframe tbody tr th:only-of-type {\n",
       "        vertical-align: middle;\n",
       "    }\n",
       "\n",
       "    .dataframe tbody tr th {\n",
       "        vertical-align: top;\n",
       "    }\n",
       "\n",
       "    .dataframe thead th {\n",
       "        text-align: right;\n",
       "    }\n",
       "</style>\n",
       "<table border=\"1\" class=\"dataframe\">\n",
       "  <thead>\n",
       "    <tr style=\"text-align: right;\">\n",
       "      <th></th>\n",
       "      <th>0</th>\n",
       "      <th>1</th>\n",
       "      <th>2</th>\n",
       "      <th>3</th>\n",
       "      <th>4</th>\n",
       "      <th>5</th>\n",
       "      <th>6</th>\n",
       "      <th>7</th>\n",
       "      <th>8</th>\n",
       "      <th>9</th>\n",
       "      <th>10</th>\n",
       "      <th>11</th>\n",
       "      <th>12</th>\n",
       "    </tr>\n",
       "  </thead>\n",
       "  <tbody>\n",
       "    <tr>\n",
       "      <th>count</th>\n",
       "      <td>404.000000</td>\n",
       "      <td>404.000000</td>\n",
       "      <td>404.000000</td>\n",
       "      <td>404.000000</td>\n",
       "      <td>404.000000</td>\n",
       "      <td>404.000000</td>\n",
       "      <td>404.000000</td>\n",
       "      <td>404.000000</td>\n",
       "      <td>404.000000</td>\n",
       "      <td>404.000000</td>\n",
       "      <td>404.000000</td>\n",
       "      <td>404.000000</td>\n",
       "      <td>404.000000</td>\n",
       "    </tr>\n",
       "    <tr>\n",
       "      <th>mean</th>\n",
       "      <td>3.745111</td>\n",
       "      <td>11.480198</td>\n",
       "      <td>11.104431</td>\n",
       "      <td>0.061881</td>\n",
       "      <td>0.557356</td>\n",
       "      <td>6.267082</td>\n",
       "      <td>69.010644</td>\n",
       "      <td>3.740271</td>\n",
       "      <td>9.440594</td>\n",
       "      <td>405.898515</td>\n",
       "      <td>18.475990</td>\n",
       "      <td>354.783168</td>\n",
       "      <td>12.740817</td>\n",
       "    </tr>\n",
       "    <tr>\n",
       "      <th>std</th>\n",
       "      <td>9.240734</td>\n",
       "      <td>23.767711</td>\n",
       "      <td>6.811308</td>\n",
       "      <td>0.241238</td>\n",
       "      <td>0.117293</td>\n",
       "      <td>0.709788</td>\n",
       "      <td>27.940665</td>\n",
       "      <td>2.030215</td>\n",
       "      <td>8.698360</td>\n",
       "      <td>166.374543</td>\n",
       "      <td>2.200382</td>\n",
       "      <td>94.111148</td>\n",
       "      <td>7.254545</td>\n",
       "    </tr>\n",
       "    <tr>\n",
       "      <th>min</th>\n",
       "      <td>0.006320</td>\n",
       "      <td>0.000000</td>\n",
       "      <td>0.460000</td>\n",
       "      <td>0.000000</td>\n",
       "      <td>0.385000</td>\n",
       "      <td>3.561000</td>\n",
       "      <td>2.900000</td>\n",
       "      <td>1.129600</td>\n",
       "      <td>1.000000</td>\n",
       "      <td>188.000000</td>\n",
       "      <td>12.600000</td>\n",
       "      <td>0.320000</td>\n",
       "      <td>1.730000</td>\n",
       "    </tr>\n",
       "    <tr>\n",
       "      <th>25%</th>\n",
       "      <td>0.081437</td>\n",
       "      <td>0.000000</td>\n",
       "      <td>5.130000</td>\n",
       "      <td>0.000000</td>\n",
       "      <td>0.453000</td>\n",
       "      <td>5.874750</td>\n",
       "      <td>45.475000</td>\n",
       "      <td>2.077100</td>\n",
       "      <td>4.000000</td>\n",
       "      <td>279.000000</td>\n",
       "      <td>17.225000</td>\n",
       "      <td>374.672500</td>\n",
       "      <td>6.890000</td>\n",
       "    </tr>\n",
       "    <tr>\n",
       "      <th>50%</th>\n",
       "      <td>0.268880</td>\n",
       "      <td>0.000000</td>\n",
       "      <td>9.690000</td>\n",
       "      <td>0.000000</td>\n",
       "      <td>0.538000</td>\n",
       "      <td>6.198500</td>\n",
       "      <td>78.500000</td>\n",
       "      <td>3.142300</td>\n",
       "      <td>5.000000</td>\n",
       "      <td>330.000000</td>\n",
       "      <td>19.100000</td>\n",
       "      <td>391.250000</td>\n",
       "      <td>11.395000</td>\n",
       "    </tr>\n",
       "    <tr>\n",
       "      <th>75%</th>\n",
       "      <td>3.674808</td>\n",
       "      <td>12.500000</td>\n",
       "      <td>18.100000</td>\n",
       "      <td>0.000000</td>\n",
       "      <td>0.631000</td>\n",
       "      <td>6.609000</td>\n",
       "      <td>94.100000</td>\n",
       "      <td>5.118000</td>\n",
       "      <td>24.000000</td>\n",
       "      <td>666.000000</td>\n",
       "      <td>20.200000</td>\n",
       "      <td>396.157500</td>\n",
       "      <td>17.092500</td>\n",
       "    </tr>\n",
       "    <tr>\n",
       "      <th>max</th>\n",
       "      <td>88.976200</td>\n",
       "      <td>100.000000</td>\n",
       "      <td>27.740000</td>\n",
       "      <td>1.000000</td>\n",
       "      <td>0.871000</td>\n",
       "      <td>8.725000</td>\n",
       "      <td>100.000000</td>\n",
       "      <td>10.710300</td>\n",
       "      <td>24.000000</td>\n",
       "      <td>711.000000</td>\n",
       "      <td>22.000000</td>\n",
       "      <td>396.900000</td>\n",
       "      <td>37.970000</td>\n",
       "    </tr>\n",
       "  </tbody>\n",
       "</table>\n",
       "</div>"
      ],
      "text/plain": [
       "               0           1           2           3           4           5   \\\n",
       "count  404.000000  404.000000  404.000000  404.000000  404.000000  404.000000   \n",
       "mean     3.745111   11.480198   11.104431    0.061881    0.557356    6.267082   \n",
       "std      9.240734   23.767711    6.811308    0.241238    0.117293    0.709788   \n",
       "min      0.006320    0.000000    0.460000    0.000000    0.385000    3.561000   \n",
       "25%      0.081437    0.000000    5.130000    0.000000    0.453000    5.874750   \n",
       "50%      0.268880    0.000000    9.690000    0.000000    0.538000    6.198500   \n",
       "75%      3.674808   12.500000   18.100000    0.000000    0.631000    6.609000   \n",
       "max     88.976200  100.000000   27.740000    1.000000    0.871000    8.725000   \n",
       "\n",
       "               6           7           8           9           10          11  \\\n",
       "count  404.000000  404.000000  404.000000  404.000000  404.000000  404.000000   \n",
       "mean    69.010644    3.740271    9.440594  405.898515   18.475990  354.783168   \n",
       "std     27.940665    2.030215    8.698360  166.374543    2.200382   94.111148   \n",
       "min      2.900000    1.129600    1.000000  188.000000   12.600000    0.320000   \n",
       "25%     45.475000    2.077100    4.000000  279.000000   17.225000  374.672500   \n",
       "50%     78.500000    3.142300    5.000000  330.000000   19.100000  391.250000   \n",
       "75%     94.100000    5.118000   24.000000  666.000000   20.200000  396.157500   \n",
       "max    100.000000   10.710300   24.000000  711.000000   22.000000  396.900000   \n",
       "\n",
       "               12  \n",
       "count  404.000000  \n",
       "mean    12.740817  \n",
       "std      7.254545  \n",
       "min      1.730000  \n",
       "25%      6.890000  \n",
       "50%     11.395000  \n",
       "75%     17.092500  \n",
       "max     37.970000  "
      ]
     },
     "execution_count": 6,
     "metadata": {},
     "output_type": "execute_result"
    }
   ],
   "source": [
    "pd.DataFrame(X_train).describe()"
   ]
  },
  {
   "cell_type": "markdown",
   "metadata": {},
   "source": [
    "❓ **Question** ❓ Standardize `X_train` and `X_test` set without data leakage, and replace them keeping similar variable names"
   ]
  },
  {
   "cell_type": "code",
   "execution_count": 7,
   "metadata": {},
   "outputs": [],
   "source": [
    "from sklearn.preprocessing import StandardScaler\n",
    "\n",
    "scaler = StandardScaler()\n",
    "scaler.fit(X_train)\n",
    "X_train = scaler.transform(X_train)\n",
    "X_test = scaler.transform(X_test)"
   ]
  },
  {
   "cell_type": "markdown",
   "metadata": {},
   "source": [
    "❓ **Question** ❓ To get a sense of a benchmark score you have to beat, what is the mean absolute error on the test set if your dumb prediction corresponds to the mean value of $y$ computed on the train set?"
   ]
  },
  {
   "cell_type": "code",
   "execution_count": 8,
   "metadata": {},
   "outputs": [],
   "source": [
    "from sklearn.metrics import mean_absolute_error\n",
    "\n",
    "y_train_mean = y_train.mean()\n",
    "y_test_predictions = [y_train_mean] * len(y_test)\n",
    "test_mae = mean_absolute_error(y_test, y_test_predictions)"
   ]
  },
  {
   "cell_type": "markdown",
   "metadata": {},
   "source": [
    "# 1. The model\n",
    "\n",
    "❓ **Question** ❓ Now, write a function `initialize_model` that generates a neural network with 3 layers: \n",
    "- a layer with 10 neurons and the `relu` activation function (choose the appropriate input dimension)\n",
    "- a layer with 7 neurons and the `relu` activation function\n",
    "- an appropriate layer corresponding to the problem at hand"
   ]
  },
  {
   "cell_type": "code",
   "execution_count": 9,
   "metadata": {},
   "outputs": [],
   "source": [
    "from tensorflow.keras import models\n",
    "from tensorflow.keras import layers\n",
    "from keras.models import Sequential\n",
    "from keras.layers import Dense, Activation\n",
    "\n",
    "def initialize_model():\n",
    "    model = Sequential()\n",
    "    model.add(Dense(10, input_dim=13, activation='relu'))\n",
    "    model.add(Dense(7, activation='relu'))\n",
    "    model.add(Dense(1))\n",
    "    \n",
    "    return model\n",
    "\n",
    "model = initialize_model()"
   ]
  },
  {
   "cell_type": "markdown",
   "metadata": {},
   "source": [
    "# 2. The optimizer\n",
    "\n",
    "❓ **Question** ❓ Write a function that :\n",
    "* takes as arguments a model and an optimizer, \n",
    "* `compiles` the model,\n",
    "* and returns the compiled model\n",
    "\n",
    "Please select the `loss function` to be optimized and  the `metrics` on which the model should be evaluated wisely."
   ]
  },
  {
   "cell_type": "code",
   "execution_count": 10,
   "metadata": {},
   "outputs": [
    {
     "name": "stdout",
     "output_type": "stream",
     "text": [
      "Epoch 1/100\n",
      "13/13 [==============================] - 2s 4ms/step - loss: 581.6158\n",
      "Epoch 2/100\n",
      "13/13 [==============================] - 0s 3ms/step - loss: 575.8728\n",
      "Epoch 3/100\n",
      "13/13 [==============================] - 0s 4ms/step - loss: 569.9608\n",
      "Epoch 4/100\n",
      "13/13 [==============================] - 0s 4ms/step - loss: 563.2673\n",
      "Epoch 5/100\n",
      "13/13 [==============================] - 0s 3ms/step - loss: 555.5812\n",
      "Epoch 6/100\n",
      "13/13 [==============================] - 0s 2ms/step - loss: 546.3304\n",
      "Epoch 7/100\n",
      "13/13 [==============================] - 0s 3ms/step - loss: 535.7362\n",
      "Epoch 8/100\n",
      "13/13 [==============================] - 0s 3ms/step - loss: 522.8832\n",
      "Epoch 9/100\n",
      "13/13 [==============================] - 0s 3ms/step - loss: 508.5107\n",
      "Epoch 10/100\n",
      "13/13 [==============================] - 0s 4ms/step - loss: 491.3354\n",
      "Epoch 11/100\n",
      "13/13 [==============================] - 0s 3ms/step - loss: 472.0537\n",
      "Epoch 12/100\n",
      "13/13 [==============================] - 0s 3ms/step - loss: 450.2747\n",
      "Epoch 13/100\n",
      "13/13 [==============================] - 0s 3ms/step - loss: 425.1653\n",
      "Epoch 14/100\n",
      "13/13 [==============================] - 0s 2ms/step - loss: 397.9821\n",
      "Epoch 15/100\n",
      "13/13 [==============================] - 0s 3ms/step - loss: 368.9176\n",
      "Epoch 16/100\n",
      "13/13 [==============================] - 0s 3ms/step - loss: 336.7813\n",
      "Epoch 17/100\n",
      "13/13 [==============================] - 0s 3ms/step - loss: 305.5379\n",
      "Epoch 18/100\n",
      "13/13 [==============================] - 0s 3ms/step - loss: 272.9930\n",
      "Epoch 19/100\n",
      "13/13 [==============================] - 0s 3ms/step - loss: 240.7752\n",
      "Epoch 20/100\n",
      "13/13 [==============================] - 0s 2ms/step - loss: 210.6314\n",
      "Epoch 21/100\n",
      "13/13 [==============================] - 0s 3ms/step - loss: 183.3777\n",
      "Epoch 22/100\n",
      "13/13 [==============================] - 0s 3ms/step - loss: 159.6491\n",
      "Epoch 23/100\n",
      "13/13 [==============================] - 0s 3ms/step - loss: 138.6355\n",
      "Epoch 24/100\n",
      "13/13 [==============================] - 0s 3ms/step - loss: 121.7943\n",
      "Epoch 25/100\n",
      "13/13 [==============================] - 0s 3ms/step - loss: 107.7857\n",
      "Epoch 26/100\n",
      "13/13 [==============================] - 0s 2ms/step - loss: 96.1943\n",
      "Epoch 27/100\n",
      "13/13 [==============================] - 0s 3ms/step - loss: 86.7445\n",
      "Epoch 28/100\n",
      "13/13 [==============================] - 0s 3ms/step - loss: 79.1078\n",
      "Epoch 29/100\n",
      "13/13 [==============================] - 0s 2ms/step - loss: 71.7880\n",
      "Epoch 30/100\n",
      "13/13 [==============================] - 0s 3ms/step - loss: 66.1566\n",
      "Epoch 31/100\n",
      "13/13 [==============================] - 0s 3ms/step - loss: 61.4905\n",
      "Epoch 32/100\n",
      "13/13 [==============================] - 0s 3ms/step - loss: 57.7913\n",
      "Epoch 33/100\n",
      "13/13 [==============================] - 0s 3ms/step - loss: 54.5438\n",
      "Epoch 34/100\n",
      "13/13 [==============================] - 0s 3ms/step - loss: 51.5010\n",
      "Epoch 35/100\n",
      "13/13 [==============================] - 0s 3ms/step - loss: 49.1635\n",
      "Epoch 36/100\n",
      "13/13 [==============================] - 0s 3ms/step - loss: 46.9199\n",
      "Epoch 37/100\n",
      "13/13 [==============================] - 0s 3ms/step - loss: 44.9559\n",
      "Epoch 38/100\n",
      "13/13 [==============================] - 0s 3ms/step - loss: 43.1853\n",
      "Epoch 39/100\n",
      "13/13 [==============================] - 0s 3ms/step - loss: 41.7260\n",
      "Epoch 40/100\n",
      "13/13 [==============================] - 0s 2ms/step - loss: 40.2114\n",
      "Epoch 41/100\n",
      "13/13 [==============================] - 0s 3ms/step - loss: 38.9761\n",
      "Epoch 42/100\n",
      "13/13 [==============================] - 0s 3ms/step - loss: 37.8993\n",
      "Epoch 43/100\n",
      "13/13 [==============================] - 0s 3ms/step - loss: 36.8064\n",
      "Epoch 44/100\n",
      "13/13 [==============================] - 0s 3ms/step - loss: 35.8880\n",
      "Epoch 45/100\n",
      "13/13 [==============================] - 0s 4ms/step - loss: 35.0586\n",
      "Epoch 46/100\n",
      "13/13 [==============================] - 0s 4ms/step - loss: 34.2465\n",
      "Epoch 47/100\n",
      "13/13 [==============================] - 0s 3ms/step - loss: 33.5001\n",
      "Epoch 48/100\n",
      "13/13 [==============================] - 0s 3ms/step - loss: 32.7802\n",
      "Epoch 49/100\n",
      "13/13 [==============================] - 0s 4ms/step - loss: 32.1072\n",
      "Epoch 50/100\n",
      "13/13 [==============================] - 0s 4ms/step - loss: 31.5230\n",
      "Epoch 51/100\n",
      "13/13 [==============================] - 0s 4ms/step - loss: 30.9728\n",
      "Epoch 52/100\n",
      "13/13 [==============================] - 0s 5ms/step - loss: 30.4019\n",
      "Epoch 53/100\n",
      "13/13 [==============================] - 0s 5ms/step - loss: 29.9301\n",
      "Epoch 54/100\n",
      "13/13 [==============================] - 0s 5ms/step - loss: 29.4463\n",
      "Epoch 55/100\n",
      "13/13 [==============================] - 0s 4ms/step - loss: 29.0314\n",
      "Epoch 56/100\n",
      "13/13 [==============================] - 0s 3ms/step - loss: 28.6173\n",
      "Epoch 57/100\n",
      "13/13 [==============================] - 0s 4ms/step - loss: 28.1603\n",
      "Epoch 58/100\n",
      "13/13 [==============================] - 0s 4ms/step - loss: 27.7614\n",
      "Epoch 59/100\n",
      "13/13 [==============================] - 0s 4ms/step - loss: 27.3941\n",
      "Epoch 60/100\n",
      "13/13 [==============================] - 0s 3ms/step - loss: 27.0124\n",
      "Epoch 61/100\n",
      "13/13 [==============================] - 0s 4ms/step - loss: 26.6645\n",
      "Epoch 62/100\n",
      "13/13 [==============================] - 0s 5ms/step - loss: 26.3149\n",
      "Epoch 63/100\n",
      "13/13 [==============================] - 0s 4ms/step - loss: 26.0156\n",
      "Epoch 64/100\n",
      "13/13 [==============================] - 0s 4ms/step - loss: 25.6409\n",
      "Epoch 65/100\n",
      "13/13 [==============================] - 0s 4ms/step - loss: 25.3758\n",
      "Epoch 66/100\n",
      "13/13 [==============================] - 0s 4ms/step - loss: 25.0459\n",
      "Epoch 67/100\n",
      "13/13 [==============================] - 0s 4ms/step - loss: 24.8173\n",
      "Epoch 68/100\n",
      "13/13 [==============================] - 0s 4ms/step - loss: 24.4876\n",
      "Epoch 69/100\n",
      "13/13 [==============================] - 0s 5ms/step - loss: 24.3080\n",
      "Epoch 70/100\n",
      "13/13 [==============================] - 0s 5ms/step - loss: 23.9534\n",
      "Epoch 71/100\n",
      "13/13 [==============================] - 0s 4ms/step - loss: 23.7427\n",
      "Epoch 72/100\n",
      "13/13 [==============================] - 0s 3ms/step - loss: 23.5020\n",
      "Epoch 73/100\n",
      "13/13 [==============================] - 0s 4ms/step - loss: 23.2513\n",
      "Epoch 74/100\n",
      "13/13 [==============================] - 0s 4ms/step - loss: 22.9994\n",
      "Epoch 75/100\n",
      "13/13 [==============================] - 0s 3ms/step - loss: 22.7876\n",
      "Epoch 76/100\n",
      "13/13 [==============================] - 0s 4ms/step - loss: 22.5738\n",
      "Epoch 77/100\n",
      "13/13 [==============================] - 0s 3ms/step - loss: 22.3831\n",
      "Epoch 78/100\n",
      "13/13 [==============================] - 0s 5ms/step - loss: 22.1689\n",
      "Epoch 79/100\n",
      "13/13 [==============================] - 0s 4ms/step - loss: 22.0220\n",
      "Epoch 80/100\n",
      "13/13 [==============================] - 0s 4ms/step - loss: 21.7846\n",
      "Epoch 81/100\n",
      "13/13 [==============================] - 0s 4ms/step - loss: 21.6176\n",
      "Epoch 82/100\n",
      "13/13 [==============================] - 0s 4ms/step - loss: 21.4504\n",
      "Epoch 83/100\n",
      "13/13 [==============================] - 0s 4ms/step - loss: 21.3308\n",
      "Epoch 84/100\n",
      "13/13 [==============================] - 0s 4ms/step - loss: 21.0970\n",
      "Epoch 85/100\n",
      "13/13 [==============================] - 0s 4ms/step - loss: 20.9721\n",
      "Epoch 86/100\n",
      "13/13 [==============================] - 0s 4ms/step - loss: 20.7820\n",
      "Epoch 87/100\n",
      "13/13 [==============================] - 0s 4ms/step - loss: 20.5938\n",
      "Epoch 88/100\n",
      "13/13 [==============================] - 0s 4ms/step - loss: 20.4208\n",
      "Epoch 89/100\n",
      "13/13 [==============================] - 0s 4ms/step - loss: 20.2802\n",
      "Epoch 90/100\n",
      "13/13 [==============================] - 0s 4ms/step - loss: 20.0936\n",
      "Epoch 91/100\n",
      "13/13 [==============================] - 0s 3ms/step - loss: 19.9498\n",
      "Epoch 92/100\n",
      "13/13 [==============================] - 0s 4ms/step - loss: 19.7698\n",
      "Epoch 93/100\n",
      "13/13 [==============================] - 0s 4ms/step - loss: 19.6051\n",
      "Epoch 94/100\n",
      "13/13 [==============================] - 0s 4ms/step - loss: 19.4302\n",
      "Epoch 95/100\n",
      "13/13 [==============================] - 0s 4ms/step - loss: 19.2865\n",
      "Epoch 96/100\n",
      "13/13 [==============================] - 0s 4ms/step - loss: 19.1124\n",
      "Epoch 97/100\n",
      "13/13 [==============================] - 0s 4ms/step - loss: 18.9927\n",
      "Epoch 98/100\n",
      "13/13 [==============================] - 0s 4ms/step - loss: 18.8158\n",
      "Epoch 99/100\n",
      "13/13 [==============================] - 0s 4ms/step - loss: 18.6708\n",
      "Epoch 100/100\n"
     ]
    },
    {
     "name": "stdout",
     "output_type": "stream",
     "text": [
      "13/13 [==============================] - 0s 4ms/step - loss: 18.5177\n",
      "Model: \"sequential\"\n",
      "_________________________________________________________________\n",
      " Layer (type)                Output Shape              Param #   \n",
      "=================================================================\n",
      " dense (Dense)               (None, 10)                140       \n",
      "                                                                 \n",
      " dense_1 (Dense)             (None, 7)                 77        \n",
      "                                                                 \n",
      " dense_2 (Dense)             (None, 1)                 8         \n",
      "                                                                 \n",
      "=================================================================\n",
      "Total params: 225\n",
      "Trainable params: 225\n",
      "Non-trainable params: 0\n",
      "_________________________________________________________________\n",
      "None\n"
     ]
    }
   ],
   "source": [
    "from tensorflow.keras.optimizers import Adam\n",
    "\n",
    "\n",
    "def compile_model(model, optimizer_name):\n",
    "    model.compile(loss='mean_absolute_error', \n",
    "                  optimizer=optimizer_name,\n",
    "                 metrics=['mae'])\n",
    "  \n",
    "    return model\n",
    "\n",
    "model.compile(optimizer=Adam(), loss='mse')\n",
    "model.fit(X_train, y_train, epochs=100)\n",
    "print(model.summary())"
   ]
  },
  {
   "cell_type": "markdown",
   "metadata": {},
   "source": [
    "❓ **Question** ❓ Initialize the model, compile it with the `adam` optimizer and fit it on the data. \n",
    "- Evaluate your model using an Early Stopping criterion."
   ]
  },
  {
   "cell_type": "code",
   "execution_count": 11,
   "metadata": {
    "scrolled": true
   },
   "outputs": [
    {
     "name": "stdout",
     "output_type": "stream",
     "text": [
      "Epoch 1/100\n",
      "13/13 [==============================] - 0s 39ms/step - loss: 18.3838 - val_loss: 24.6857\n",
      "Epoch 2/100\n",
      "13/13 [==============================] - 0s 8ms/step - loss: 18.2342 - val_loss: 24.5404\n",
      "Epoch 3/100\n",
      "13/13 [==============================] - 0s 8ms/step - loss: 18.0835 - val_loss: 24.4773\n",
      "Epoch 4/100\n",
      "13/13 [==============================] - 0s 8ms/step - loss: 17.9629 - val_loss: 24.3517\n",
      "Epoch 5/100\n",
      "13/13 [==============================] - 0s 9ms/step - loss: 17.7918 - val_loss: 24.1352\n",
      "Epoch 6/100\n",
      "13/13 [==============================] - 0s 9ms/step - loss: 17.6848 - val_loss: 24.0573\n",
      "Epoch 7/100\n",
      "13/13 [==============================] - 0s 8ms/step - loss: 17.5694 - val_loss: 24.0299\n",
      "Epoch 8/100\n",
      "13/13 [==============================] - 0s 9ms/step - loss: 17.4173 - val_loss: 24.0008\n",
      "Epoch 9/100\n",
      "13/13 [==============================] - 0s 8ms/step - loss: 17.2983 - val_loss: 24.0103\n",
      "Epoch 10/100\n",
      "13/13 [==============================] - 0s 8ms/step - loss: 17.1521 - val_loss: 23.8874\n",
      "Epoch 11/100\n",
      "13/13 [==============================] - 0s 8ms/step - loss: 17.0255 - val_loss: 23.6386\n",
      "Epoch 12/100\n",
      "13/13 [==============================] - 0s 8ms/step - loss: 16.9028 - val_loss: 23.6974\n",
      "Epoch 13/100\n",
      "13/13 [==============================] - 0s 8ms/step - loss: 16.7590 - val_loss: 23.6552\n",
      "Epoch 14/100\n",
      "13/13 [==============================] - 0s 8ms/step - loss: 16.6363 - val_loss: 23.6292\n",
      "Epoch 15/100\n",
      "13/13 [==============================] - 0s 8ms/step - loss: 16.5157 - val_loss: 23.3747\n",
      "Epoch 16/100\n",
      "13/13 [==============================] - 0s 8ms/step - loss: 16.3922 - val_loss: 23.3168\n",
      "Epoch 17/100\n",
      "13/13 [==============================] - 0s 8ms/step - loss: 16.3026 - val_loss: 23.4036\n",
      "Epoch 18/100\n",
      "13/13 [==============================] - 0s 9ms/step - loss: 16.1814 - val_loss: 23.1546\n",
      "Epoch 19/100\n",
      "13/13 [==============================] - 0s 8ms/step - loss: 16.0337 - val_loss: 23.1491\n",
      "Epoch 20/100\n",
      "13/13 [==============================] - 0s 8ms/step - loss: 15.9406 - val_loss: 23.0860\n",
      "Epoch 21/100\n",
      "13/13 [==============================] - 0s 8ms/step - loss: 15.8198 - val_loss: 22.9192\n",
      "Epoch 22/100\n",
      "13/13 [==============================] - 0s 8ms/step - loss: 15.7008 - val_loss: 23.0834\n",
      "Epoch 23/100\n",
      "13/13 [==============================] - 0s 8ms/step - loss: 15.6100 - val_loss: 22.8160\n",
      "Epoch 24/100\n",
      "13/13 [==============================] - 0s 8ms/step - loss: 15.4707 - val_loss: 22.9440\n",
      "Epoch 25/100\n",
      "13/13 [==============================] - 0s 8ms/step - loss: 15.3578 - val_loss: 22.9201\n",
      "Epoch 26/100\n",
      "13/13 [==============================] - 0s 8ms/step - loss: 15.2673 - val_loss: 22.9721\n",
      "Epoch 27/100\n",
      "13/13 [==============================] - 0s 8ms/step - loss: 15.1443 - val_loss: 22.7883\n",
      "Epoch 28/100\n",
      "13/13 [==============================] - 0s 8ms/step - loss: 15.0637 - val_loss: 22.7870\n",
      "Epoch 29/100\n",
      "13/13 [==============================] - 0s 8ms/step - loss: 14.9417 - val_loss: 22.5825\n",
      "Epoch 30/100\n",
      "13/13 [==============================] - 0s 9ms/step - loss: 14.8235 - val_loss: 22.4886\n",
      "Epoch 31/100\n",
      "13/13 [==============================] - 0s 8ms/step - loss: 14.7362 - val_loss: 22.3728\n",
      "Epoch 32/100\n",
      "13/13 [==============================] - 0s 8ms/step - loss: 14.6614 - val_loss: 22.4794\n",
      "Epoch 33/100\n",
      "13/13 [==============================] - 0s 8ms/step - loss: 14.5263 - val_loss: 22.4504\n",
      "Epoch 34/100\n",
      "13/13 [==============================] - 0s 8ms/step - loss: 14.4635 - val_loss: 22.4937\n",
      "Epoch 35/100\n",
      "13/13 [==============================] - 0s 9ms/step - loss: 14.3635 - val_loss: 22.2359\n",
      "Epoch 36/100\n",
      "13/13 [==============================] - 0s 8ms/step - loss: 14.2520 - val_loss: 22.1930\n",
      "Epoch 37/100\n",
      "13/13 [==============================] - 0s 9ms/step - loss: 14.1946 - val_loss: 22.1805\n",
      "Epoch 38/100\n",
      "13/13 [==============================] - 0s 10ms/step - loss: 14.0863 - val_loss: 22.2125\n",
      "Epoch 39/100\n",
      "13/13 [==============================] - 0s 10ms/step - loss: 14.0438 - val_loss: 22.1241\n",
      "Epoch 40/100\n",
      "13/13 [==============================] - 0s 11ms/step - loss: 13.9633 - val_loss: 21.9759\n",
      "Epoch 41/100\n",
      "13/13 [==============================] - 0s 10ms/step - loss: 13.8160 - val_loss: 21.8811\n",
      "Epoch 42/100\n",
      "13/13 [==============================] - 0s 9ms/step - loss: 13.7484 - val_loss: 21.8496\n",
      "Epoch 43/100\n",
      "13/13 [==============================] - 0s 8ms/step - loss: 13.6421 - val_loss: 21.8660\n",
      "Epoch 44/100\n",
      "13/13 [==============================] - 0s 9ms/step - loss: 13.5719 - val_loss: 22.0668\n",
      "Epoch 45/100\n",
      "13/13 [==============================] - 0s 10ms/step - loss: 13.4691 - val_loss: 21.8863\n",
      "Epoch 46/100\n",
      "13/13 [==============================] - 0s 10ms/step - loss: 13.3963 - val_loss: 21.8033\n",
      "Epoch 47/100\n",
      "13/13 [==============================] - 0s 10ms/step - loss: 13.3045 - val_loss: 21.8896\n",
      "Epoch 48/100\n",
      "13/13 [==============================] - 0s 8ms/step - loss: 13.2182 - val_loss: 21.8239\n",
      "Epoch 49/100\n",
      "13/13 [==============================] - 0s 8ms/step - loss: 13.1333 - val_loss: 21.8033\n",
      "Epoch 50/100\n",
      "13/13 [==============================] - 0s 8ms/step - loss: 13.0486 - val_loss: 21.7343\n",
      "Epoch 51/100\n",
      "13/13 [==============================] - 0s 8ms/step - loss: 13.0111 - val_loss: 21.6476\n",
      "Epoch 52/100\n",
      "13/13 [==============================] - 0s 8ms/step - loss: 12.9270 - val_loss: 21.8117\n",
      "Epoch 53/100\n",
      "13/13 [==============================] - 0s 9ms/step - loss: 12.8250 - val_loss: 21.7583\n",
      "Epoch 54/100\n",
      "13/13 [==============================] - 0s 9ms/step - loss: 12.7322 - val_loss: 21.7530\n",
      "Epoch 55/100\n",
      "13/13 [==============================] - 0s 9ms/step - loss: 12.6623 - val_loss: 21.7323\n",
      "Epoch 56/100\n",
      "13/13 [==============================] - 0s 7ms/step - loss: 12.5719 - val_loss: 21.5990\n",
      "Epoch 57/100\n",
      "13/13 [==============================] - 0s 8ms/step - loss: 12.5566 - val_loss: 21.5618\n",
      "Epoch 58/100\n",
      "13/13 [==============================] - 0s 8ms/step - loss: 12.4409 - val_loss: 21.4511\n",
      "Epoch 59/100\n",
      "13/13 [==============================] - 0s 8ms/step - loss: 12.3907 - val_loss: 21.5421\n",
      "Epoch 60/100\n",
      "13/13 [==============================] - 0s 7ms/step - loss: 12.3208 - val_loss: 21.3255\n",
      "Epoch 61/100\n",
      "13/13 [==============================] - 0s 8ms/step - loss: 12.2472 - val_loss: 21.4741\n",
      "Epoch 62/100\n",
      "13/13 [==============================] - 0s 9ms/step - loss: 12.1537 - val_loss: 21.5723\n",
      "Epoch 63/100\n",
      "13/13 [==============================] - 0s 8ms/step - loss: 12.0842 - val_loss: 21.5657\n",
      "Epoch 64/100\n",
      "13/13 [==============================] - 0s 7ms/step - loss: 12.0348 - val_loss: 21.4956\n",
      "Epoch 65/100\n",
      "13/13 [==============================] - 0s 8ms/step - loss: 11.9247 - val_loss: 21.3498\n",
      "Epoch 66/100\n",
      "13/13 [==============================] - 0s 8ms/step - loss: 11.8682 - val_loss: 21.4183\n",
      "Epoch 67/100\n",
      "13/13 [==============================] - 0s 8ms/step - loss: 11.7942 - val_loss: 21.4208\n",
      "Epoch 68/100\n",
      "13/13 [==============================] - 0s 8ms/step - loss: 11.7225 - val_loss: 21.2432\n",
      "Epoch 69/100\n",
      "13/13 [==============================] - 0s 8ms/step - loss: 11.6643 - val_loss: 21.3564\n",
      "Epoch 70/100\n",
      "13/13 [==============================] - 0s 7ms/step - loss: 11.5652 - val_loss: 21.1960\n",
      "Epoch 71/100\n",
      "13/13 [==============================] - 0s 7ms/step - loss: 11.5037 - val_loss: 21.3693\n",
      "Epoch 72/100\n",
      "13/13 [==============================] - 0s 8ms/step - loss: 11.4117 - val_loss: 21.3275\n",
      "Epoch 73/100\n",
      "13/13 [==============================] - 0s 7ms/step - loss: 11.3474 - val_loss: 21.3115\n",
      "Epoch 74/100\n",
      "13/13 [==============================] - 0s 8ms/step - loss: 11.2780 - val_loss: 21.4469\n",
      "Epoch 75/100\n",
      "13/13 [==============================] - 0s 7ms/step - loss: 11.2338 - val_loss: 21.5509\n",
      "Epoch 76/100\n",
      "13/13 [==============================] - 0s 8ms/step - loss: 11.1251 - val_loss: 21.4908\n",
      "Epoch 77/100\n",
      "13/13 [==============================] - 0s 8ms/step - loss: 11.0454 - val_loss: 21.3358\n",
      "Epoch 78/100\n",
      "13/13 [==============================] - 0s 8ms/step - loss: 11.0174 - val_loss: 21.0862\n",
      "Epoch 79/100\n",
      "13/13 [==============================] - 0s 8ms/step - loss: 10.9233 - val_loss: 21.1716\n",
      "Epoch 80/100\n",
      "13/13 [==============================] - 0s 7ms/step - loss: 10.8931 - val_loss: 21.4518\n",
      "Epoch 81/100\n"
     ]
    },
    {
     "name": "stdout",
     "output_type": "stream",
     "text": [
      "13/13 [==============================] - 0s 7ms/step - loss: 10.8084 - val_loss: 21.5779\n",
      "Epoch 82/100\n",
      "13/13 [==============================] - 0s 8ms/step - loss: 10.7730 - val_loss: 21.2484\n",
      "Epoch 83/100\n",
      "13/13 [==============================] - 0s 8ms/step - loss: 10.7073 - val_loss: 21.4020\n",
      "Epoch 84/100\n",
      "13/13 [==============================] - 0s 8ms/step - loss: 10.6148 - val_loss: 21.4555\n",
      "Epoch 85/100\n",
      "13/13 [==============================] - 0s 8ms/step - loss: 10.5759 - val_loss: 21.3596\n",
      "Epoch 86/100\n",
      "13/13 [==============================] - 0s 7ms/step - loss: 10.5373 - val_loss: 21.4278\n",
      "Epoch 87/100\n",
      "13/13 [==============================] - 0s 7ms/step - loss: 10.4614 - val_loss: 21.4337\n",
      "Epoch 88/100\n",
      "13/13 [==============================] - 0s 8ms/step - loss: 10.4192 - val_loss: 21.5822\n"
     ]
    },
    {
     "data": {
      "text/plain": [
       "<keras.callbacks.History at 0x23518badac0>"
      ]
     },
     "execution_count": 11,
     "metadata": {},
     "output_type": "execute_result"
    }
   ],
   "source": [
    "from tensorflow.keras.callbacks import EarlyStopping\n",
    "from sklearn.model_selection import train_test_split\n",
    "\n",
    "# Create an Early Stopping object\n",
    "early_stopping = EarlyStopping(monitor='val_loss', patience=10)\n",
    "\n",
    "# Fit the model on the training data with Early Stopping\n",
    "model.fit(X_train, y_train, batch_size=32, epochs=100, validation_data=(X_test, y_test), callbacks=[early_stopping])\n"
   ]
  },
  {
   "cell_type": "markdown",
   "metadata": {},
   "source": [
    "❓ **Question** ❓ Re-run the same model on the same data using different optimizers (in a `for` loop). \n",
    "\n",
    "For each optimizer, plot the history and report the corresponding Mean Absolute Error. (see [here](https://www.tensorflow.org/api_docs/python/tf/keras/optimizers)), as well as the time it took to fit your Neural Net."
   ]
  },
  {
   "cell_type": "code",
   "execution_count": 12,
   "metadata": {},
   "outputs": [],
   "source": [
    "def plot_loss_mae(history):\n",
    "    fig, (ax1, ax2) = plt.subplots(1,2, figsize=(13,4))\n",
    "    ax1.plot(history.history['loss'])\n",
    "    ax1.plot(history.history['val_loss'])\n",
    "    ax1.set_title('Model loss')\n",
    "    ax1.set_ylabel('Loss')\n",
    "    ax1.set_xlabel('Epoch')\n",
    "    ax1.set_ylim(ymin=0, ymax=200)\n",
    "    ax1.legend(['Train', 'Validation'], loc='best')\n",
    "    ax1.grid(axis=\"x\",linewidth=0.5)\n",
    "    ax1.grid(axis=\"y\",linewidth=0.5)    \n",
    "    \n",
    "    ax2.plot(history.history['mae'])\n",
    "    ax2.plot(history.history['val_mae'])\n",
    "    ax2.set_title('MAE')\n",
    "    ax2.set_ylabel('MAE')\n",
    "    ax2.set_xlabel('Epoch')\n",
    "    ax2.set_ylim(ymin=0, ymax=20)\n",
    "    ax2.legend(['Train', 'Validation'], loc='best')\n",
    "    ax2.grid(axis=\"x\",linewidth=0.5)\n",
    "    ax2.grid(axis=\"y\",linewidth=0.5)    \n",
    "\n",
    "    plt.show()\n",
    "\n",
    "def plot_loss_mse(history):\n",
    "    fig, (ax1, ax2) = plt.subplots(1,2, figsize=(13,4))\n",
    "    ax1.plot(history.history['loss'])\n",
    "    ax1.plot(history.history['val_loss'])\n",
    "    ax1.set_title('Model loss')\n",
    "    ax1.set_ylabel('Loss')\n",
    "    ax1.set_xlabel('Epoch')\n",
    "    ax1.set_ylim(ymin=0, ymax=20)\n",
    "    ax1.legend(['Train', 'Validation'], loc='best')\n",
    "    ax1.grid(axis=\"x\",linewidth=0.5)\n",
    "    ax1.grid(axis=\"y\",linewidth=0.5)    \n",
    "\n",
    "    \n",
    "    ax2.plot(history.history['mse'])\n",
    "    ax2.plot(history.history['val_mse'])\n",
    "    ax2.set_title('MSE')\n",
    "    ax2.set_ylabel('MSE')\n",
    "    ax2.set_xlabel('Epoch')\n",
    "    ax2.set_ylim(ymin=0, ymax=200)\n",
    "    ax2.legend(['Train', 'Validation'], loc='best')\n",
    "    ax2.grid(axis=\"x\",linewidth=0.5)\n",
    "    ax2.grid(axis=\"y\",linewidth=0.5)    \n",
    "\n",
    "    plt.show()"
   ]
  },
  {
   "cell_type": "code",
   "execution_count": 13,
   "metadata": {
    "tags": [
     "delete"
    ]
   },
   "outputs": [
    {
     "name": "stdout",
     "output_type": "stream",
     "text": [
      "4/4 [==============================] - 0s 3ms/step - loss: 2.9226 - mae: 2.9226\n",
      "MAE with the rmsprop optimizer: 2.9226  reached in 22 s after 176 epochs\n"
     ]
    },
    {
     "data": {
      "image/png": "[encoded data removed]",
      "text/plain": [
       "<Figure size 936x288 with 2 Axes>"
      ]
     },
     "metadata": {
      "needs_background": "light"
     },
     "output_type": "display_data"
    },
    {
     "name": "stdout",
     "output_type": "stream",
     "text": [
      "4/4 [==============================] - 0s 6ms/step - loss: 2.8065 - mae: 2.8065\n",
      "MAE with the adam optimizer: 2.8065  reached in 28 s after 220 epochs\n"
     ]
    },
    {
     "data": {
      "image/png": "[encoded data removed]",
      "text/plain": [
       "<Figure size 936x288 with 2 Axes>"
      ]
     },
     "metadata": {
      "needs_background": "light"
     },
     "output_type": "display_data"
    },
    {
     "name": "stdout",
     "output_type": "stream",
     "text": [
      "4/4 [==============================] - 0s 6ms/step - loss: 15.0801 - mae: 15.0801\n",
      "MAE with the adagrad optimizer: 15.0801  reached in 58 s after 500 epochs\n"
     ]
    },
    {
     "data": {
      "image/png": "[encoded data removed]",
      "text/plain": [
       "<Figure size 936x288 with 2 Axes>"
      ]
     },
     "metadata": {
      "needs_background": "light"
     },
     "output_type": "display_data"
    }
   ],
   "source": [
    "import time\n",
    "\n",
    "for optimizer in ['rmsprop', 'adam', 'adagrad']:\n",
    "    start_time = time.time()\n",
    "    model = initialize_model()\n",
    "    model = compile_model(model, optimizer)\n",
    "\n",
    "    es = EarlyStopping(patience=10, restore_best_weights=True)\n",
    "\n",
    "    history = model.fit(X_train, y_train, \n",
    "                      batch_size=16, \n",
    "                      epochs=500, \n",
    "                      validation_split=0.3,\n",
    "                      callbacks=[es], verbose=0)\n",
    "\n",
    "    res = model.evaluate(X_test, y_test)[1]\n",
    "    end_time = time.time()\n",
    "\n",
    "    print(f'MAE with the {optimizer} optimizer: {res:.4f}  reached in {(end_time - start_time):.0f} s after {len(history.epoch)} epochs')\n",
    "    plot_loss_mae(history)"
   ]
  },
  {
   "cell_type": "markdown",
   "metadata": {},
   "source": [
    "❓ **Question** ❓ Are your predictions better than the benchmark model you've evaluated at the beginning of the notebook?"
   ]
  },
  {
   "cell_type": "markdown",
   "metadata": {},
   "source": [
    "❗ **Remark** ❗ \n",
    "- Here, the optimizer is may not be central as the data are in low dimensions and and there are not many samples. However, in practice, you are advised to start with the `adam` optimizer by default which often works best. \n",
    "\n",
    "- Internally, when you call any optimizer with a string, the neural network initializes the hyperparameters the optimizer relies on. Among this hyperparameters, there is quite an important one, the **`learning rate`**. This learning rate corresponds to the intensity of change of the weights at each optimization of the neural network. Different learning rates have different consequences, as shown here : \n",
    "\n",
    "<img src=\"learning_rate.png\" alt=\"Learning rate\" style=\"height:350px;\"/>\n",
    "\n",
    "\n",
    "As the learning rate is initialized with default values when you compile the model optimizer with a string, let's see how to do it differently.\n",
    "\n",
    "\n",
    "❓ **Question** ❓ Instead of initializing the optimizer with a string, we will initialize a real optimizer directly. Look at the documentation of [adam](https://www.tensorflow.org/api_docs/python/tf/keras/optimizers/Adam) and instantiate it with a learning rate of $0.1$ - keep the other values to their default values. Use this optimizer in the `compile_model` function, fit the data and plot the history"
   ]
  },
  {
   "cell_type": "code",
   "execution_count": 14,
   "metadata": {
    "tags": [
     "challengify"
    ]
   },
   "outputs": [
    {
     "name": "stdout",
     "output_type": "stream",
     "text": [
      "Epoch 1/100\n",
      "13/13 [==============================] - 2s 32ms/step - loss: 100.2447 - val_loss: 46.6639\n",
      "Epoch 2/100\n",
      "13/13 [==============================] - 0s 8ms/step - loss: 31.5423 - val_loss: 27.3711\n",
      "Epoch 3/100\n",
      "13/13 [==============================] - 0s 8ms/step - loss: 17.9126 - val_loss: 27.0143\n",
      "Epoch 4/100\n",
      "13/13 [==============================] - 0s 8ms/step - loss: 13.5364 - val_loss: 20.4673\n",
      "Epoch 5/100\n",
      "13/13 [==============================] - 0s 8ms/step - loss: 13.0773 - val_loss: 22.3074\n",
      "Epoch 6/100\n",
      "13/13 [==============================] - 0s 8ms/step - loss: 11.0725 - val_loss: 21.4790\n",
      "Epoch 7/100\n",
      "13/13 [==============================] - 0s 8ms/step - loss: 11.2043 - val_loss: 23.1240\n",
      "Epoch 8/100\n",
      "13/13 [==============================] - 0s 8ms/step - loss: 9.7552 - val_loss: 29.6458\n",
      "Epoch 9/100\n",
      "13/13 [==============================] - 0s 8ms/step - loss: 9.5760 - val_loss: 26.2085\n",
      "Epoch 10/100\n",
      "13/13 [==============================] - 0s 8ms/step - loss: 10.1310 - val_loss: 29.1406\n",
      "Epoch 11/100\n",
      "13/13 [==============================] - 0s 10ms/step - loss: 9.4290 - val_loss: 19.8594\n",
      "Epoch 12/100\n",
      "13/13 [==============================] - 0s 9ms/step - loss: 9.2568 - val_loss: 21.1165\n",
      "Epoch 13/100\n",
      "13/13 [==============================] - 0s 10ms/step - loss: 8.5803 - val_loss: 27.5956\n",
      "Epoch 14/100\n",
      "13/13 [==============================] - 0s 8ms/step - loss: 11.0469 - val_loss: 20.5995\n",
      "Epoch 15/100\n",
      "13/13 [==============================] - 0s 8ms/step - loss: 10.1823 - val_loss: 26.2265\n",
      "Epoch 16/100\n",
      "13/13 [==============================] - 0s 8ms/step - loss: 10.5555 - val_loss: 20.8169\n",
      "Epoch 17/100\n",
      "13/13 [==============================] - 0s 8ms/step - loss: 9.6479 - val_loss: 19.4042\n",
      "Epoch 18/100\n",
      "13/13 [==============================] - 0s 8ms/step - loss: 9.8456 - val_loss: 19.2585\n",
      "Epoch 19/100\n",
      "13/13 [==============================] - 0s 8ms/step - loss: 12.9531 - val_loss: 19.7811\n",
      "Epoch 20/100\n",
      "13/13 [==============================] - 0s 8ms/step - loss: 9.9773 - val_loss: 19.9296\n",
      "Epoch 21/100\n",
      "13/13 [==============================] - 0s 8ms/step - loss: 8.6179 - val_loss: 28.0936\n",
      "Epoch 22/100\n",
      "13/13 [==============================] - 0s 8ms/step - loss: 8.7227 - val_loss: 27.1407\n",
      "Epoch 23/100\n",
      "13/13 [==============================] - 0s 8ms/step - loss: 8.7703 - val_loss: 22.5905\n",
      "Epoch 24/100\n",
      "13/13 [==============================] - 0s 8ms/step - loss: 7.3287 - val_loss: 18.0861\n",
      "Epoch 25/100\n",
      "13/13 [==============================] - 0s 8ms/step - loss: 7.8365 - val_loss: 21.9297\n",
      "Epoch 26/100\n",
      "13/13 [==============================] - 0s 8ms/step - loss: 8.2293 - val_loss: 17.7252\n",
      "Epoch 27/100\n",
      "13/13 [==============================] - 0s 8ms/step - loss: 11.7042 - val_loss: 25.2310\n",
      "Epoch 28/100\n",
      "13/13 [==============================] - 0s 10ms/step - loss: 10.3297 - val_loss: 27.3247\n",
      "Epoch 29/100\n",
      "13/13 [==============================] - 0s 10ms/step - loss: 9.8454 - val_loss: 20.9418\n",
      "Epoch 30/100\n",
      "13/13 [==============================] - 0s 10ms/step - loss: 7.5065 - val_loss: 23.2619\n",
      "Epoch 31/100\n",
      "13/13 [==============================] - 0s 13ms/step - loss: 8.4409 - val_loss: 22.1642\n",
      "Epoch 32/100\n",
      "13/13 [==============================] - 0s 8ms/step - loss: 11.3018 - val_loss: 24.6093\n",
      "Epoch 33/100\n",
      "13/13 [==============================] - 0s 8ms/step - loss: 13.2007 - val_loss: 26.9608\n",
      "Epoch 34/100\n",
      "13/13 [==============================] - 0s 8ms/step - loss: 11.0169 - val_loss: 20.5030\n",
      "Epoch 35/100\n",
      "13/13 [==============================] - 0s 8ms/step - loss: 10.4995 - val_loss: 24.4015\n",
      "Epoch 36/100\n",
      "13/13 [==============================] - 0s 8ms/step - loss: 8.5437 - val_loss: 22.0588\n",
      "Epoch 37/100\n",
      "13/13 [==============================] - 0s 7ms/step - loss: 9.0725 - val_loss: 18.8367\n",
      "Epoch 38/100\n",
      "13/13 [==============================] - 0s 7ms/step - loss: 7.3888 - val_loss: 19.6952\n",
      "Epoch 39/100\n",
      "13/13 [==============================] - 0s 8ms/step - loss: 6.7290 - val_loss: 24.0329\n",
      "Epoch 40/100\n",
      "13/13 [==============================] - 0s 9ms/step - loss: 6.5922 - val_loss: 14.8353\n",
      "Epoch 41/100\n",
      "13/13 [==============================] - 0s 11ms/step - loss: 7.5902 - val_loss: 16.3649\n",
      "Epoch 42/100\n",
      "13/13 [==============================] - 0s 8ms/step - loss: 6.5804 - val_loss: 19.8941\n",
      "Epoch 43/100\n",
      "13/13 [==============================] - 0s 8ms/step - loss: 6.8592 - val_loss: 18.7308\n",
      "Epoch 44/100\n",
      "13/13 [==============================] - 0s 9ms/step - loss: 7.8846 - val_loss: 22.3715\n",
      "Epoch 45/100\n",
      "13/13 [==============================] - 0s 8ms/step - loss: 7.7924 - val_loss: 18.2917\n",
      "Epoch 46/100\n",
      "13/13 [==============================] - 0s 8ms/step - loss: 7.3716 - val_loss: 23.1126\n",
      "Epoch 47/100\n",
      "13/13 [==============================] - 0s 8ms/step - loss: 8.7044 - val_loss: 21.9846\n",
      "Epoch 48/100\n",
      "13/13 [==============================] - 0s 8ms/step - loss: 9.7085 - val_loss: 16.4972\n",
      "Epoch 49/100\n",
      "13/13 [==============================] - 0s 8ms/step - loss: 14.5726 - val_loss: 35.4910\n",
      "Epoch 50/100\n",
      "13/13 [==============================] - 0s 8ms/step - loss: 15.7185 - val_loss: 26.1856\n",
      "Epoch 51/100\n",
      "13/13 [==============================] - 0s 8ms/step - loss: 8.9459 - val_loss: 20.7144\n",
      "Epoch 52/100\n",
      "13/13 [==============================] - 0s 8ms/step - loss: 6.8951 - val_loss: 14.1101\n",
      "Epoch 53/100\n",
      "13/13 [==============================] - 0s 10ms/step - loss: 7.2033 - val_loss: 16.4124\n",
      "Epoch 54/100\n",
      "13/13 [==============================] - 0s 10ms/step - loss: 5.8074 - val_loss: 25.8679\n",
      "Epoch 55/100\n",
      "13/13 [==============================] - 0s 10ms/step - loss: 10.3282 - val_loss: 17.2121\n",
      "Epoch 56/100\n",
      "13/13 [==============================] - 0s 8ms/step - loss: 8.5870 - val_loss: 19.5956\n",
      "Epoch 57/100\n",
      "13/13 [==============================] - 0s 8ms/step - loss: 8.3032 - val_loss: 15.2465\n",
      "Epoch 58/100\n",
      "13/13 [==============================] - 0s 8ms/step - loss: 6.8829 - val_loss: 16.0435\n",
      "Epoch 59/100\n",
      "13/13 [==============================] - 0s 8ms/step - loss: 6.4041 - val_loss: 18.1378\n",
      "Epoch 60/100\n",
      "13/13 [==============================] - 0s 8ms/step - loss: 6.8790 - val_loss: 16.9934\n",
      "Epoch 61/100\n",
      "13/13 [==============================] - 0s 8ms/step - loss: 6.5067 - val_loss: 17.0892\n",
      "Epoch 62/100\n",
      "13/13 [==============================] - 0s 8ms/step - loss: 6.3496 - val_loss: 14.7437\n",
      "Epoch 63/100\n",
      "13/13 [==============================] - 0s 8ms/step - loss: 6.3557 - val_loss: 17.5927\n",
      "Epoch 64/100\n",
      "13/13 [==============================] - 0s 8ms/step - loss: 6.7426 - val_loss: 15.9218\n",
      "Epoch 65/100\n",
      "13/13 [==============================] - 0s 8ms/step - loss: 6.2485 - val_loss: 16.5408\n",
      "Epoch 66/100\n",
      "13/13 [==============================] - 0s 8ms/step - loss: 7.0753 - val_loss: 18.2731\n",
      "Epoch 67/100\n",
      "13/13 [==============================] - 0s 8ms/step - loss: 6.3884 - val_loss: 14.2471\n",
      "Epoch 68/100\n",
      "13/13 [==============================] - 0s 9ms/step - loss: 8.0565 - val_loss: 25.7996\n",
      "Epoch 69/100\n",
      "13/13 [==============================] - 0s 8ms/step - loss: 6.7229 - val_loss: 17.6941\n",
      "Epoch 70/100\n",
      "13/13 [==============================] - 0s 10ms/step - loss: 6.8557 - val_loss: 15.7046\n",
      "Epoch 71/100\n",
      "13/13 [==============================] - 0s 8ms/step - loss: 6.4970 - val_loss: 26.8797\n",
      "Epoch 72/100\n",
      "13/13 [==============================] - 0s 7ms/step - loss: 7.4247 - val_loss: 17.7095\n",
      "Epoch 73/100\n",
      "13/13 [==============================] - 0s 8ms/step - loss: 5.7496 - val_loss: 19.7154\n",
      "Epoch 74/100\n",
      "13/13 [==============================] - 0s 8ms/step - loss: 6.2808 - val_loss: 16.3441\n",
      "Epoch 75/100\n",
      "13/13 [==============================] - 0s 8ms/step - loss: 6.7315 - val_loss: 21.7885\n",
      "Epoch 76/100\n",
      "13/13 [==============================] - 0s 8ms/step - loss: 6.8457 - val_loss: 16.2890\n",
      "Epoch 77/100\n",
      "13/13 [==============================] - 0s 8ms/step - loss: 7.9401 - val_loss: 21.4209\n",
      "Epoch 78/100\n",
      "13/13 [==============================] - 0s 8ms/step - loss: 6.1519 - val_loss: 15.6705\n",
      "Epoch 79/100\n",
      "13/13 [==============================] - 0s 8ms/step - loss: 6.5898 - val_loss: 19.4753\n",
      "Epoch 80/100\n",
      "13/13 [==============================] - 0s 8ms/step - loss: 7.1243 - val_loss: 16.0470\n",
      "Epoch 81/100\n",
      "13/13 [==============================] - 0s 8ms/step - loss: 7.2073 - val_loss: 16.3699\n"
     ]
    },
    {
     "name": "stdout",
     "output_type": "stream",
     "text": [
      "Epoch 82/100\n",
      "13/13 [==============================] - 0s 8ms/step - loss: 6.1521 - val_loss: 20.2976\n",
      "Epoch 83/100\n",
      "13/13 [==============================] - 0s 8ms/step - loss: 6.4079 - val_loss: 20.0925\n",
      "Epoch 84/100\n",
      "13/13 [==============================] - 0s 8ms/step - loss: 6.7284 - val_loss: 12.8923\n",
      "Epoch 85/100\n",
      "13/13 [==============================] - 0s 8ms/step - loss: 9.0744 - val_loss: 27.6739\n",
      "Epoch 86/100\n",
      "13/13 [==============================] - 0s 8ms/step - loss: 7.0023 - val_loss: 18.4538\n",
      "Epoch 87/100\n",
      "13/13 [==============================] - 0s 8ms/step - loss: 8.0824 - val_loss: 14.4411\n",
      "Epoch 88/100\n",
      "13/13 [==============================] - 0s 9ms/step - loss: 6.8234 - val_loss: 23.4362\n",
      "Epoch 89/100\n",
      "13/13 [==============================] - 0s 8ms/step - loss: 8.1209 - val_loss: 20.5286\n",
      "Epoch 90/100\n",
      "13/13 [==============================] - 0s 8ms/step - loss: 9.4927 - val_loss: 23.3884\n",
      "Epoch 91/100\n",
      "13/13 [==============================] - 0s 8ms/step - loss: 6.2564 - val_loss: 14.8240\n",
      "Epoch 92/100\n",
      "13/13 [==============================] - 0s 8ms/step - loss: 6.9755 - val_loss: 20.8608\n",
      "Epoch 93/100\n",
      "13/13 [==============================] - 0s 8ms/step - loss: 8.0030 - val_loss: 22.0174\n",
      "Epoch 94/100\n",
      "13/13 [==============================] - 0s 8ms/step - loss: 7.9050 - val_loss: 15.5923\n",
      "Epoch 95/100\n",
      "13/13 [==============================] - 0s 8ms/step - loss: 6.6693 - val_loss: 18.7785\n",
      "Epoch 96/100\n",
      "13/13 [==============================] - 0s 8ms/step - loss: 6.9153 - val_loss: 14.6984\n",
      "Epoch 97/100\n",
      "13/13 [==============================] - 0s 8ms/step - loss: 8.4574 - val_loss: 17.5073\n",
      "Epoch 98/100\n",
      "13/13 [==============================] - 0s 8ms/step - loss: 6.2266 - val_loss: 13.7657\n",
      "Epoch 99/100\n",
      "13/13 [==============================] - 0s 8ms/step - loss: 6.0072 - val_loss: 19.4110\n",
      "Epoch 100/100\n",
      "13/13 [==============================] - 0s 10ms/step - loss: 7.1066 - val_loss: 14.6424\n"
     ]
    },
    {
     "data": {
      "image/png": "[encoded data removed]",
      "text/plain": [
       "<Figure size 432x288 with 1 Axes>"
      ]
     },
     "metadata": {
      "needs_background": "light"
     },
     "output_type": "display_data"
    }
   ],
   "source": [
    "# YOUR CODE HERE\n",
    "optimizer = Adam(learning_rate=0.1)\n",
    "\n",
    "#use the optimizer in the compile model\n",
    "model.compile(optimizer=optimizer, loss='mse')\n",
    "\n",
    "#fit the data\n",
    "history = model.fit(X_train, y_train, batch_size=32, epochs=100,\n",
    "                   validation_data=(X_test, y_test))\n",
    "\n",
    "#plot the history\n",
    "plt.plot(history.history['loss'])\n",
    "plt.plot(history.history['val_loss'])\n",
    "plt.title('Model loss')\n",
    "plt.ylabel('Loss')\n",
    "plt.xlabel('Epoch')\n",
    "plt.legend(['Train', 'Validation'], loc='upper right')\n",
    "plt.show()"
   ]
  },
  {
   "cell_type": "markdown",
   "metadata": {},
   "source": [
    "❓ **Question** ❓ Now, reproduce the same plots and results but for different learning rates.\n",
    "\n",
    "*Remark*: There is a chance that the y-axis is too large for you to visualize the results. In that case, rewrite the plot function to plot only the epochs > 10."
   ]
  },
  {
   "cell_type": "code",
   "execution_count": 15,
   "metadata": {
    "scrolled": true
   },
   "outputs": [
    {
     "name": "stderr",
     "output_type": "stream",
     "text": [
      "WARNING:absl:`lr` is deprecated, please use `learning_rate` instead, or use the legacy optimizer, e.g.,tf.keras.optimizers.legacy.Adam.\n"
     ]
    },
    {
     "name": "stdout",
     "output_type": "stream",
     "text": [
      "4/4 [==============================] - 0s 5ms/step - loss: -336.6793 - accuracy: 0.0000e+00\n"
     ]
    },
    {
     "data": {
      "image/png": "[encoded data removed]",
      "text/plain": [
       "<Figure size 432x288 with 1 Axes>"
      ]
     },
     "metadata": {
      "needs_background": "light"
     },
     "output_type": "display_data"
    },
    {
     "data": {
      "image/png": "[encoded data removed]",
      "text/plain": [
       "<Figure size 432x288 with 1 Axes>"
      ]
     },
     "metadata": {
      "needs_background": "light"
     },
     "output_type": "display_data"
    },
    {
     "name": "stderr",
     "output_type": "stream",
     "text": [
      "WARNING:absl:`lr` is deprecated, please use `learning_rate` instead, or use the legacy optimizer, e.g.,tf.keras.optimizers.legacy.Adam.\n"
     ]
    },
    {
     "name": "stdout",
     "output_type": "stream",
     "text": [
      "4/4 [==============================] - 0s 3ms/step - loss: -336.6793 - accuracy: 0.0000e+00\n"
     ]
    },
    {
     "data": {
      "image/png": "[encoded data removed]",
      "text/plain": [
       "<Figure size 432x288 with 1 Axes>"
      ]
     },
     "metadata": {
      "needs_background": "light"
     },
     "output_type": "display_data"
    },
    {
     "data": {
      "image/png": "[encoded data removed]",
      "text/plain": [
       "<Figure size 432x288 with 1 Axes>"
      ]
     },
     "metadata": {
      "needs_background": "light"
     },
     "output_type": "display_data"
    },
    {
     "name": "stderr",
     "output_type": "stream",
     "text": [
      "WARNING:absl:`lr` is deprecated, please use `learning_rate` instead, or use the legacy optimizer, e.g.,tf.keras.optimizers.legacy.Adam.\n"
     ]
    },
    {
     "name": "stdout",
     "output_type": "stream",
     "text": [
      "4/4 [==============================] - 0s 4ms/step - loss: -336.6793 - accuracy: 0.0000e+00\n"
     ]
    },
    {
     "data": {
      "image/png": "[encoded data removed]",
      "text/plain": [
       "<Figure size 432x288 with 1 Axes>"
      ]
     },
     "metadata": {
      "needs_background": "light"
     },
     "output_type": "display_data"
    },
    {
     "data": {
      "image/png": "[encoded data removed]",
      "text/plain": [
       "<Figure size 432x288 with 1 Axes>"
      ]
     },
     "metadata": {
      "needs_background": "light"
     },
     "output_type": "display_data"
    },
    {
     "name": "stderr",
     "output_type": "stream",
     "text": [
      "WARNING:absl:`lr` is deprecated, please use `learning_rate` instead, or use the legacy optimizer, e.g.,tf.keras.optimizers.legacy.Adam.\n"
     ]
    },
    {
     "name": "stdout",
     "output_type": "stream",
     "text": [
      "4/4 [==============================] - 0s 4ms/step - loss: -336.6793 - accuracy: 0.0000e+00\n"
     ]
    },
    {
     "data": {
      "image/png": "[encoded data removed]",
      "text/plain": [
       "<Figure size 432x288 with 1 Axes>"
      ]
     },
     "metadata": {
      "needs_background": "light"
     },
     "output_type": "display_data"
    },
    {
     "data": {
      "image/png": "[encoded data removed]",
      "text/plain": [
       "<Figure size 432x288 with 1 Axes>"
      ]
     },
     "metadata": {
      "needs_background": "light"
     },
     "output_type": "display_data"
    },
    {
     "name": "stderr",
     "output_type": "stream",
     "text": [
      "WARNING:absl:`lr` is deprecated, please use `learning_rate` instead, or use the legacy optimizer, e.g.,tf.keras.optimizers.legacy.Adam.\n"
     ]
    },
    {
     "name": "stdout",
     "output_type": "stream",
     "text": [
      "4/4 [==============================] - 0s 6ms/step - loss: -336.6793 - accuracy: 0.0000e+00\n"
     ]
    },
    {
     "data": {
      "image/png": "[encoded data removed]",
      "text/plain": [
       "<Figure size 432x288 with 1 Axes>"
      ]
     },
     "metadata": {
      "needs_background": "light"
     },
     "output_type": "display_data"
    },
    {
     "data": {
      "image/png": "[encoded data removed]",
      "text/plain": [
       "<Figure size 432x288 with 1 Axes>"
      ]
     },
     "metadata": {
      "needs_background": "light"
     },
     "output_type": "display_data"
    },
    {
     "name": "stderr",
     "output_type": "stream",
     "text": [
      "WARNING:absl:`lr` is deprecated, please use `learning_rate` instead, or use the legacy optimizer, e.g.,tf.keras.optimizers.legacy.Adam.\n"
     ]
    },
    {
     "name": "stdout",
     "output_type": "stream",
     "text": [
      "4/4 [==============================] - 0s 8ms/step - loss: -336.6793 - accuracy: 0.0000e+00\n"
     ]
    },
    {
     "data": {
      "image/png": "[encoded data removed]",
      "text/plain": [
       "<Figure size 432x288 with 1 Axes>"
      ]
     },
     "metadata": {
      "needs_background": "light"
     },
     "output_type": "display_data"
    },
    {
     "data": {
      "image/png": "[encoded data removed]",
      "text/plain": [
       "<Figure size 432x288 with 1 Axes>"
      ]
     },
     "metadata": {
      "needs_background": "light"
     },
     "output_type": "display_data"
    }
   ],
   "source": [
    "from tensorflow.keras.optimizers import Adam\n",
    "import time\n",
    "\n",
    "learning_rates = [0.0001, 0.001, 0.01, 0.1, 1, 5]\n",
    "\n",
    "for lr in learning_rates:\n",
    "    optimizer = Adam(lr=lr)\n",
    "    start_time=time.time()\n",
    "    model.compile(optimizer=optimizer, loss='binary_crossentropy',\n",
    "                 metrics=['accuracy'])\n",
    "    \n",
    "    es = EarlyStopping(patience=10, restore_best_weights=True)\n",
    "    \n",
    "    history = model.fit(X_train, y_train, epochs=10, batch_size=32,\n",
    "                       validation_data=(X_test, y_test),\n",
    "                       callbacks=[es], verbose=0)\n",
    "    \n",
    "    res = model.evaluate(X_test, y_test)\n",
    "    end_time = time.time()\n",
    "    \n",
    "    plt.plot(history.history['accuracy'])\n",
    "    plt.plot(history.history['val_accuracy'])\n",
    "    plt.title('Model accuracy (lr=' + str(lr) + ')')\n",
    "    plt.ylabel('Accuracy')\n",
    "    plt.xlabel('Epoch')\n",
    "    plt.legend(['Train', 'Validation'], loc='upper left')\n",
    "    plt.show()\n",
    "\n",
    "    plt.plot(history.history['loss'])\n",
    "    plt.plot(history.history['val_loss'])\n",
    "    plt.title('Model loss (lr=' + str(lr) + ')')\n",
    "    plt.ylabel('Loss')\n",
    "    plt.xlabel('Epoch')\n",
    "    plt.legend(['Train', 'Validation'], loc='upper left')\n",
    "    plt.show() \n",
    "   "
   ]
  },
  {
   "cell_type": "markdown",
   "metadata": {},
   "source": [
    "# 3. The loss\n",
    "\n",
    "⚠️ It is important to **clearly understand the different between metrics and losses**. \n",
    "\n",
    "* The `loss functions` are computed *during* the training procedure\n",
    "* The `metrics` are computed *after* training your models !\n",
    "* Some metrics can be used as loss functions too... as long as they are differentiable ! (e.g. the *MSE*)\n",
    "\n",
    "❓ **Question** ❓ Run the same neural network, once with the `mae` as the loss, and once with the `mse`.  \n",
    "\n",
    "In both case, compare `mae_train`, `mae_val`, `mse_train`, `mse_val` and conclude."
   ]
  },
  {
   "cell_type": "code",
   "execution_count": 16,
   "metadata": {},
   "outputs": [
    {
     "name": "stdout",
     "output_type": "stream",
     "text": [
      "Epoch 1/100\n",
      "13/13 [==============================] - 2s 3ms/step - loss: 2.2255 - mae: 2.2255\n",
      "Epoch 2/100\n",
      "13/13 [==============================] - 0s 3ms/step - loss: 1.9319 - mae: 1.9319\n",
      "Epoch 3/100\n",
      "13/13 [==============================] - 0s 3ms/step - loss: 1.8055 - mae: 1.8055\n",
      "Epoch 4/100\n",
      "13/13 [==============================] - 0s 3ms/step - loss: 1.7513 - mae: 1.7513\n",
      "Epoch 5/100\n",
      "13/13 [==============================] - 0s 3ms/step - loss: 1.7030 - mae: 1.7030\n",
      "Epoch 6/100\n",
      "13/13 [==============================] - 0s 3ms/step - loss: 1.6672 - mae: 1.6672\n",
      "Epoch 7/100\n",
      "13/13 [==============================] - 0s 4ms/step - loss: 1.6389 - mae: 1.6389\n",
      "Epoch 8/100\n",
      "13/13 [==============================] - 0s 3ms/step - loss: 1.6211 - mae: 1.6211\n",
      "Epoch 9/100\n",
      "13/13 [==============================] - 0s 3ms/step - loss: 1.6080 - mae: 1.6080\n",
      "Epoch 10/100\n",
      "13/13 [==============================] - 0s 3ms/step - loss: 1.5998 - mae: 1.5998\n",
      "Epoch 11/100\n",
      "13/13 [==============================] - 0s 3ms/step - loss: 1.5914 - mae: 1.5914\n",
      "Epoch 12/100\n",
      "13/13 [==============================] - 0s 4ms/step - loss: 1.5803 - mae: 1.5803\n",
      "Epoch 13/100\n",
      "13/13 [==============================] - 0s 4ms/step - loss: 1.5739 - mae: 1.5739\n",
      "Epoch 14/100\n",
      "13/13 [==============================] - 0s 4ms/step - loss: 1.5671 - mae: 1.5671\n",
      "Epoch 15/100\n",
      "13/13 [==============================] - 0s 3ms/step - loss: 1.5628 - mae: 1.5628\n",
      "Epoch 16/100\n",
      "13/13 [==============================] - 0s 3ms/step - loss: 1.5581 - mae: 1.5581\n",
      "Epoch 17/100\n",
      "13/13 [==============================] - 0s 3ms/step - loss: 1.5562 - mae: 1.5562\n",
      "Epoch 18/100\n",
      "13/13 [==============================] - 0s 3ms/step - loss: 1.5554 - mae: 1.5554\n",
      "Epoch 19/100\n",
      "13/13 [==============================] - 0s 3ms/step - loss: 1.5467 - mae: 1.5467\n",
      "Epoch 20/100\n",
      "13/13 [==============================] - 0s 4ms/step - loss: 1.5435 - mae: 1.5435\n",
      "Epoch 21/100\n",
      "13/13 [==============================] - 0s 4ms/step - loss: 1.5396 - mae: 1.5396\n",
      "Epoch 22/100\n",
      "13/13 [==============================] - 0s 3ms/step - loss: 1.5389 - mae: 1.5389\n",
      "Epoch 23/100\n",
      "13/13 [==============================] - 0s 3ms/step - loss: 1.5340 - mae: 1.5340\n",
      "Epoch 24/100\n",
      "13/13 [==============================] - 0s 3ms/step - loss: 1.5343 - mae: 1.5343\n",
      "Epoch 25/100\n",
      "13/13 [==============================] - 0s 3ms/step - loss: 1.5312 - mae: 1.5312\n",
      "Epoch 26/100\n",
      "13/13 [==============================] - 0s 3ms/step - loss: 1.5268 - mae: 1.5268\n",
      "Epoch 27/100\n",
      "13/13 [==============================] - 0s 3ms/step - loss: 1.5290 - mae: 1.5290\n",
      "Epoch 28/100\n",
      "13/13 [==============================] - 0s 3ms/step - loss: 1.5258 - mae: 1.5258\n",
      "Epoch 29/100\n",
      "13/13 [==============================] - 0s 4ms/step - loss: 1.5232 - mae: 1.5232\n",
      "Epoch 30/100\n",
      "13/13 [==============================] - 0s 4ms/step - loss: 1.5218 - mae: 1.5218\n",
      "Epoch 31/100\n",
      "13/13 [==============================] - 0s 4ms/step - loss: 1.5181 - mae: 1.5181\n",
      "Epoch 32/100\n",
      "13/13 [==============================] - 0s 3ms/step - loss: 1.5190 - mae: 1.5190\n",
      "Epoch 33/100\n",
      "13/13 [==============================] - 0s 3ms/step - loss: 1.5178 - mae: 1.5178\n",
      "Epoch 34/100\n",
      "13/13 [==============================] - 0s 3ms/step - loss: 1.5127 - mae: 1.5127\n",
      "Epoch 35/100\n",
      "13/13 [==============================] - 0s 3ms/step - loss: 1.5122 - mae: 1.5122\n",
      "Epoch 36/100\n",
      "13/13 [==============================] - 0s 3ms/step - loss: 1.5114 - mae: 1.5114\n",
      "Epoch 37/100\n",
      "13/13 [==============================] - 0s 3ms/step - loss: 1.5082 - mae: 1.5082\n",
      "Epoch 38/100\n",
      "13/13 [==============================] - 0s 3ms/step - loss: 1.5068 - mae: 1.5068\n",
      "Epoch 39/100\n",
      "13/13 [==============================] - 0s 3ms/step - loss: 1.5076 - mae: 1.5076\n",
      "Epoch 40/100\n",
      "13/13 [==============================] - 0s 3ms/step - loss: 1.5027 - mae: 1.5027\n",
      "Epoch 41/100\n",
      "13/13 [==============================] - 0s 3ms/step - loss: 1.5066 - mae: 1.5066\n",
      "Epoch 42/100\n",
      "13/13 [==============================] - 0s 2ms/step - loss: 1.5024 - mae: 1.5024\n",
      "Epoch 43/100\n",
      "13/13 [==============================] - 0s 3ms/step - loss: 1.5026 - mae: 1.5026\n",
      "Epoch 44/100\n",
      "13/13 [==============================] - 0s 3ms/step - loss: 1.4975 - mae: 1.4975\n",
      "Epoch 45/100\n",
      "13/13 [==============================] - 0s 3ms/step - loss: 1.5015 - mae: 1.5015\n",
      "Epoch 46/100\n",
      "13/13 [==============================] - 0s 3ms/step - loss: 1.5092 - mae: 1.5092\n",
      "Epoch 47/100\n",
      "13/13 [==============================] - 0s 3ms/step - loss: 1.4929 - mae: 1.4929\n",
      "Epoch 48/100\n",
      "13/13 [==============================] - 0s 3ms/step - loss: 1.5030 - mae: 1.5030\n",
      "Epoch 49/100\n",
      "13/13 [==============================] - 0s 3ms/step - loss: 1.4946 - mae: 1.4946\n",
      "Epoch 50/100\n",
      "13/13 [==============================] - 0s 3ms/step - loss: 1.4924 - mae: 1.4924\n",
      "Epoch 51/100\n",
      "13/13 [==============================] - 0s 3ms/step - loss: 1.4925 - mae: 1.4925\n",
      "Epoch 52/100\n",
      "13/13 [==============================] - 0s 3ms/step - loss: 1.4902 - mae: 1.4902\n",
      "Epoch 53/100\n",
      "13/13 [==============================] - 0s 3ms/step - loss: 1.4890 - mae: 1.4890\n",
      "Epoch 54/100\n",
      "13/13 [==============================] - 0s 3ms/step - loss: 1.4880 - mae: 1.4880\n",
      "Epoch 55/100\n",
      "13/13 [==============================] - 0s 3ms/step - loss: 1.4875 - mae: 1.4875\n",
      "Epoch 56/100\n",
      "13/13 [==============================] - 0s 3ms/step - loss: 1.4890 - mae: 1.4890\n",
      "Epoch 57/100\n",
      "13/13 [==============================] - 0s 3ms/step - loss: 1.4854 - mae: 1.4854\n",
      "Epoch 58/100\n",
      "13/13 [==============================] - 0s 3ms/step - loss: 1.4825 - mae: 1.4825\n",
      "Epoch 59/100\n",
      "13/13 [==============================] - 0s 3ms/step - loss: 1.4846 - mae: 1.4846\n",
      "Epoch 60/100\n",
      "13/13 [==============================] - 0s 3ms/step - loss: 1.4835 - mae: 1.4835\n",
      "Epoch 61/100\n",
      "13/13 [==============================] - 0s 3ms/step - loss: 1.4881 - mae: 1.4881\n",
      "Epoch 62/100\n",
      "13/13 [==============================] - 0s 3ms/step - loss: 1.4819 - mae: 1.4819\n",
      "Epoch 63/100\n",
      "13/13 [==============================] - 0s 3ms/step - loss: 1.4794 - mae: 1.4794\n",
      "Epoch 64/100\n",
      "13/13 [==============================] - 0s 3ms/step - loss: 1.4762 - mae: 1.4762\n",
      "Epoch 65/100\n",
      "13/13 [==============================] - 0s 3ms/step - loss: 1.4780 - mae: 1.4780\n",
      "Epoch 66/100\n",
      "13/13 [==============================] - 0s 3ms/step - loss: 1.4748 - mae: 1.4748\n",
      "Epoch 67/100\n",
      "13/13 [==============================] - 0s 3ms/step - loss: 1.4744 - mae: 1.4744\n",
      "Epoch 68/100\n",
      "13/13 [==============================] - 0s 3ms/step - loss: 1.4754 - mae: 1.4754\n",
      "Epoch 69/100\n",
      "13/13 [==============================] - 0s 3ms/step - loss: 1.4754 - mae: 1.4754\n",
      "Epoch 70/100\n",
      "13/13 [==============================] - 0s 3ms/step - loss: 1.4707 - mae: 1.4707\n",
      "Epoch 71/100\n",
      "13/13 [==============================] - 0s 3ms/step - loss: 1.4708 - mae: 1.4708\n",
      "Epoch 72/100\n",
      "13/13 [==============================] - 0s 3ms/step - loss: 1.4740 - mae: 1.4740\n",
      "Epoch 73/100\n",
      "13/13 [==============================] - 0s 3ms/step - loss: 1.4700 - mae: 1.4700\n",
      "Epoch 74/100\n",
      "13/13 [==============================] - 0s 3ms/step - loss: 1.4689 - mae: 1.4689\n",
      "Epoch 75/100\n",
      "13/13 [==============================] - 0s 3ms/step - loss: 1.4678 - mae: 1.4678\n",
      "Epoch 76/100\n",
      "13/13 [==============================] - 0s 4ms/step - loss: 1.4681 - mae: 1.4681\n",
      "Epoch 77/100\n",
      "13/13 [==============================] - 0s 3ms/step - loss: 1.4661 - mae: 1.4661\n",
      "Epoch 78/100\n",
      "13/13 [==============================] - 0s 4ms/step - loss: 1.4634 - mae: 1.4634\n",
      "Epoch 79/100\n",
      "13/13 [==============================] - 0s 3ms/step - loss: 1.4636 - mae: 1.4636\n",
      "Epoch 80/100\n",
      "13/13 [==============================] - 0s 4ms/step - loss: 1.4634 - mae: 1.4634\n",
      "Epoch 81/100\n",
      "13/13 [==============================] - 0s 3ms/step - loss: 1.4629 - mae: 1.4629\n",
      "Epoch 82/100\n",
      "13/13 [==============================] - 0s 3ms/step - loss: 1.4651 - mae: 1.4651\n",
      "Epoch 83/100\n",
      "13/13 [==============================] - 0s 3ms/step - loss: 1.4629 - mae: 1.4629\n",
      "Epoch 84/100\n",
      "13/13 [==============================] - 0s 4ms/step - loss: 1.4665 - mae: 1.4665\n",
      "Epoch 85/100\n",
      "13/13 [==============================] - 0s 3ms/step - loss: 1.4641 - mae: 1.4641\n",
      "Epoch 86/100\n",
      "13/13 [==============================] - 0s 3ms/step - loss: 1.4604 - mae: 1.4604\n",
      "Epoch 87/100\n"
     ]
    },
    {
     "name": "stdout",
     "output_type": "stream",
     "text": [
      "13/13 [==============================] - 0s 4ms/step - loss: 1.4620 - mae: 1.4620\n",
      "Epoch 88/100\n",
      "13/13 [==============================] - 0s 4ms/step - loss: 1.4669 - mae: 1.4669\n",
      "Epoch 89/100\n",
      "13/13 [==============================] - 0s 3ms/step - loss: 1.4568 - mae: 1.4568\n",
      "Epoch 90/100\n",
      "13/13 [==============================] - 0s 3ms/step - loss: 1.4561 - mae: 1.4561\n",
      "Epoch 91/100\n",
      "13/13 [==============================] - 0s 3ms/step - loss: 1.4559 - mae: 1.4559\n",
      "Epoch 92/100\n",
      "13/13 [==============================] - 0s 3ms/step - loss: 1.4544 - mae: 1.4544\n",
      "Epoch 93/100\n",
      "13/13 [==============================] - 0s 3ms/step - loss: 1.4527 - mae: 1.4527\n",
      "Epoch 94/100\n",
      "13/13 [==============================] - 0s 3ms/step - loss: 1.4519 - mae: 1.4519\n",
      "Epoch 95/100\n",
      "13/13 [==============================] - 0s 3ms/step - loss: 1.4530 - mae: 1.4530\n",
      "Epoch 96/100\n",
      "13/13 [==============================] - 0s 3ms/step - loss: 1.4508 - mae: 1.4508\n",
      "Epoch 97/100\n",
      "13/13 [==============================] - 0s 3ms/step - loss: 1.4502 - mae: 1.4502\n",
      "Epoch 98/100\n",
      "13/13 [==============================] - 0s 4ms/step - loss: 1.4523 - mae: 1.4523\n",
      "Epoch 99/100\n",
      "13/13 [==============================] - 0s 3ms/step - loss: 1.4511 - mae: 1.4511\n",
      "Epoch 100/100\n",
      "13/13 [==============================] - 0s 3ms/step - loss: 1.4504 - mae: 1.4504\n",
      "Epoch 1/100\n",
      "13/13 [==============================] - 2s 3ms/step - loss: 4.5474 - mse: 4.5474\n",
      "Epoch 2/100\n",
      "13/13 [==============================] - 0s 3ms/step - loss: 4.5173 - mse: 4.5173\n",
      "Epoch 3/100\n",
      "13/13 [==============================] - 0s 3ms/step - loss: 4.4841 - mse: 4.4841\n",
      "Epoch 4/100\n",
      "13/13 [==============================] - 0s 2ms/step - loss: 4.4759 - mse: 4.4759\n",
      "Epoch 5/100\n",
      "13/13 [==============================] - 0s 3ms/step - loss: 4.4751 - mse: 4.4751\n",
      "Epoch 6/100\n",
      "13/13 [==============================] - 0s 3ms/step - loss: 4.4419 - mse: 4.4419\n",
      "Epoch 7/100\n",
      "13/13 [==============================] - 0s 3ms/step - loss: 4.4403 - mse: 4.4403\n",
      "Epoch 8/100\n",
      "13/13 [==============================] - 0s 3ms/step - loss: 4.4270 - mse: 4.4270\n",
      "Epoch 9/100\n",
      "13/13 [==============================] - 0s 3ms/step - loss: 4.4279 - mse: 4.4279\n",
      "Epoch 10/100\n",
      "13/13 [==============================] - 0s 3ms/step - loss: 4.4105 - mse: 4.4105\n",
      "Epoch 11/100\n",
      "13/13 [==============================] - 0s 3ms/step - loss: 4.4161 - mse: 4.4161\n",
      "Epoch 12/100\n",
      "13/13 [==============================] - 0s 3ms/step - loss: 4.3989 - mse: 4.3989\n",
      "Epoch 13/100\n",
      "13/13 [==============================] - 0s 3ms/step - loss: 4.4145 - mse: 4.4145\n",
      "Epoch 14/100\n",
      "13/13 [==============================] - 0s 4ms/step - loss: 4.3965 - mse: 4.3965\n",
      "Epoch 15/100\n",
      "13/13 [==============================] - 0s 3ms/step - loss: 4.3899 - mse: 4.3899\n",
      "Epoch 16/100\n",
      "13/13 [==============================] - 0s 4ms/step - loss: 4.4280 - mse: 4.4280\n",
      "Epoch 17/100\n",
      "13/13 [==============================] - 0s 4ms/step - loss: 4.3783 - mse: 4.3783\n",
      "Epoch 18/100\n",
      "13/13 [==============================] - 0s 3ms/step - loss: 4.3650 - mse: 4.3650\n",
      "Epoch 19/100\n",
      "13/13 [==============================] - 0s 3ms/step - loss: 4.3673 - mse: 4.3673\n",
      "Epoch 20/100\n",
      "13/13 [==============================] - 0s 3ms/step - loss: 4.3744 - mse: 4.3744\n",
      "Epoch 21/100\n",
      "13/13 [==============================] - 0s 3ms/step - loss: 4.3816 - mse: 4.3816\n",
      "Epoch 22/100\n",
      "13/13 [==============================] - 0s 4ms/step - loss: 4.3532 - mse: 4.3532\n",
      "Epoch 23/100\n",
      "13/13 [==============================] - 0s 4ms/step - loss: 4.3509 - mse: 4.3509\n",
      "Epoch 24/100\n",
      "13/13 [==============================] - 0s 3ms/step - loss: 4.3583 - mse: 4.3583\n",
      "Epoch 25/100\n",
      "13/13 [==============================] - 0s 5ms/step - loss: 4.3666 - mse: 4.3666\n",
      "Epoch 26/100\n",
      "13/13 [==============================] - 0s 5ms/step - loss: 4.3450 - mse: 4.3450\n",
      "Epoch 27/100\n",
      "13/13 [==============================] - 0s 5ms/step - loss: 4.3429 - mse: 4.3429\n",
      "Epoch 28/100\n",
      "13/13 [==============================] - 0s 5ms/step - loss: 4.3476 - mse: 4.3476\n",
      "Epoch 29/100\n",
      "13/13 [==============================] - 0s 5ms/step - loss: 4.3326 - mse: 4.3326\n",
      "Epoch 30/100\n",
      "13/13 [==============================] - 0s 5ms/step - loss: 4.3345 - mse: 4.3345\n",
      "Epoch 31/100\n",
      "13/13 [==============================] - 0s 5ms/step - loss: 4.3312 - mse: 4.3312\n",
      "Epoch 32/100\n",
      "13/13 [==============================] - 0s 5ms/step - loss: 4.3373 - mse: 4.3373\n",
      "Epoch 33/100\n",
      "13/13 [==============================] - 0s 5ms/step - loss: 4.3177 - mse: 4.3177\n",
      "Epoch 34/100\n",
      "13/13 [==============================] - 0s 5ms/step - loss: 4.3220 - mse: 4.3220\n",
      "Epoch 35/100\n",
      "13/13 [==============================] - 0s 6ms/step - loss: 4.3323 - mse: 4.3323\n",
      "Epoch 36/100\n",
      "13/13 [==============================] - 0s 5ms/step - loss: 4.3410 - mse: 4.3410\n",
      "Epoch 37/100\n",
      "13/13 [==============================] - 0s 5ms/step - loss: 4.3117 - mse: 4.3117\n",
      "Epoch 38/100\n",
      "13/13 [==============================] - 0s 5ms/step - loss: 4.3030 - mse: 4.3030\n",
      "Epoch 39/100\n",
      "13/13 [==============================] - 0s 5ms/step - loss: 4.3160 - mse: 4.3160\n",
      "Epoch 40/100\n",
      "13/13 [==============================] - 0s 6ms/step - loss: 4.2944 - mse: 4.2944\n",
      "Epoch 41/100\n",
      "13/13 [==============================] - 0s 5ms/step - loss: 4.2933 - mse: 4.2933\n",
      "Epoch 42/100\n",
      "13/13 [==============================] - 0s 6ms/step - loss: 4.2909 - mse: 4.2909\n",
      "Epoch 43/100\n",
      "13/13 [==============================] - 0s 7ms/step - loss: 4.2910 - mse: 4.2910\n",
      "Epoch 44/100\n",
      "13/13 [==============================] - 0s 6ms/step - loss: 4.2905 - mse: 4.2905\n",
      "Epoch 45/100\n",
      "13/13 [==============================] - 0s 8ms/step - loss: 4.2849 - mse: 4.2849\n",
      "Epoch 46/100\n",
      "13/13 [==============================] - 0s 6ms/step - loss: 4.2950 - mse: 4.2950\n",
      "Epoch 47/100\n",
      "13/13 [==============================] - 0s 7ms/step - loss: 4.2811 - mse: 4.2811\n",
      "Epoch 48/100\n",
      "13/13 [==============================] - 0s 8ms/step - loss: 4.2948 - mse: 4.2948\n",
      "Epoch 49/100\n",
      "13/13 [==============================] - 0s 6ms/step - loss: 4.2753 - mse: 4.2753\n",
      "Epoch 50/100\n",
      "13/13 [==============================] - 0s 8ms/step - loss: 4.2862 - mse: 4.2862\n",
      "Epoch 51/100\n",
      "13/13 [==============================] - 0s 7ms/step - loss: 4.2799 - mse: 4.2799\n",
      "Epoch 52/100\n",
      "13/13 [==============================] - 0s 7ms/step - loss: 4.3022 - mse: 4.3022\n",
      "Epoch 53/100\n",
      "13/13 [==============================] - 0s 8ms/step - loss: 4.3093 - mse: 4.3093\n",
      "Epoch 54/100\n",
      "13/13 [==============================] - 0s 6ms/step - loss: 4.2650 - mse: 4.2650\n",
      "Epoch 55/100\n",
      "13/13 [==============================] - 0s 7ms/step - loss: 4.2764 - mse: 4.2764\n",
      "Epoch 56/100\n",
      "13/13 [==============================] - 0s 8ms/step - loss: 4.2695 - mse: 4.2695\n",
      "Epoch 57/100\n",
      "13/13 [==============================] - 0s 4ms/step - loss: 4.2651 - mse: 4.2651\n",
      "Epoch 58/100\n",
      "13/13 [==============================] - 0s 4ms/step - loss: 4.2701 - mse: 4.2701\n",
      "Epoch 59/100\n",
      "13/13 [==============================] - 0s 3ms/step - loss: 4.2577 - mse: 4.2577\n",
      "Epoch 60/100\n",
      "13/13 [==============================] - 0s 3ms/step - loss: 4.2606 - mse: 4.2606\n",
      "Epoch 61/100\n",
      "13/13 [==============================] - 0s 6ms/step - loss: 4.2571 - mse: 4.2571\n",
      "Epoch 62/100\n",
      "13/13 [==============================] - 0s 6ms/step - loss: 4.2543 - mse: 4.2543\n",
      "Epoch 63/100\n",
      "13/13 [==============================] - 0s 6ms/step - loss: 4.2485 - mse: 4.2485\n",
      "Epoch 64/100\n",
      "13/13 [==============================] - 0s 6ms/step - loss: 4.2588 - mse: 4.2588\n",
      "Epoch 65/100\n",
      "13/13 [==============================] - 0s 7ms/step - loss: 4.2566 - mse: 4.2566\n",
      "Epoch 66/100\n",
      "13/13 [==============================] - 0s 6ms/step - loss: 4.2425 - mse: 4.2425\n",
      "Epoch 67/100\n",
      "13/13 [==============================] - 0s 6ms/step - loss: 4.2582 - mse: 4.2582\n",
      "Epoch 68/100\n",
      "13/13 [==============================] - 0s 6ms/step - loss: 4.2811 - mse: 4.2811\n",
      "Epoch 69/100\n",
      "13/13 [==============================] - 0s 7ms/step - loss: 4.2479 - mse: 4.2479\n",
      "Epoch 70/100\n",
      "13/13 [==============================] - 0s 7ms/step - loss: 4.2471 - mse: 4.2471\n",
      "Epoch 71/100\n",
      "13/13 [==============================] - 0s 5ms/step - loss: 4.2446 - mse: 4.2446\n",
      "Epoch 72/100\n",
      "13/13 [==============================] - 0s 5ms/step - loss: 4.2351 - mse: 4.2351\n",
      "Epoch 73/100\n"
     ]
    },
    {
     "name": "stdout",
     "output_type": "stream",
     "text": [
      "13/13 [==============================] - 0s 5ms/step - loss: 4.2375 - mse: 4.2375\n",
      "Epoch 74/100\n",
      "13/13 [==============================] - 0s 6ms/step - loss: 4.2233 - mse: 4.2233\n",
      "Epoch 75/100\n",
      "13/13 [==============================] - 0s 8ms/step - loss: 4.2231 - mse: 4.2231\n",
      "Epoch 76/100\n",
      "13/13 [==============================] - 0s 6ms/step - loss: 4.2226 - mse: 4.2226\n",
      "Epoch 77/100\n",
      "13/13 [==============================] - 0s 6ms/step - loss: 4.2219 - mse: 4.2219\n",
      "Epoch 78/100\n",
      "13/13 [==============================] - 0s 9ms/step - loss: 4.2194 - mse: 4.2194\n",
      "Epoch 79/100\n",
      "13/13 [==============================] - 0s 6ms/step - loss: 4.2216 - mse: 4.2216\n",
      "Epoch 80/100\n",
      "13/13 [==============================] - 0s 3ms/step - loss: 4.2045 - mse: 4.2045\n",
      "Epoch 81/100\n",
      "13/13 [==============================] - 0s 3ms/step - loss: 4.2162 - mse: 4.2162\n",
      "Epoch 82/100\n",
      "13/13 [==============================] - 0s 4ms/step - loss: 4.2096 - mse: 4.2096\n",
      "Epoch 83/100\n",
      "13/13 [==============================] - 0s 6ms/step - loss: 4.1940 - mse: 4.1940\n",
      "Epoch 84/100\n",
      "13/13 [==============================] - 0s 5ms/step - loss: 4.1978 - mse: 4.1978\n",
      "Epoch 85/100\n",
      "13/13 [==============================] - 0s 8ms/step - loss: 4.2158 - mse: 4.2158\n",
      "Epoch 86/100\n",
      "13/13 [==============================] - 0s 6ms/step - loss: 4.1927 - mse: 4.1927\n",
      "Epoch 87/100\n",
      "13/13 [==============================] - 0s 5ms/step - loss: 4.2019 - mse: 4.2019\n",
      "Epoch 88/100\n",
      "13/13 [==============================] - 0s 5ms/step - loss: 4.1914 - mse: 4.1914\n",
      "Epoch 89/100\n",
      "13/13 [==============================] - 0s 5ms/step - loss: 4.1949 - mse: 4.1949\n",
      "Epoch 90/100\n",
      "13/13 [==============================] - 0s 6ms/step - loss: 4.1914 - mse: 4.1914\n",
      "Epoch 91/100\n",
      "13/13 [==============================] - 0s 8ms/step - loss: 4.1897 - mse: 4.1897\n",
      "Epoch 92/100\n",
      "13/13 [==============================] - 0s 4ms/step - loss: 4.1850 - mse: 4.1850\n",
      "Epoch 93/100\n",
      "13/13 [==============================] - 0s 4ms/step - loss: 4.1806 - mse: 4.1806\n",
      "Epoch 94/100\n",
      "13/13 [==============================] - 0s 5ms/step - loss: 4.1841 - mse: 4.1841\n",
      "Epoch 95/100\n",
      "13/13 [==============================] - 0s 5ms/step - loss: 4.1892 - mse: 4.1892\n",
      "Epoch 96/100\n",
      "13/13 [==============================] - 0s 4ms/step - loss: 4.2114 - mse: 4.2114\n",
      "Epoch 97/100\n",
      "13/13 [==============================] - 0s 5ms/step - loss: 4.1808 - mse: 4.1808\n",
      "Epoch 98/100\n",
      "13/13 [==============================] - 0s 5ms/step - loss: 4.1819 - mse: 4.1819\n",
      "Epoch 99/100\n",
      "13/13 [==============================] - 0s 5ms/step - loss: 4.1687 - mse: 4.1687\n",
      "Epoch 100/100\n",
      "13/13 [==============================] - 0s 4ms/step - loss: 4.1743 - mse: 4.1743\n",
      "MAE - Train: 1.4504, Validation: 1.4504\n",
      "MSE - Train: 4.1743, Validation: 4.1743\n"
     ]
    },
    {
     "data": {
      "image/png": "[encoded data removed]",
      "text/plain": [
       "<Figure size 432x288 with 1 Axes>"
      ]
     },
     "metadata": {
      "needs_background": "light"
     },
     "output_type": "display_data"
    }
   ],
   "source": [
    "# YOUR CODE HERE\n",
    "\n",
    "optimizer = Adam\n",
    "es = EarlyStopping(patience=10, restore_best_weights=True)\n",
    "\n",
    "\n",
    "model.compile(optimizer='adam', loss='mae', metrics=['mae'])\n",
    "history_mae = model.fit(X_train, y_train, batch_size=32, epochs=100)\n",
    "\n",
    "model.compile(optimizer='adam', loss='mse', metrics=['mse'])\n",
    "history_mse = model.fit(X_train, y_train, batch_size=32, epochs=100)\n",
    "\n",
    "mae_train_mae, mae_val_mae = history_mae.history['mae'], history_mae.history['mae']\n",
    "mse_train_mse, mse_val_mse = history_mse.history['mse'], history_mse.history['mse']\n",
    "\n",
    "print(f'MAE - Train: {mae_train_mae[-1]:.4f}, Validation: {mae_val_mae[-1]:.4f}')\n",
    "print(f'MSE - Train: {mse_train_mse[-1]:.4f}, Validation: {mse_val_mse[-1]:.4f}')\n",
    "\n",
    "plt.plot(history_mae.history['mae'], label='val_mae')\n",
    "plt.plot(history_mae.history['mae'], label='mae')\n",
    "plt.title('MAE')\n",
    "plt.ylabel('MAE')\n",
    "plt.xlabel('Epoch')\n",
    "plt.legend(['Validation', 'Train'], loc='upper right')\n",
    "plt.show()"
   ]
  },
  {
   "cell_type": "markdown",
   "metadata": {},
   "source": [
    "❗️ Countrary to first intuition, it can be sometimes better to use the MSE as the loss function in order to get the best MAE possible in the end!\n",
    "\n",
    "<details>\n",
    "    <summary>▶ Why?</summary>\n",
    "\n",
    "Well, even the Deep Learning research community is still trying to answer these types of questions rigorously.\n",
    "    \n",
    "One thing for sure: In Deep Learning, you will never really reach the \"global minimum\" of the true loss function (the one computed using your entire training set as one single \"batch\"). So, in your first model (minimizing the MAE loss), your global MAE minimum has clearly **not** been reached (otherwise you could never beat it). \n",
    "\n",
    "Why? It may well be that the minimization process of the second model has performed better. Maybe because the loss function \"energy map\" is \"smoother\" or more \"convex\" in the case of MSE loss? Or maybe your hyper-parameter are best suited to the MSE than to the MAE loss?\n",
    "\n",
    "</details>"
   ]
  },
  {
   "cell_type": "markdown",
   "metadata": {},
   "source": [
    "### 🧪 Test your model best performance\n",
    "\n",
    "❓ Save your best model performance on the test set at `mae_test` and check it out below"
   ]
  },
  {
   "cell_type": "code",
   "execution_count": 22,
   "metadata": {},
   "outputs": [
    {
     "ename": "AttributeError",
     "evalue": "'NoneType' object has no attribute 'evaluate'",
     "output_type": "error",
     "traceback": [
      "\u001b[1;31m---------------------------------------------------------------------------\u001b[0m",
      "\u001b[1;31mAttributeError\u001b[0m                            Traceback (most recent call last)",
      "Input \u001b[1;32mIn [22]\u001b[0m, in \u001b[0;36m<cell line: 1>\u001b[1;34m()\u001b[0m\n\u001b[1;32m----> 1\u001b[0m _, mae_test_mae \u001b[38;5;241m=\u001b[39m \u001b[43mmodel\u001b[49m\u001b[38;5;241;43m.\u001b[39;49m\u001b[43mevaluate\u001b[49m(X_test, y_test, verbose\u001b[38;5;241m=\u001b[39m\u001b[38;5;241m0\u001b[39m)\n\u001b[0;32m      2\u001b[0m \u001b[38;5;28mprint\u001b[39m(\u001b[38;5;124mf\u001b[39m\u001b[38;5;124m'\u001b[39m\u001b[38;5;124mMAE on test set: \u001b[39m\u001b[38;5;132;01m{\u001b[39;00mmae_test_mae\u001b[38;5;132;01m:\u001b[39;00m\u001b[38;5;124m.4f\u001b[39m\u001b[38;5;132;01m}\u001b[39;00m\u001b[38;5;124m'\u001b[39m)\n\u001b[0;32m      4\u001b[0m _, mae_test_mse \u001b[38;5;241m=\u001b[39m model\u001b[38;5;241m.\u001b[39mevaluate(X_test, y_test, verbose\u001b[38;5;241m=\u001b[39m\u001b[38;5;241m0\u001b[39m)\n",
      "\u001b[1;31mAttributeError\u001b[0m: 'NoneType' object has no attribute 'evaluate'"
     ]
    }
   ],
   "source": [
    "_, mae_test_mae = model.evaluate(X_test, y_test, verbose=0)\n",
    "print(f'MAE on test set: {mae_test_mae:.4f}')\n",
    "\n",
    "_, mae_test_mse = model.evaluate(X_test, y_test, verbose=0)\n",
    "print(f'MSE on test set: {mae_test_mse:.4f}')"
   ]
  },
  {
   "cell_type": "code",
   "execution_count": 21,
   "metadata": {},
   "outputs": [
    {
     "ename": "AttributeError",
     "evalue": "'NoneType' object has no attribute 'fit'",
     "output_type": "error",
     "traceback": [
      "\u001b[1;31m---------------------------------------------------------------------------\u001b[0m",
      "\u001b[1;31mAttributeError\u001b[0m                            Traceback (most recent call last)",
      "Input \u001b[1;32mIn [21]\u001b[0m, in \u001b[0;36m<cell line: 11>\u001b[1;34m()\u001b[0m\n\u001b[0;32m      7\u001b[0m mae_test \u001b[38;5;241m=\u001b[39m ModelCheckpoint(filepath, verbose\u001b[38;5;241m=\u001b[39m\u001b[38;5;241m1\u001b[39m,\n\u001b[0;32m      8\u001b[0m                           save_best_only\u001b[38;5;241m=\u001b[39m\u001b[38;5;28;01mTrue\u001b[39;00m, monitor\u001b[38;5;241m=\u001b[39m\u001b[38;5;124m'\u001b[39m\u001b[38;5;124mval_mae\u001b[39m\u001b[38;5;124m'\u001b[39m)\n\u001b[0;32m     10\u001b[0m \u001b[38;5;66;03m# fit model and save the best performance\u001b[39;00m\n\u001b[1;32m---> 11\u001b[0m history \u001b[38;5;241m=\u001b[39m \u001b[43mmodel\u001b[49m\u001b[38;5;241;43m.\u001b[39;49m\u001b[43mfit\u001b[49m(X_train, y_train, validation_data\u001b[38;5;241m=\u001b[39m(X_test, y_test), callbacks\u001b[38;5;241m=\u001b[39m[mae_test])\n",
      "\u001b[1;31mAttributeError\u001b[0m: 'NoneType' object has no attribute 'fit'"
     ]
    }
   ],
   "source": [
    "# YOUR CODE HERE\n",
    "\n",
    "from keras.callbacks import ModelCheckpoint\n",
    "\n",
    "# define checkpoint path and file\n",
    "filepath = 'best_model.h5'\n",
    "mae_test = ModelCheckpoint(filepath, verbose=1,\n",
    "                          save_best_only=True, monitor='val_mae')\n",
    "\n",
    "# fit model and save the best performance\n",
    "history = model.fit(X_train, y_train, validation_data=(X_test, y_test), callbacks=[mae_test])"
   ]
  },
  {
   "cell_type": "markdown",
   "metadata": {},
   "source": [
    "# 4 : Save and load a model\n",
    "\n",
    "❓ **Question** ❓  Save your model using `.save_model(model, 'name_of_my_model')` method that you can find [here](https://www.tensorflow.org/api_docs/python/tf/keras/models/save_model).."
   ]
  },
  {
   "cell_type": "markdown",
   "metadata": {},
   "source": [
    "❓ **Question** ❓ Now, in a variable that you will call `loaded_model`, load the model you just saved thanks to `.load_model('name_of_your_model')` [(documentation here)](https://www.tensorflow.org/api_docs/python/tf/keras/models/load_model), and evaluate it on the test data to check that it gives the same result as before."
   ]
  },
  {
   "cell_type": "code",
   "execution_count": null,
   "metadata": {
    "tags": [
     "challengify"
    ]
   },
   "outputs": [],
   "source": [
    "# YOUR CODE"
   ]
  },
  {
   "cell_type": "markdown",
   "metadata": {},
   "source": [
    "## (Optional) `Exponential Decay` for the Optimizer's Learning Rate\n",
    "\n",
    "The next question is not essential and can be skipped as many algorithms can be run without such optimization. \n",
    "\n",
    "Instead of keeping a fixed learning rate, you can change it from one iteration to the other, with the intuition that at first, you need large learning rates, and as the neural network converges and get closer to the minimum loss value, you can decrease the value of the learning rate. This is called a **`scheduler`**. \n",
    "\n",
    "❓ **Question** ❓ Use the [Exponential Decay Scheduler](https://www.tensorflow.org/api_docs/python/tf/keras/optimizers/schedules/ExponentialDecay) in the `adam` optimizer and run it on the previous data. Start with the following:\n",
    "\n",
    "```python\n",
    "initial_learning_rate = 0.001 # start with default ADAM value\n",
    "\n",
    "lr_schedule = ExponentialDecay(\n",
    "    # Every 5000 iterations, multiply the learning rate by 0.7\n",
    "    initial_learning_rate, decay_steps=5000, decay_rate=0.7,\n",
    ")\n",
    "```"
   ]
  },
  {
   "cell_type": "code",
   "execution_count": null,
   "metadata": {},
   "outputs": [],
   "source": [
    "# YOUR CODE HERE"
   ]
  },
  {
   "cell_type": "code",
   "execution_count": null,
   "metadata": {},
   "outputs": [],
   "source": []
  }
 ],
 "metadata": {
  "kernelspec": {
   "display_name": "Python 3 (ipykernel)",
   "language": "python",
   "name": "python3"
  },
  "language_info": {
   "codemirror_mode": {
    "name": "ipython",
    "version": 3
   },
   "file_extension": ".py",
   "mimetype": "text/x-python",
   "name": "python",
   "nbconvert_exporter": "python",
   "pygments_lexer": "ipython3",
   "version": "3.9.12"
  }
 },
 "nbformat": 4,
 "nbformat_minor": 2
}
