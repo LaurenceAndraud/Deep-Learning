{
 "cells": [
  {
   "cell_type": "markdown",
   "metadata": {},
   "source": [
    "# Finetune your Neural Network\n",
    "\n",
    "**Exercise objectives:**\n",
    "- `Finetune` the model optimizer\n",
    "- `Save` and `Load` a `trained neural network`\n",
    "\n",
    "<hr>\n",
    "\n",
    "Now that you have solid foundations of what Neural Networks, how to design their architecture and how to regularize them, let's take a closer look at the `.compile(loss = ..., metrics = ..., activation = ...)` part.\n",
    "\n",
    "# Data\n",
    "\n",
    "We will use the data from the `Boston Housing dataset`. \n",
    "\n",
    "Our goal is to `predict the values of the houses` (in k USD), and we will measure our models' performances  using the `Mean Absolute Error` metrics"
   ]
  },
  {
   "cell_type": "code",
   "execution_count": 7,
   "metadata": {},
   "outputs": [],
   "source": [
    "import numpy as np\n",
    "import pandas as pd\n",
    "from tensorflow.keras.datasets import boston_housing\n",
    "import matplotlib.pyplot as plt\n",
    "import seaborn as sns\n",
    "%matplotlib inline"
   ]
  },
  {
   "cell_type": "code",
   "execution_count": 8,
   "metadata": {},
   "outputs": [
    {
     "data": {
      "text/plain": [
       "<AxesSubplot:ylabel='Count'>"
      ]
     },
     "execution_count": 8,
     "metadata": {},
     "output_type": "execute_result"
    },
    {
     "data": {
      "image/png": "[encoded data removed]",
      "text/plain": [
       "<Figure size 432x288 with 1 Axes>"
      ]
     },
     "metadata": {
      "needs_background": "light"
     },
     "output_type": "display_data"
    }
   ],
   "source": [
    "(X_train, y_train), (X_test, y_test) = boston_housing.load_data()\n",
    "X_train.shape\n",
    "sns.histplot(y_train)"
   ]
  },
  {
   "cell_type": "code",
   "execution_count": 9,
   "metadata": {},
   "outputs": [
    {
     "name": "stdout",
     "output_type": "stream",
     "text": [
      "<class 'pandas.core.frame.DataFrame'>\n",
      "RangeIndex: 404 entries, 0 to 403\n",
      "Data columns (total 13 columns):\n",
      " #   Column  Non-Null Count  Dtype  \n",
      "---  ------  --------------  -----  \n",
      " 0   0       404 non-null    float64\n",
      " 1   1       404 non-null    float64\n",
      " 2   2       404 non-null    float64\n",
      " 3   3       404 non-null    float64\n",
      " 4   4       404 non-null    float64\n",
      " 5   5       404 non-null    float64\n",
      " 6   6       404 non-null    float64\n",
      " 7   7       404 non-null    float64\n",
      " 8   8       404 non-null    float64\n",
      " 9   9       404 non-null    float64\n",
      " 10  10      404 non-null    float64\n",
      " 11  11      404 non-null    float64\n",
      " 12  12      404 non-null    float64\n",
      "dtypes: float64(13)\n",
      "memory usage: 41.2 KB\n"
     ]
    }
   ],
   "source": [
    "pd.DataFrame(X_train).info()"
   ]
  },
  {
   "cell_type": "code",
   "execution_count": 10,
   "metadata": {},
   "outputs": [
    {
     "data": {
      "text/html": [
       "<div>\n",
       "<style scoped>\n",
       "    .dataframe tbody tr th:only-of-type {\n",
       "        vertical-align: middle;\n",
       "    }\n",
       "\n",
       "    .dataframe tbody tr th {\n",
       "        vertical-align: top;\n",
       "    }\n",
       "\n",
       "    .dataframe thead th {\n",
       "        text-align: right;\n",
       "    }\n",
       "</style>\n",
       "<table border=\"1\" class=\"dataframe\">\n",
       "  <thead>\n",
       "    <tr style=\"text-align: right;\">\n",
       "      <th></th>\n",
       "      <th>0</th>\n",
       "      <th>1</th>\n",
       "      <th>2</th>\n",
       "      <th>3</th>\n",
       "      <th>4</th>\n",
       "      <th>5</th>\n",
       "      <th>6</th>\n",
       "      <th>7</th>\n",
       "      <th>8</th>\n",
       "      <th>9</th>\n",
       "      <th>10</th>\n",
       "      <th>11</th>\n",
       "      <th>12</th>\n",
       "    </tr>\n",
       "  </thead>\n",
       "  <tbody>\n",
       "    <tr>\n",
       "      <th>count</th>\n",
       "      <td>404.000000</td>\n",
       "      <td>404.000000</td>\n",
       "      <td>404.000000</td>\n",
       "      <td>404.000000</td>\n",
       "      <td>404.000000</td>\n",
       "      <td>404.000000</td>\n",
       "      <td>404.000000</td>\n",
       "      <td>404.000000</td>\n",
       "      <td>404.000000</td>\n",
       "      <td>404.000000</td>\n",
       "      <td>404.000000</td>\n",
       "      <td>404.000000</td>\n",
       "      <td>404.000000</td>\n",
       "    </tr>\n",
       "    <tr>\n",
       "      <th>mean</th>\n",
       "      <td>3.745111</td>\n",
       "      <td>11.480198</td>\n",
       "      <td>11.104431</td>\n",
       "      <td>0.061881</td>\n",
       "      <td>0.557356</td>\n",
       "      <td>6.267082</td>\n",
       "      <td>69.010644</td>\n",
       "      <td>3.740271</td>\n",
       "      <td>9.440594</td>\n",
       "      <td>405.898515</td>\n",
       "      <td>18.475990</td>\n",
       "      <td>354.783168</td>\n",
       "      <td>12.740817</td>\n",
       "    </tr>\n",
       "    <tr>\n",
       "      <th>std</th>\n",
       "      <td>9.240734</td>\n",
       "      <td>23.767711</td>\n",
       "      <td>6.811308</td>\n",
       "      <td>0.241238</td>\n",
       "      <td>0.117293</td>\n",
       "      <td>0.709788</td>\n",
       "      <td>27.940665</td>\n",
       "      <td>2.030215</td>\n",
       "      <td>8.698360</td>\n",
       "      <td>166.374543</td>\n",
       "      <td>2.200382</td>\n",
       "      <td>94.111148</td>\n",
       "      <td>7.254545</td>\n",
       "    </tr>\n",
       "    <tr>\n",
       "      <th>min</th>\n",
       "      <td>0.006320</td>\n",
       "      <td>0.000000</td>\n",
       "      <td>0.460000</td>\n",
       "      <td>0.000000</td>\n",
       "      <td>0.385000</td>\n",
       "      <td>3.561000</td>\n",
       "      <td>2.900000</td>\n",
       "      <td>1.129600</td>\n",
       "      <td>1.000000</td>\n",
       "      <td>188.000000</td>\n",
       "      <td>12.600000</td>\n",
       "      <td>0.320000</td>\n",
       "      <td>1.730000</td>\n",
       "    </tr>\n",
       "    <tr>\n",
       "      <th>25%</th>\n",
       "      <td>0.081437</td>\n",
       "      <td>0.000000</td>\n",
       "      <td>5.130000</td>\n",
       "      <td>0.000000</td>\n",
       "      <td>0.453000</td>\n",
       "      <td>5.874750</td>\n",
       "      <td>45.475000</td>\n",
       "      <td>2.077100</td>\n",
       "      <td>4.000000</td>\n",
       "      <td>279.000000</td>\n",
       "      <td>17.225000</td>\n",
       "      <td>374.672500</td>\n",
       "      <td>6.890000</td>\n",
       "    </tr>\n",
       "    <tr>\n",
       "      <th>50%</th>\n",
       "      <td>0.268880</td>\n",
       "      <td>0.000000</td>\n",
       "      <td>9.690000</td>\n",
       "      <td>0.000000</td>\n",
       "      <td>0.538000</td>\n",
       "      <td>6.198500</td>\n",
       "      <td>78.500000</td>\n",
       "      <td>3.142300</td>\n",
       "      <td>5.000000</td>\n",
       "      <td>330.000000</td>\n",
       "      <td>19.100000</td>\n",
       "      <td>391.250000</td>\n",
       "      <td>11.395000</td>\n",
       "    </tr>\n",
       "    <tr>\n",
       "      <th>75%</th>\n",
       "      <td>3.674808</td>\n",
       "      <td>12.500000</td>\n",
       "      <td>18.100000</td>\n",
       "      <td>0.000000</td>\n",
       "      <td>0.631000</td>\n",
       "      <td>6.609000</td>\n",
       "      <td>94.100000</td>\n",
       "      <td>5.118000</td>\n",
       "      <td>24.000000</td>\n",
       "      <td>666.000000</td>\n",
       "      <td>20.200000</td>\n",
       "      <td>396.157500</td>\n",
       "      <td>17.092500</td>\n",
       "    </tr>\n",
       "    <tr>\n",
       "      <th>max</th>\n",
       "      <td>88.976200</td>\n",
       "      <td>100.000000</td>\n",
       "      <td>27.740000</td>\n",
       "      <td>1.000000</td>\n",
       "      <td>0.871000</td>\n",
       "      <td>8.725000</td>\n",
       "      <td>100.000000</td>\n",
       "      <td>10.710300</td>\n",
       "      <td>24.000000</td>\n",
       "      <td>711.000000</td>\n",
       "      <td>22.000000</td>\n",
       "      <td>396.900000</td>\n",
       "      <td>37.970000</td>\n",
       "    </tr>\n",
       "  </tbody>\n",
       "</table>\n",
       "</div>"
      ],
      "text/plain": [
       "               0           1           2           3           4           5   \\\n",
       "count  404.000000  404.000000  404.000000  404.000000  404.000000  404.000000   \n",
       "mean     3.745111   11.480198   11.104431    0.061881    0.557356    6.267082   \n",
       "std      9.240734   23.767711    6.811308    0.241238    0.117293    0.709788   \n",
       "min      0.006320    0.000000    0.460000    0.000000    0.385000    3.561000   \n",
       "25%      0.081437    0.000000    5.130000    0.000000    0.453000    5.874750   \n",
       "50%      0.268880    0.000000    9.690000    0.000000    0.538000    6.198500   \n",
       "75%      3.674808   12.500000   18.100000    0.000000    0.631000    6.609000   \n",
       "max     88.976200  100.000000   27.740000    1.000000    0.871000    8.725000   \n",
       "\n",
       "               6           7           8           9           10          11  \\\n",
       "count  404.000000  404.000000  404.000000  404.000000  404.000000  404.000000   \n",
       "mean    69.010644    3.740271    9.440594  405.898515   18.475990  354.783168   \n",
       "std     27.940665    2.030215    8.698360  166.374543    2.200382   94.111148   \n",
       "min      2.900000    1.129600    1.000000  188.000000   12.600000    0.320000   \n",
       "25%     45.475000    2.077100    4.000000  279.000000   17.225000  374.672500   \n",
       "50%     78.500000    3.142300    5.000000  330.000000   19.100000  391.250000   \n",
       "75%     94.100000    5.118000   24.000000  666.000000   20.200000  396.157500   \n",
       "max    100.000000   10.710300   24.000000  711.000000   22.000000  396.900000   \n",
       "\n",
       "               12  \n",
       "count  404.000000  \n",
       "mean    12.740817  \n",
       "std      7.254545  \n",
       "min      1.730000  \n",
       "25%      6.890000  \n",
       "50%     11.395000  \n",
       "75%     17.092500  \n",
       "max     37.970000  "
      ]
     },
     "execution_count": 10,
     "metadata": {},
     "output_type": "execute_result"
    }
   ],
   "source": [
    "pd.DataFrame(X_train).describe()"
   ]
  },
  {
   "cell_type": "markdown",
   "metadata": {},
   "source": [
    "❓ **Question** ❓ Standardize `X_train` and `X_test` set without data leakage, and replace them keeping similar variable names"
   ]
  },
  {
   "cell_type": "code",
   "execution_count": 11,
   "metadata": {},
   "outputs": [],
   "source": [
    "from sklearn.preprocessing import StandardScaler\n",
    "\n",
    "scaler = StandardScaler()\n",
    "scaler.fit(X_train)\n",
    "X_train = scaler.transform(X_train)\n",
    "X_test = scaler.transform(X_test)"
   ]
  },
  {
   "cell_type": "markdown",
   "metadata": {},
   "source": [
    "❓ **Question** ❓ To get a sense of a benchmark score you have to beat, what is the mean absolute error on the test set if your dumb prediction corresponds to the mean value of $y$ computed on the train set?"
   ]
  },
  {
   "cell_type": "code",
   "execution_count": 12,
   "metadata": {},
   "outputs": [],
   "source": [
    "from sklearn.metrics import mean_absolute_error\n",
    "\n",
    "y_train_mean = y_train.mean()\n",
    "y_test_predictions = [y_train_mean] * len(y_test)\n",
    "test_mae = mean_absolute_error(y_test, y_test_predictions)"
   ]
  },
  {
   "cell_type": "markdown",
   "metadata": {},
   "source": [
    "# 1. The model\n",
    "\n",
    "❓ **Question** ❓ Now, write a function `initialize_model` that generates a neural network with 3 layers: \n",
    "- a layer with 10 neurons and the `relu` activation function (choose the appropriate input dimension)\n",
    "- a layer with 7 neurons and the `relu` activation function\n",
    "- an appropriate layer corresponding to the problem at hand"
   ]
  },
  {
   "cell_type": "code",
   "execution_count": 13,
   "metadata": {},
   "outputs": [],
   "source": [
    "from tensorflow.keras import models\n",
    "from tensorflow.keras import layers\n",
    "from keras.models import Sequential\n",
    "from keras.layers import Dense, Activation\n",
    "\n",
    "def initialize_model():\n",
    "    model = Sequential()\n",
    "    model.add(Dense(10, input_dim=13, activation='relu'))\n",
    "    model.add(Dense(7, activation='relu'))\n",
    "    model.add(Dense(1))\n",
    "    \n",
    "    return model\n",
    "\n",
    "model = initialize_model()"
   ]
  },
  {
   "cell_type": "markdown",
   "metadata": {},
   "source": [
    "# 2. The optimizer\n",
    "\n",
    "❓ **Question** ❓ Write a function that :\n",
    "* takes as arguments a model and an optimizer, \n",
    "* `compiles` the model,\n",
    "* and returns the compiled model\n",
    "\n",
    "Please select the `loss function` to be optimized and  the `metrics` on which the model should be evaluated wisely."
   ]
  },
  {
   "cell_type": "code",
   "execution_count": 14,
   "metadata": {},
   "outputs": [
    {
     "name": "stdout",
     "output_type": "stream",
     "text": [
      "Epoch 1/100\n",
      "13/13 [==============================] - 2s 4ms/step - loss: 577.0201\n",
      "Epoch 2/100\n",
      "13/13 [==============================] - 0s 3ms/step - loss: 568.0271\n",
      "Epoch 3/100\n",
      "13/13 [==============================] - 0s 3ms/step - loss: 559.4549\n",
      "Epoch 4/100\n",
      "13/13 [==============================] - 0s 3ms/step - loss: 550.2664\n",
      "Epoch 5/100\n",
      "13/13 [==============================] - 0s 3ms/step - loss: 539.3973\n",
      "Epoch 6/100\n",
      "13/13 [==============================] - 0s 3ms/step - loss: 526.5170\n",
      "Epoch 7/100\n",
      "13/13 [==============================] - 0s 3ms/step - loss: 511.6814\n",
      "Epoch 8/100\n",
      "13/13 [==============================] - 0s 3ms/step - loss: 494.9281\n",
      "Epoch 9/100\n",
      "13/13 [==============================] - 0s 3ms/step - loss: 475.5656\n",
      "Epoch 10/100\n",
      "13/13 [==============================] - 0s 3ms/step - loss: 453.0016\n",
      "Epoch 11/100\n",
      "13/13 [==============================] - 0s 3ms/step - loss: 428.4083\n",
      "Epoch 12/100\n",
      "13/13 [==============================] - 0s 3ms/step - loss: 400.0362\n",
      "Epoch 13/100\n",
      "13/13 [==============================] - 0s 3ms/step - loss: 369.0651\n",
      "Epoch 14/100\n",
      "13/13 [==============================] - 0s 3ms/step - loss: 335.9734\n",
      "Epoch 15/100\n",
      "13/13 [==============================] - 0s 3ms/step - loss: 302.5271\n",
      "Epoch 16/100\n",
      "13/13 [==============================] - 0s 3ms/step - loss: 268.9174\n",
      "Epoch 17/100\n",
      "13/13 [==============================] - 0s 3ms/step - loss: 236.6304\n",
      "Epoch 18/100\n",
      "13/13 [==============================] - 0s 3ms/step - loss: 207.8795\n",
      "Epoch 19/100\n",
      "13/13 [==============================] - 0s 3ms/step - loss: 182.6979\n",
      "Epoch 20/100\n",
      "13/13 [==============================] - 0s 3ms/step - loss: 162.0472\n",
      "Epoch 21/100\n",
      "13/13 [==============================] - 0s 5ms/step - loss: 145.5414\n",
      "Epoch 22/100\n",
      "13/13 [==============================] - 0s 3ms/step - loss: 131.8400\n",
      "Epoch 23/100\n",
      "13/13 [==============================] - 0s 3ms/step - loss: 121.4120\n",
      "Epoch 24/100\n",
      "13/13 [==============================] - 0s 3ms/step - loss: 112.4147\n",
      "Epoch 25/100\n",
      "13/13 [==============================] - 0s 3ms/step - loss: 104.1762\n",
      "Epoch 26/100\n",
      "13/13 [==============================] - 0s 3ms/step - loss: 97.2254\n",
      "Epoch 27/100\n",
      "13/13 [==============================] - 0s 3ms/step - loss: 90.8196\n",
      "Epoch 28/100\n",
      "13/13 [==============================] - 0s 3ms/step - loss: 85.0632\n",
      "Epoch 29/100\n",
      "13/13 [==============================] - 0s 3ms/step - loss: 79.6562\n",
      "Epoch 30/100\n",
      "13/13 [==============================] - 0s 3ms/step - loss: 74.8581\n",
      "Epoch 31/100\n",
      "13/13 [==============================] - 0s 3ms/step - loss: 70.1401\n",
      "Epoch 32/100\n",
      "13/13 [==============================] - 0s 3ms/step - loss: 65.9669\n",
      "Epoch 33/100\n",
      "13/13 [==============================] - 0s 3ms/step - loss: 62.1459\n",
      "Epoch 34/100\n",
      "13/13 [==============================] - 0s 3ms/step - loss: 58.8870\n",
      "Epoch 35/100\n",
      "13/13 [==============================] - 0s 3ms/step - loss: 55.6524\n",
      "Epoch 36/100\n",
      "13/13 [==============================] - 0s 3ms/step - loss: 53.1080\n",
      "Epoch 37/100\n",
      "13/13 [==============================] - 0s 3ms/step - loss: 50.3337\n",
      "Epoch 38/100\n",
      "13/13 [==============================] - 0s 3ms/step - loss: 48.0813\n",
      "Epoch 39/100\n",
      "13/13 [==============================] - 0s 3ms/step - loss: 45.8509\n",
      "Epoch 40/100\n",
      "13/13 [==============================] - 0s 3ms/step - loss: 44.0483\n",
      "Epoch 41/100\n",
      "13/13 [==============================] - 0s 3ms/step - loss: 42.3207\n",
      "Epoch 42/100\n",
      "13/13 [==============================] - 0s 3ms/step - loss: 40.8026\n",
      "Epoch 43/100\n",
      "13/13 [==============================] - 0s 3ms/step - loss: 39.3038\n",
      "Epoch 44/100\n",
      "13/13 [==============================] - 0s 3ms/step - loss: 37.9604\n",
      "Epoch 45/100\n",
      "13/13 [==============================] - 0s 3ms/step - loss: 36.8496\n",
      "Epoch 46/100\n",
      "13/13 [==============================] - 0s 3ms/step - loss: 35.8276\n",
      "Epoch 47/100\n",
      "13/13 [==============================] - 0s 3ms/step - loss: 34.8471\n",
      "Epoch 48/100\n",
      "13/13 [==============================] - 0s 3ms/step - loss: 33.9988\n",
      "Epoch 49/100\n",
      "13/13 [==============================] - 0s 3ms/step - loss: 33.1577\n",
      "Epoch 50/100\n",
      "13/13 [==============================] - 0s 3ms/step - loss: 32.4385\n",
      "Epoch 51/100\n",
      "13/13 [==============================] - 0s 4ms/step - loss: 31.7715\n",
      "Epoch 52/100\n",
      "13/13 [==============================] - 0s 3ms/step - loss: 31.0322\n",
      "Epoch 53/100\n",
      "13/13 [==============================] - 0s 3ms/step - loss: 30.3665\n",
      "Epoch 54/100\n",
      "13/13 [==============================] - 0s 3ms/step - loss: 29.7759\n",
      "Epoch 55/100\n",
      "13/13 [==============================] - 0s 3ms/step - loss: 29.2323\n",
      "Epoch 56/100\n",
      "13/13 [==============================] - 0s 3ms/step - loss: 28.6456\n",
      "Epoch 57/100\n",
      "13/13 [==============================] - 0s 4ms/step - loss: 28.0773\n",
      "Epoch 58/100\n",
      "13/13 [==============================] - 0s 4ms/step - loss: 27.5554\n",
      "Epoch 59/100\n",
      "13/13 [==============================] - 0s 3ms/step - loss: 27.0980\n",
      "Epoch 60/100\n",
      "13/13 [==============================] - 0s 3ms/step - loss: 26.5958\n",
      "Epoch 61/100\n",
      "13/13 [==============================] - 0s 3ms/step - loss: 26.1351\n",
      "Epoch 62/100\n",
      "13/13 [==============================] - 0s 3ms/step - loss: 25.6968\n",
      "Epoch 63/100\n",
      "13/13 [==============================] - 0s 3ms/step - loss: 25.2424\n",
      "Epoch 64/100\n",
      "13/13 [==============================] - 0s 3ms/step - loss: 24.8184\n",
      "Epoch 65/100\n",
      "13/13 [==============================] - 0s 3ms/step - loss: 24.4124\n",
      "Epoch 66/100\n",
      "13/13 [==============================] - 0s 3ms/step - loss: 23.9759\n",
      "Epoch 67/100\n",
      "13/13 [==============================] - 0s 3ms/step - loss: 23.5762\n",
      "Epoch 68/100\n",
      "13/13 [==============================] - 0s 3ms/step - loss: 23.1815\n",
      "Epoch 69/100\n",
      "13/13 [==============================] - 0s 3ms/step - loss: 22.8571\n",
      "Epoch 70/100\n",
      "13/13 [==============================] - 0s 3ms/step - loss: 22.4946\n",
      "Epoch 71/100\n",
      "13/13 [==============================] - 0s 3ms/step - loss: 22.1428\n",
      "Epoch 72/100\n",
      "13/13 [==============================] - 0s 3ms/step - loss: 21.8420\n",
      "Epoch 73/100\n",
      "13/13 [==============================] - 0s 3ms/step - loss: 21.5049\n",
      "Epoch 74/100\n",
      "13/13 [==============================] - 0s 3ms/step - loss: 21.2376\n",
      "Epoch 75/100\n",
      "13/13 [==============================] - 0s 3ms/step - loss: 20.9482\n",
      "Epoch 76/100\n",
      "13/13 [==============================] - 0s 3ms/step - loss: 20.6466\n",
      "Epoch 77/100\n",
      "13/13 [==============================] - 0s 3ms/step - loss: 20.3476\n",
      "Epoch 78/100\n",
      "13/13 [==============================] - 0s 3ms/step - loss: 20.0840\n",
      "Epoch 79/100\n",
      "13/13 [==============================] - 0s 3ms/step - loss: 19.8377\n",
      "Epoch 80/100\n",
      "13/13 [==============================] - 0s 3ms/step - loss: 19.6233\n",
      "Epoch 81/100\n",
      "13/13 [==============================] - 0s 3ms/step - loss: 19.3479\n",
      "Epoch 82/100\n",
      "13/13 [==============================] - 0s 3ms/step - loss: 19.0705\n",
      "Epoch 83/100\n",
      "13/13 [==============================] - 0s 3ms/step - loss: 18.8916\n",
      "Epoch 84/100\n",
      "13/13 [==============================] - 0s 3ms/step - loss: 18.6540\n",
      "Epoch 85/100\n",
      "13/13 [==============================] - 0s 3ms/step - loss: 18.4720\n",
      "Epoch 86/100\n",
      "13/13 [==============================] - 0s 3ms/step - loss: 18.2129\n",
      "Epoch 87/100\n",
      "13/13 [==============================] - 0s 3ms/step - loss: 18.0265\n",
      "Epoch 88/100\n",
      "13/13 [==============================] - 0s 3ms/step - loss: 17.8277\n",
      "Epoch 89/100\n",
      "13/13 [==============================] - 0s 5ms/step - loss: 17.6935\n",
      "Epoch 90/100\n",
      "13/13 [==============================] - 0s 3ms/step - loss: 17.4749\n",
      "Epoch 91/100\n",
      "13/13 [==============================] - 0s 3ms/step - loss: 17.2285\n",
      "Epoch 92/100\n",
      "13/13 [==============================] - 0s 3ms/step - loss: 17.0692\n",
      "Epoch 93/100\n",
      "13/13 [==============================] - 0s 3ms/step - loss: 16.9018\n",
      "Epoch 94/100\n",
      "13/13 [==============================] - 0s 3ms/step - loss: 16.7209\n",
      "Epoch 95/100\n",
      "13/13 [==============================] - 0s 3ms/step - loss: 16.5480\n",
      "Epoch 96/100\n",
      "13/13 [==============================] - 0s 3ms/step - loss: 16.3832\n",
      "Epoch 97/100\n",
      "13/13 [==============================] - 0s 3ms/step - loss: 16.2363\n",
      "Epoch 98/100\n",
      "13/13 [==============================] - 0s 3ms/step - loss: 16.0768\n",
      "Epoch 99/100\n",
      "13/13 [==============================] - 0s 3ms/step - loss: 15.9131\n",
      "Epoch 100/100\n"
     ]
    },
    {
     "name": "stdout",
     "output_type": "stream",
     "text": [
      "13/13 [==============================] - 0s 3ms/step - loss: 15.7800\n",
      "Model: \"sequential_1\"\n",
      "_________________________________________________________________\n",
      " Layer (type)                Output Shape              Param #   \n",
      "=================================================================\n",
      " dense_3 (Dense)             (None, 10)                140       \n",
      "                                                                 \n",
      " dense_4 (Dense)             (None, 7)                 77        \n",
      "                                                                 \n",
      " dense_5 (Dense)             (None, 1)                 8         \n",
      "                                                                 \n",
      "=================================================================\n",
      "Total params: 225\n",
      "Trainable params: 225\n",
      "Non-trainable params: 0\n",
      "_________________________________________________________________\n",
      "None\n"
     ]
    }
   ],
   "source": [
    "from tensorflow.keras.optimizers import Adam\n",
    "\n",
    "\n",
    "def compile_model(model, optimizer_name):\n",
    "    model.compile(loss='mean_absolute_error', \n",
    "                  optimizer=optimizer_name,\n",
    "                 metrics=['mae'])\n",
    "  \n",
    "    return model\n",
    "\n",
    "model.compile(optimizer=Adam(), loss='mse')\n",
    "model.fit(X_train, y_train, epochs=100)\n",
    "print(model.summary())"
   ]
  },
  {
   "cell_type": "markdown",
   "metadata": {},
   "source": [
    "❓ **Question** ❓ Initialize the model, compile it with the `adam` optimizer and fit it on the data. \n",
    "- Evaluate your model using an Early Stopping criterion."
   ]
  },
  {
   "cell_type": "code",
   "execution_count": 15,
   "metadata": {
    "scrolled": true
   },
   "outputs": [
    {
     "name": "stdout",
     "output_type": "stream",
     "text": [
      "Epoch 1/100\n",
      "13/13 [==============================] - 1s 45ms/step - loss: 15.6347 - val_loss: 27.5311\n",
      "Epoch 2/100\n",
      "13/13 [==============================] - 0s 8ms/step - loss: 15.5355 - val_loss: 28.0065\n",
      "Epoch 3/100\n",
      "13/13 [==============================] - 0s 11ms/step - loss: 15.3785 - val_loss: 27.6827\n",
      "Epoch 4/100\n",
      "13/13 [==============================] - 0s 9ms/step - loss: 15.2215 - val_loss: 27.6194\n",
      "Epoch 5/100\n",
      "13/13 [==============================] - 0s 8ms/step - loss: 15.1020 - val_loss: 27.5561\n",
      "Epoch 6/100\n",
      "13/13 [==============================] - 0s 8ms/step - loss: 14.9564 - val_loss: 27.4684\n",
      "Epoch 7/100\n",
      "13/13 [==============================] - 0s 8ms/step - loss: 14.8541 - val_loss: 27.4118\n",
      "Epoch 8/100\n",
      "13/13 [==============================] - 0s 11ms/step - loss: 14.7157 - val_loss: 27.3809\n",
      "Epoch 9/100\n",
      "13/13 [==============================] - 0s 8ms/step - loss: 14.6364 - val_loss: 27.3882\n",
      "Epoch 10/100\n",
      "13/13 [==============================] - 0s 8ms/step - loss: 14.4742 - val_loss: 27.4623\n",
      "Epoch 11/100\n",
      "13/13 [==============================] - 0s 8ms/step - loss: 14.3498 - val_loss: 27.5906\n",
      "Epoch 12/100\n",
      "13/13 [==============================] - 0s 8ms/step - loss: 14.2621 - val_loss: 27.4511\n",
      "Epoch 13/100\n",
      "13/13 [==============================] - 0s 13ms/step - loss: 14.1713 - val_loss: 27.5905\n",
      "Epoch 14/100\n",
      "13/13 [==============================] - 0s 8ms/step - loss: 14.0320 - val_loss: 27.3370\n",
      "Epoch 15/100\n",
      "13/13 [==============================] - 0s 13ms/step - loss: 13.9397 - val_loss: 27.2040\n",
      "Epoch 16/100\n",
      "13/13 [==============================] - 0s 9ms/step - loss: 13.8427 - val_loss: 27.5130\n",
      "Epoch 17/100\n",
      "13/13 [==============================] - 0s 10ms/step - loss: 13.7559 - val_loss: 27.2897\n",
      "Epoch 18/100\n",
      "13/13 [==============================] - 0s 9ms/step - loss: 13.6481 - val_loss: 27.2460\n",
      "Epoch 19/100\n",
      "13/13 [==============================] - 0s 9ms/step - loss: 13.5474 - val_loss: 27.4367\n",
      "Epoch 20/100\n",
      "13/13 [==============================] - 0s 9ms/step - loss: 13.4548 - val_loss: 27.5719\n",
      "Epoch 21/100\n",
      "13/13 [==============================] - 0s 8ms/step - loss: 13.3886 - val_loss: 27.2679\n",
      "Epoch 22/100\n",
      "13/13 [==============================] - 0s 9ms/step - loss: 13.2933 - val_loss: 27.2000\n",
      "Epoch 23/100\n",
      "13/13 [==============================] - 0s 8ms/step - loss: 13.2212 - val_loss: 27.5080\n",
      "Epoch 24/100\n",
      "13/13 [==============================] - 0s 8ms/step - loss: 13.1312 - val_loss: 27.6070\n",
      "Epoch 25/100\n",
      "13/13 [==============================] - 0s 7ms/step - loss: 13.0545 - val_loss: 27.5258\n",
      "Epoch 26/100\n",
      "13/13 [==============================] - 0s 8ms/step - loss: 12.9700 - val_loss: 27.0694\n",
      "Epoch 27/100\n",
      "13/13 [==============================] - 0s 8ms/step - loss: 12.9123 - val_loss: 27.1676\n",
      "Epoch 28/100\n",
      "13/13 [==============================] - 0s 8ms/step - loss: 12.8447 - val_loss: 27.5815\n",
      "Epoch 29/100\n",
      "13/13 [==============================] - 0s 8ms/step - loss: 12.7316 - val_loss: 27.3476\n",
      "Epoch 30/100\n",
      "13/13 [==============================] - 0s 8ms/step - loss: 12.6741 - val_loss: 27.0166\n",
      "Epoch 31/100\n",
      "13/13 [==============================] - 0s 7ms/step - loss: 12.5938 - val_loss: 27.1837\n",
      "Epoch 32/100\n",
      "13/13 [==============================] - 0s 8ms/step - loss: 12.5627 - val_loss: 26.7233\n",
      "Epoch 33/100\n",
      "13/13 [==============================] - 0s 8ms/step - loss: 12.4575 - val_loss: 26.9623\n",
      "Epoch 34/100\n",
      "13/13 [==============================] - 0s 8ms/step - loss: 12.3980 - val_loss: 27.0458\n",
      "Epoch 35/100\n",
      "13/13 [==============================] - 0s 8ms/step - loss: 12.3224 - val_loss: 26.9198\n",
      "Epoch 36/100\n",
      "13/13 [==============================] - 0s 8ms/step - loss: 12.2532 - val_loss: 26.7879\n",
      "Epoch 37/100\n",
      "13/13 [==============================] - 0s 9ms/step - loss: 12.2085 - val_loss: 26.9913\n",
      "Epoch 38/100\n",
      "13/13 [==============================] - 0s 8ms/step - loss: 12.1602 - val_loss: 26.9109\n",
      "Epoch 39/100\n",
      "13/13 [==============================] - 0s 8ms/step - loss: 12.0791 - val_loss: 26.8545\n",
      "Epoch 40/100\n",
      "13/13 [==============================] - 0s 8ms/step - loss: 12.0336 - val_loss: 26.7917\n",
      "Epoch 41/100\n",
      "13/13 [==============================] - 0s 8ms/step - loss: 11.9585 - val_loss: 26.8281\n",
      "Epoch 42/100\n",
      "13/13 [==============================] - 0s 7ms/step - loss: 11.9146 - val_loss: 27.0443\n"
     ]
    },
    {
     "data": {
      "text/plain": [
       "<keras.callbacks.History at 0x240610acfa0>"
      ]
     },
     "execution_count": 15,
     "metadata": {},
     "output_type": "execute_result"
    }
   ],
   "source": [
    "from tensorflow.keras.callbacks import EarlyStopping\n",
    "from sklearn.model_selection import train_test_split\n",
    "\n",
    "# Create an Early Stopping object\n",
    "early_stopping = EarlyStopping(monitor='val_loss', patience=10)\n",
    "\n",
    "# Fit the model on the training data with Early Stopping\n",
    "model.fit(X_train, y_train, batch_size=32, epochs=100, validation_data=(X_test, y_test), callbacks=[early_stopping])\n"
   ]
  },
  {
   "cell_type": "markdown",
   "metadata": {},
   "source": [
    "❓ **Question** ❓ Re-run the same model on the same data using different optimizers (in a `for` loop). \n",
    "\n",
    "For each optimizer, plot the history and report the corresponding Mean Absolute Error. (see [here](https://www.tensorflow.org/api_docs/python/tf/keras/optimizers)), as well as the time it took to fit your Neural Net."
   ]
  },
  {
   "cell_type": "code",
   "execution_count": 16,
   "metadata": {},
   "outputs": [],
   "source": [
    "def plot_loss_mae(history):\n",
    "    fig, (ax1, ax2) = plt.subplots(1,2, figsize=(13,4))\n",
    "    ax1.plot(history.history['loss'])\n",
    "    ax1.plot(history.history['val_loss'])\n",
    "    ax1.set_title('Model loss')\n",
    "    ax1.set_ylabel('Loss')\n",
    "    ax1.set_xlabel('Epoch')\n",
    "    ax1.set_ylim(ymin=0, ymax=200)\n",
    "    ax1.legend(['Train', 'Validation'], loc='best')\n",
    "    ax1.grid(axis=\"x\",linewidth=0.5)\n",
    "    ax1.grid(axis=\"y\",linewidth=0.5)    \n",
    "    \n",
    "    ax2.plot(history.history['mae'])\n",
    "    ax2.plot(history.history['val_mae'])\n",
    "    ax2.set_title('MAE')\n",
    "    ax2.set_ylabel('MAE')\n",
    "    ax2.set_xlabel('Epoch')\n",
    "    ax2.set_ylim(ymin=0, ymax=20)\n",
    "    ax2.legend(['Train', 'Validation'], loc='best')\n",
    "    ax2.grid(axis=\"x\",linewidth=0.5)\n",
    "    ax2.grid(axis=\"y\",linewidth=0.5)    \n",
    "\n",
    "    plt.show()\n",
    "\n",
    "def plot_loss_mse(history):\n",
    "    fig, (ax1, ax2) = plt.subplots(1,2, figsize=(13,4))\n",
    "    ax1.plot(history.history['loss'])\n",
    "    ax1.plot(history.history['val_loss'])\n",
    "    ax1.set_title('Model loss')\n",
    "    ax1.set_ylabel('Loss')\n",
    "    ax1.set_xlabel('Epoch')\n",
    "    ax1.set_ylim(ymin=0, ymax=20)\n",
    "    ax1.legend(['Train', 'Validation'], loc='best')\n",
    "    ax1.grid(axis=\"x\",linewidth=0.5)\n",
    "    ax1.grid(axis=\"y\",linewidth=0.5)    \n",
    "\n",
    "    \n",
    "    ax2.plot(history.history['mse'])\n",
    "    ax2.plot(history.history['val_mse'])\n",
    "    ax2.set_title('MSE')\n",
    "    ax2.set_ylabel('MSE')\n",
    "    ax2.set_xlabel('Epoch')\n",
    "    ax2.set_ylim(ymin=0, ymax=200)\n",
    "    ax2.legend(['Train', 'Validation'], loc='best')\n",
    "    ax2.grid(axis=\"x\",linewidth=0.5)\n",
    "    ax2.grid(axis=\"y\",linewidth=0.5)    \n",
    "\n",
    "    plt.show()"
   ]
  },
  {
   "cell_type": "code",
   "execution_count": 20,
   "metadata": {
    "tags": [
     "delete"
    ]
   },
   "outputs": [
    {
     "name": "stdout",
     "output_type": "stream",
     "text": [
      "4/4 [==============================] - 0s 4ms/step - loss: 2.9222 - mae: 2.9222\n",
      "MAE with the rmsprop optimizer: 2.9222  reached in 29 s after 211 epochs\n"
     ]
    },
    {
     "data": {
      "image/png": "[encoded data removed]",
      "text/plain": [
       "<Figure size 936x288 with 2 Axes>"
      ]
     },
     "metadata": {
      "needs_background": "light"
     },
     "output_type": "display_data"
    },
    {
     "name": "stdout",
     "output_type": "stream",
     "text": [
      "4/4 [==============================] - 0s 5ms/step - loss: 2.8333 - mae: 2.8333\n",
      "MAE with the adam optimizer: 2.8333  reached in 26 s after 215 epochs\n"
     ]
    },
    {
     "data": {
      "image/png": "[encoded data removed]",
      "text/plain": [
       "<Figure size 936x288 with 2 Axes>"
      ]
     },
     "metadata": {
      "needs_background": "light"
     },
     "output_type": "display_data"
    },
    {
     "name": "stdout",
     "output_type": "stream",
     "text": [
      "4/4 [==============================] - 0s 4ms/step - loss: 14.5472 - mae: 14.5472\n",
      "MAE with the adagrad optimizer: 14.5472  reached in 60 s after 500 epochs\n"
     ]
    },
    {
     "data": {
      "image/png": "[encoded data removed]",
      "text/plain": [
       "<Figure size 936x288 with 2 Axes>"
      ]
     },
     "metadata": {
      "needs_background": "light"
     },
     "output_type": "display_data"
    }
   ],
   "source": [
    "import time\n",
    "\n",
    "for optimizer in ['rmsprop', 'adam', 'adagrad']:\n",
    "    start_time = time.time()\n",
    "    model = initialize_model()\n",
    "    model = compile_model(model, optimizer)\n",
    "\n",
    "    es = EarlyStopping(patience=10, restore_best_weights=True)\n",
    "\n",
    "    history = model.fit(X_train, y_train, \n",
    "                      batch_size=16, \n",
    "                      epochs=500, \n",
    "                      validation_split=0.3,\n",
    "                      callbacks=[es], verbose=0)\n",
    "\n",
    "    res = model.evaluate(X_test, y_test)[1]\n",
    "    end_time = time.time()\n",
    "\n",
    "    print(f'MAE with the {optimizer} optimizer: {res:.4f}  reached in {(end_time - start_time):.0f} s after {len(history.epoch)} epochs')\n",
    "    plot_loss_mae(history)"
   ]
  },
  {
   "cell_type": "markdown",
   "metadata": {},
   "source": [
    "❓ **Question** ❓ Are your predictions better than the benchmark model you've evaluated at the beginning of the notebook?"
   ]
  },
  {
   "cell_type": "markdown",
   "metadata": {},
   "source": [
    "❗ **Remark** ❗ \n",
    "- Here, the optimizer is may not be central as the data are in low dimensions and and there are not many samples. However, in practice, you are advised to start with the `adam` optimizer by default which often works best. \n",
    "\n",
    "- Internally, when you call any optimizer with a string, the neural network initializes the hyperparameters the optimizer relies on. Among this hyperparameters, there is quite an important one, the **`learning rate`**. This learning rate corresponds to the intensity of change of the weights at each optimization of the neural network. Different learning rates have different consequences, as shown here : \n",
    "\n",
    "<img src=\"learning_rate.png\" alt=\"Learning rate\" style=\"height:350px;\"/>\n",
    "\n",
    "\n",
    "As the learning rate is initialized with default values when you compile the model optimizer with a string, let's see how to do it differently.\n",
    "\n",
    "\n",
    "❓ **Question** ❓ Instead of initializing the optimizer with a string, we will initialize a real optimizer directly. Look at the documentation of [adam](https://www.tensorflow.org/api_docs/python/tf/keras/optimizers/Adam) and instantiate it with a learning rate of $0.1$ - keep the other values to their default values. Use this optimizer in the `compile_model` function, fit the data and plot the history"
   ]
  },
  {
   "cell_type": "code",
   "execution_count": 17,
   "metadata": {
    "tags": [
     "challengify"
    ]
   },
   "outputs": [
    {
     "name": "stdout",
     "output_type": "stream",
     "text": [
      "Epoch 1/100\n",
      "13/13 [==============================] - 2s 33ms/step - loss: 35.6536 - val_loss: 31.6623\n",
      "Epoch 2/100\n",
      "13/13 [==============================] - 0s 9ms/step - loss: 23.1858 - val_loss: 39.6398\n",
      "Epoch 3/100\n",
      "13/13 [==============================] - 0s 8ms/step - loss: 22.2992 - val_loss: 22.3877\n",
      "Epoch 4/100\n",
      "13/13 [==============================] - 0s 8ms/step - loss: 17.9180 - val_loss: 24.8350\n",
      "Epoch 5/100\n",
      "13/13 [==============================] - 0s 8ms/step - loss: 11.5115 - val_loss: 23.9367\n",
      "Epoch 6/100\n",
      "13/13 [==============================] - 0s 9ms/step - loss: 10.7365 - val_loss: 27.5968\n",
      "Epoch 7/100\n",
      "13/13 [==============================] - 0s 9ms/step - loss: 11.6561 - val_loss: 21.3848\n",
      "Epoch 8/100\n",
      "13/13 [==============================] - 0s 9ms/step - loss: 10.6936 - val_loss: 33.9506\n",
      "Epoch 9/100\n",
      "13/13 [==============================] - 0s 8ms/step - loss: 12.2505 - val_loss: 21.3119\n",
      "Epoch 10/100\n",
      "13/13 [==============================] - 0s 8ms/step - loss: 11.3294 - val_loss: 26.6892\n",
      "Epoch 11/100\n",
      "13/13 [==============================] - 0s 8ms/step - loss: 10.2987 - val_loss: 22.9729\n",
      "Epoch 12/100\n",
      "13/13 [==============================] - 0s 8ms/step - loss: 10.8480 - val_loss: 33.0830\n",
      "Epoch 13/100\n",
      "13/13 [==============================] - 0s 8ms/step - loss: 14.5786 - val_loss: 31.1641\n",
      "Epoch 14/100\n",
      "13/13 [==============================] - 0s 8ms/step - loss: 13.8170 - val_loss: 20.6409\n",
      "Epoch 15/100\n",
      "13/13 [==============================] - 0s 9ms/step - loss: 9.2823 - val_loss: 20.7739\n",
      "Epoch 16/100\n",
      "13/13 [==============================] - 0s 8ms/step - loss: 8.7089 - val_loss: 18.6716\n",
      "Epoch 17/100\n",
      "13/13 [==============================] - 0s 8ms/step - loss: 8.3481 - val_loss: 20.6475\n",
      "Epoch 18/100\n",
      "13/13 [==============================] - 0s 8ms/step - loss: 9.5362 - val_loss: 23.4731\n",
      "Epoch 19/100\n",
      "13/13 [==============================] - 0s 8ms/step - loss: 9.1214 - val_loss: 24.5923\n",
      "Epoch 20/100\n",
      "13/13 [==============================] - 0s 8ms/step - loss: 9.0496 - val_loss: 22.6998\n",
      "Epoch 21/100\n",
      "13/13 [==============================] - 0s 8ms/step - loss: 11.6577 - val_loss: 25.3034\n",
      "Epoch 22/100\n",
      "13/13 [==============================] - 0s 9ms/step - loss: 17.2924 - val_loss: 26.3666\n",
      "Epoch 23/100\n",
      "13/13 [==============================] - 0s 8ms/step - loss: 12.9847 - val_loss: 37.9804\n",
      "Epoch 24/100\n",
      "13/13 [==============================] - 0s 8ms/step - loss: 12.8789 - val_loss: 25.6589\n",
      "Epoch 25/100\n",
      "13/13 [==============================] - 0s 8ms/step - loss: 10.7235 - val_loss: 22.7886\n",
      "Epoch 26/100\n",
      "13/13 [==============================] - 0s 8ms/step - loss: 9.9821 - val_loss: 23.2583\n",
      "Epoch 27/100\n",
      "13/13 [==============================] - 0s 8ms/step - loss: 9.8994 - val_loss: 29.7116\n",
      "Epoch 28/100\n",
      "13/13 [==============================] - 0s 10ms/step - loss: 9.8126 - val_loss: 33.3516\n",
      "Epoch 29/100\n",
      "13/13 [==============================] - 0s 8ms/step - loss: 12.9437 - val_loss: 29.5003\n",
      "Epoch 30/100\n",
      "13/13 [==============================] - 0s 8ms/step - loss: 11.5154 - val_loss: 25.8660\n",
      "Epoch 31/100\n",
      "13/13 [==============================] - 0s 10ms/step - loss: 8.4171 - val_loss: 22.5422\n",
      "Epoch 32/100\n",
      "13/13 [==============================] - 0s 9ms/step - loss: 8.4960 - val_loss: 22.1951\n",
      "Epoch 33/100\n",
      "13/13 [==============================] - 0s 8ms/step - loss: 7.6030 - val_loss: 19.0269\n",
      "Epoch 34/100\n",
      "13/13 [==============================] - 0s 8ms/step - loss: 8.1761 - val_loss: 21.4688\n",
      "Epoch 35/100\n",
      "13/13 [==============================] - 0s 7ms/step - loss: 8.5376 - val_loss: 19.1842\n",
      "Epoch 36/100\n",
      "13/13 [==============================] - 0s 8ms/step - loss: 8.8113 - val_loss: 23.0905\n",
      "Epoch 37/100\n",
      "13/13 [==============================] - 0s 8ms/step - loss: 11.9906 - val_loss: 18.5222\n",
      "Epoch 38/100\n",
      "13/13 [==============================] - 0s 9ms/step - loss: 11.6139 - val_loss: 18.4188\n",
      "Epoch 39/100\n",
      "13/13 [==============================] - 0s 9ms/step - loss: 8.1604 - val_loss: 22.0419\n",
      "Epoch 40/100\n",
      "13/13 [==============================] - 0s 8ms/step - loss: 8.1805 - val_loss: 17.5703\n",
      "Epoch 41/100\n",
      "13/13 [==============================] - 0s 10ms/step - loss: 8.3394 - val_loss: 19.5009\n",
      "Epoch 42/100\n",
      "13/13 [==============================] - 0s 8ms/step - loss: 9.0794 - val_loss: 21.5159\n",
      "Epoch 43/100\n",
      "13/13 [==============================] - 0s 8ms/step - loss: 9.2181 - val_loss: 21.3931\n",
      "Epoch 44/100\n",
      "13/13 [==============================] - 0s 8ms/step - loss: 8.9490 - val_loss: 20.3259\n",
      "Epoch 45/100\n",
      "13/13 [==============================] - 0s 8ms/step - loss: 7.8881 - val_loss: 19.7009\n",
      "Epoch 46/100\n",
      "13/13 [==============================] - 0s 8ms/step - loss: 7.3012 - val_loss: 18.2160\n",
      "Epoch 47/100\n",
      "13/13 [==============================] - 0s 8ms/step - loss: 7.9588 - val_loss: 16.9886\n",
      "Epoch 48/100\n",
      "13/13 [==============================] - 0s 8ms/step - loss: 8.5209 - val_loss: 17.0904\n",
      "Epoch 49/100\n",
      "13/13 [==============================] - 0s 8ms/step - loss: 8.7366 - val_loss: 20.8501\n",
      "Epoch 50/100\n",
      "13/13 [==============================] - 0s 8ms/step - loss: 8.8226 - val_loss: 15.5464\n",
      "Epoch 51/100\n",
      "13/13 [==============================] - 0s 10ms/step - loss: 8.8585 - val_loss: 16.8546\n",
      "Epoch 52/100\n",
      "13/13 [==============================] - 0s 9ms/step - loss: 7.7021 - val_loss: 17.5223\n",
      "Epoch 53/100\n",
      "13/13 [==============================] - 0s 10ms/step - loss: 8.2903 - val_loss: 20.3808\n",
      "Epoch 54/100\n",
      "13/13 [==============================] - 0s 11ms/step - loss: 7.9667 - val_loss: 19.0310\n",
      "Epoch 55/100\n",
      "13/13 [==============================] - 0s 7ms/step - loss: 9.7101 - val_loss: 18.4435\n",
      "Epoch 56/100\n",
      "13/13 [==============================] - 0s 9ms/step - loss: 7.6447 - val_loss: 17.8575\n",
      "Epoch 57/100\n",
      "13/13 [==============================] - 0s 8ms/step - loss: 8.4065 - val_loss: 20.9256\n",
      "Epoch 58/100\n",
      "13/13 [==============================] - 0s 8ms/step - loss: 9.9485 - val_loss: 16.0604\n",
      "Epoch 59/100\n",
      "13/13 [==============================] - 0s 8ms/step - loss: 7.9105 - val_loss: 23.3366\n",
      "Epoch 60/100\n",
      "13/13 [==============================] - 0s 8ms/step - loss: 8.7226 - val_loss: 21.6308\n",
      "Epoch 61/100\n",
      "13/13 [==============================] - 0s 8ms/step - loss: 7.6312 - val_loss: 18.4315\n",
      "Epoch 62/100\n",
      "13/13 [==============================] - 0s 9ms/step - loss: 7.0449 - val_loss: 20.4666\n",
      "Epoch 63/100\n",
      "13/13 [==============================] - 0s 8ms/step - loss: 6.6789 - val_loss: 17.0915\n",
      "Epoch 64/100\n",
      "13/13 [==============================] - 0s 8ms/step - loss: 8.2775 - val_loss: 20.6066\n",
      "Epoch 65/100\n",
      "13/13 [==============================] - 0s 11ms/step - loss: 9.2325 - val_loss: 17.4877\n",
      "Epoch 66/100\n",
      "13/13 [==============================] - 0s 11ms/step - loss: 8.0875 - val_loss: 18.1753\n",
      "Epoch 67/100\n",
      "13/13 [==============================] - 0s 13ms/step - loss: 8.2457 - val_loss: 18.7946\n",
      "Epoch 68/100\n",
      "13/13 [==============================] - 0s 15ms/step - loss: 8.3755 - val_loss: 23.1334\n",
      "Epoch 69/100\n",
      "13/13 [==============================] - 0s 9ms/step - loss: 8.5018 - val_loss: 23.4257\n",
      "Epoch 70/100\n",
      "13/13 [==============================] - 0s 9ms/step - loss: 8.1899 - val_loss: 14.2622\n",
      "Epoch 71/100\n",
      "13/13 [==============================] - 0s 8ms/step - loss: 6.7484 - val_loss: 20.8408\n",
      "Epoch 72/100\n",
      "13/13 [==============================] - 0s 8ms/step - loss: 7.8878 - val_loss: 15.6015\n",
      "Epoch 73/100\n",
      "13/13 [==============================] - 0s 8ms/step - loss: 6.5713 - val_loss: 17.7691\n",
      "Epoch 74/100\n",
      "13/13 [==============================] - 0s 8ms/step - loss: 6.5026 - val_loss: 17.3590\n",
      "Epoch 75/100\n",
      "13/13 [==============================] - 0s 8ms/step - loss: 8.0347 - val_loss: 13.9561\n",
      "Epoch 76/100\n",
      "13/13 [==============================] - 0s 8ms/step - loss: 8.5534 - val_loss: 19.0650\n",
      "Epoch 77/100\n",
      "13/13 [==============================] - 0s 10ms/step - loss: 8.7807 - val_loss: 20.0634\n",
      "Epoch 78/100\n",
      "13/13 [==============================] - 0s 8ms/step - loss: 7.0818 - val_loss: 19.3036\n",
      "Epoch 79/100\n",
      "13/13 [==============================] - 0s 8ms/step - loss: 6.8157 - val_loss: 15.0594\n",
      "Epoch 80/100\n",
      "13/13 [==============================] - 0s 8ms/step - loss: 7.2873 - val_loss: 14.9120\n",
      "Epoch 81/100\n",
      "13/13 [==============================] - 0s 8ms/step - loss: 8.6160 - val_loss: 15.0670\n"
     ]
    },
    {
     "name": "stdout",
     "output_type": "stream",
     "text": [
      "Epoch 82/100\n",
      "13/13 [==============================] - 0s 8ms/step - loss: 8.4632 - val_loss: 18.5012\n",
      "Epoch 83/100\n",
      "13/13 [==============================] - 0s 9ms/step - loss: 6.9780 - val_loss: 15.8590\n",
      "Epoch 84/100\n",
      "13/13 [==============================] - 0s 8ms/step - loss: 7.4598 - val_loss: 16.5669\n",
      "Epoch 85/100\n",
      "13/13 [==============================] - 0s 8ms/step - loss: 7.0240 - val_loss: 19.2565\n",
      "Epoch 86/100\n",
      "13/13 [==============================] - 0s 8ms/step - loss: 10.7870 - val_loss: 16.9639\n",
      "Epoch 87/100\n",
      "13/13 [==============================] - 0s 8ms/step - loss: 8.1009 - val_loss: 20.0967\n",
      "Epoch 88/100\n",
      "13/13 [==============================] - 0s 8ms/step - loss: 6.7306 - val_loss: 21.0303\n",
      "Epoch 89/100\n",
      "13/13 [==============================] - 0s 8ms/step - loss: 9.1731 - val_loss: 17.6923\n",
      "Epoch 90/100\n",
      "13/13 [==============================] - 0s 8ms/step - loss: 8.9272 - val_loss: 19.9683\n",
      "Epoch 91/100\n",
      "13/13 [==============================] - 0s 8ms/step - loss: 11.3107 - val_loss: 25.1035\n",
      "Epoch 92/100\n",
      "13/13 [==============================] - 0s 8ms/step - loss: 10.5711 - val_loss: 25.4933\n",
      "Epoch 93/100\n",
      "13/13 [==============================] - 0s 8ms/step - loss: 8.5055 - val_loss: 19.4311\n",
      "Epoch 94/100\n",
      "13/13 [==============================] - 0s 9ms/step - loss: 8.6598 - val_loss: 16.1978\n",
      "Epoch 95/100\n",
      "13/13 [==============================] - 0s 9ms/step - loss: 6.4106 - val_loss: 15.8139\n",
      "Epoch 96/100\n",
      "13/13 [==============================] - 0s 10ms/step - loss: 6.5918 - val_loss: 22.1625\n",
      "Epoch 97/100\n",
      "13/13 [==============================] - 0s 9ms/step - loss: 7.7046 - val_loss: 15.5298\n",
      "Epoch 98/100\n",
      "13/13 [==============================] - 0s 8ms/step - loss: 7.6072 - val_loss: 19.0996\n",
      "Epoch 99/100\n",
      "13/13 [==============================] - 0s 8ms/step - loss: 8.8982 - val_loss: 15.2797\n",
      "Epoch 100/100\n",
      "13/13 [==============================] - 0s 8ms/step - loss: 9.8292 - val_loss: 20.3576\n"
     ]
    },
    {
     "data": {
      "image/png": "[encoded data removed]",
      "text/plain": [
       "<Figure size 432x288 with 1 Axes>"
      ]
     },
     "metadata": {
      "needs_background": "light"
     },
     "output_type": "display_data"
    }
   ],
   "source": [
    "# YOUR CODE HERE\n",
    "optimizer = Adam(learning_rate=0.1)\n",
    "\n",
    "#use the optimizer in the compile model\n",
    "model.compile(optimizer=optimizer, loss='mse')\n",
    "\n",
    "#fit the data\n",
    "history = model.fit(X_train, y_train, batch_size=32, epochs=100,\n",
    "                   validation_data=(X_test, y_test))\n",
    "\n",
    "#plot the history\n",
    "plt.plot(history.history['loss'])\n",
    "plt.plot(history.history['val_loss'])\n",
    "plt.title('Model loss')\n",
    "plt.ylabel('Loss')\n",
    "plt.xlabel('Epoch')\n",
    "plt.legend(['Train', 'Validation'], loc='upper right')\n",
    "plt.show()"
   ]
  },
  {
   "cell_type": "markdown",
   "metadata": {},
   "source": [
    "❓ **Question** ❓ Now, reproduce the same plots and results but for different learning rates.\n",
    "\n",
    "*Remark*: There is a chance that the y-axis is too large for you to visualize the results. In that case, rewrite the plot function to plot only the epochs > 10."
   ]
  },
  {
   "cell_type": "code",
   "execution_count": 21,
   "metadata": {
    "scrolled": true
   },
   "outputs": [
    {
     "name": "stdout",
     "output_type": "stream",
     "text": [
      "4/4 [==============================] - 0s 5ms/step - loss: -336.6793 - accuracy: 0.0000e+00\n"
     ]
    },
    {
     "data": {
      "image/png": "[encoded data removed]",
      "text/plain": [
       "<Figure size 432x288 with 1 Axes>"
      ]
     },
     "metadata": {
      "needs_background": "light"
     },
     "output_type": "display_data"
    },
    {
     "data": {
      "image/png": "[encoded data removed]",
      "text/plain": [
       "<Figure size 432x288 with 1 Axes>"
      ]
     },
     "metadata": {
      "needs_background": "light"
     },
     "output_type": "display_data"
    },
    {
     "name": "stdout",
     "output_type": "stream",
     "text": [
      "4/4 [==============================] - 0s 4ms/step - loss: -336.6793 - accuracy: 0.0000e+00\n"
     ]
    },
    {
     "data": {
      "image/png": "[encoded data removed]",
      "text/plain": [
       "<Figure size 432x288 with 1 Axes>"
      ]
     },
     "metadata": {
      "needs_background": "light"
     },
     "output_type": "display_data"
    },
    {
     "data": {
      "image/png": "[encoded data removed]",
      "text/plain": [
       "<Figure size 432x288 with 1 Axes>"
      ]
     },
     "metadata": {
      "needs_background": "light"
     },
     "output_type": "display_data"
    },
    {
     "name": "stdout",
     "output_type": "stream",
     "text": [
      "4/4 [==============================] - 0s 4ms/step - loss: -336.6793 - accuracy: 0.0000e+00\n"
     ]
    },
    {
     "data": {
      "image/png": "[encoded data removed]",
      "text/plain": [
       "<Figure size 432x288 with 1 Axes>"
      ]
     },
     "metadata": {
      "needs_background": "light"
     },
     "output_type": "display_data"
    },
    {
     "data": {
      "image/png": "[encoded data removed]",
      "text/plain": [
       "<Figure size 432x288 with 1 Axes>"
      ]
     },
     "metadata": {
      "needs_background": "light"
     },
     "output_type": "display_data"
    },
    {
     "name": "stdout",
     "output_type": "stream",
     "text": [
      "4/4 [==============================] - 0s 4ms/step - loss: -336.6793 - accuracy: 0.0000e+00\n"
     ]
    },
    {
     "data": {
      "image/png": "[encoded data removed]",
      "text/plain": [
       "<Figure size 432x288 with 1 Axes>"
      ]
     },
     "metadata": {
      "needs_background": "light"
     },
     "output_type": "display_data"
    },
    {
     "data": {
      "image/png": "[encoded data removed]",
      "text/plain": [
       "<Figure size 432x288 with 1 Axes>"
      ]
     },
     "metadata": {
      "needs_background": "light"
     },
     "output_type": "display_data"
    },
    {
     "name": "stdout",
     "output_type": "stream",
     "text": [
      "4/4 [==============================] - 0s 5ms/step - loss: -336.6793 - accuracy: 0.0000e+00\n"
     ]
    },
    {
     "data": {
      "image/png": "[encoded data removed]",
      "text/plain": [
       "<Figure size 432x288 with 1 Axes>"
      ]
     },
     "metadata": {
      "needs_background": "light"
     },
     "output_type": "display_data"
    },
    {
     "data": {
      "image/png": "[encoded data removed]",
      "text/plain": [
       "<Figure size 432x288 with 1 Axes>"
      ]
     },
     "metadata": {
      "needs_background": "light"
     },
     "output_type": "display_data"
    },
    {
     "name": "stdout",
     "output_type": "stream",
     "text": [
      "4/4 [==============================] - 0s 4ms/step - loss: -336.6793 - accuracy: 0.0000e+00\n"
     ]
    },
    {
     "data": {
      "image/png": "[encoded data removed]",
      "text/plain": [
       "<Figure size 432x288 with 1 Axes>"
      ]
     },
     "metadata": {
      "needs_background": "light"
     },
     "output_type": "display_data"
    },
    {
     "data": {
      "image/png": "[encoded data removed]",
      "text/plain": [
       "<Figure size 432x288 with 1 Axes>"
      ]
     },
     "metadata": {
      "needs_background": "light"
     },
     "output_type": "display_data"
    }
   ],
   "source": [
    "learning_rates = [0.0001, 0.001, 0.01, 0.1, 1, 5]\n",
    "\n",
    "for lr in learning_rates:\n",
    "    optimizer = Adam(learning_rate=lr)\n",
    "    start_time=time.time()\n",
    "    model.compile(optimizer=optimizer, loss='binary_crossentropy',\n",
    "                 metrics=['accuracy'])\n",
    "    \n",
    "    es = EarlyStopping(patience=10, restore_best_weights=True)\n",
    "    \n",
    "    history = model.fit(X_train, y_train, epochs=10, batch_size=32,\n",
    "                       validation_data=(X_test, y_test),\n",
    "                       callbacks=[es], verbose=0)\n",
    "    \n",
    "    res = model.evaluate(X_test, y_test)\n",
    "    end_time = time.time()\n",
    "    \n",
    "    plt.plot(history.history['accuracy'])\n",
    "    plt.plot(history.history['val_accuracy'])\n",
    "    plt.title('Model accuracy (lr=' + str(lr) + ')')\n",
    "    plt.ylabel('Accuracy')\n",
    "    plt.xlabel('Epoch')\n",
    "    plt.legend(['Train', 'Validation'], loc='upper left')\n",
    "    plt.show()\n",
    "\n",
    "    plt.plot(history.history['loss'])\n",
    "    plt.plot(history.history['val_loss'])\n",
    "    plt.title('Model loss (lr=' + str(lr) + ')')\n",
    "    plt.ylabel('Loss')\n",
    "    plt.xlabel('Epoch')\n",
    "    plt.legend(['Train', 'Validation'], loc='upper left')\n",
    "    plt.show() \n",
    "   "
   ]
  },
  {
   "cell_type": "markdown",
   "metadata": {},
   "source": [
    "# 3. The loss\n",
    "\n",
    "⚠️ It is important to **clearly understand the different between metrics and losses**. \n",
    "\n",
    "* The `loss functions` are computed *during* the training procedure\n",
    "* The `metrics` are computed *after* training your models !\n",
    "* Some metrics can be used as loss functions too... as long as they are differentiable ! (e.g. the *MSE*)\n",
    "\n",
    "❓ **Question** ❓ Run the same neural network, once with the `mae` as the loss, and once with the `mse`.  \n",
    "\n",
    "In both case, compare `mae_train`, `mae_val`, `mse_train`, `mse_val` and conclude."
   ]
  },
  {
   "cell_type": "code",
   "execution_count": 29,
   "metadata": {},
   "outputs": [
    {
     "name": "stdout",
     "output_type": "stream",
     "text": [
      "Epoch 1/100\n",
      "13/13 [==============================] - 2s 3ms/step - loss: 1.5276 - mae: 1.5276\n",
      "Epoch 2/100\n",
      "13/13 [==============================] - 0s 3ms/step - loss: 1.5046 - mae: 1.5046\n",
      "Epoch 3/100\n",
      "13/13 [==============================] - 0s 3ms/step - loss: 1.5076 - mae: 1.5076\n",
      "Epoch 4/100\n",
      "13/13 [==============================] - 0s 3ms/step - loss: 1.5047 - mae: 1.5047\n",
      "Epoch 5/100\n",
      "13/13 [==============================] - 0s 3ms/step - loss: 1.4965 - mae: 1.4965\n",
      "Epoch 6/100\n",
      "13/13 [==============================] - 0s 3ms/step - loss: 1.4944 - mae: 1.4944\n",
      "Epoch 7/100\n",
      "13/13 [==============================] - 0s 3ms/step - loss: 1.4948 - mae: 1.4948\n",
      "Epoch 8/100\n",
      "13/13 [==============================] - 0s 3ms/step - loss: 1.4953 - mae: 1.4953\n",
      "Epoch 9/100\n",
      "13/13 [==============================] - 0s 3ms/step - loss: 1.4864 - mae: 1.4864\n",
      "Epoch 10/100\n",
      "13/13 [==============================] - 0s 3ms/step - loss: 1.4804 - mae: 1.4804\n",
      "Epoch 11/100\n",
      "13/13 [==============================] - 0s 3ms/step - loss: 1.4797 - mae: 1.4797\n",
      "Epoch 12/100\n",
      "13/13 [==============================] - 0s 3ms/step - loss: 1.4821 - mae: 1.4821\n",
      "Epoch 13/100\n",
      "13/13 [==============================] - 0s 3ms/step - loss: 1.4785 - mae: 1.4785\n",
      "Epoch 14/100\n",
      "13/13 [==============================] - 0s 3ms/step - loss: 1.4760 - mae: 1.4760\n",
      "Epoch 15/100\n",
      "13/13 [==============================] - 0s 3ms/step - loss: 1.4771 - mae: 1.4771\n",
      "Epoch 16/100\n",
      "13/13 [==============================] - 0s 4ms/step - loss: 1.4742 - mae: 1.4742\n",
      "Epoch 17/100\n",
      "13/13 [==============================] - 0s 3ms/step - loss: 1.4761 - mae: 1.4761\n",
      "Epoch 18/100\n",
      "13/13 [==============================] - 0s 3ms/step - loss: 1.4728 - mae: 1.4728\n",
      "Epoch 19/100\n",
      "13/13 [==============================] - 0s 3ms/step - loss: 1.4722 - mae: 1.4722\n",
      "Epoch 20/100\n",
      "13/13 [==============================] - 0s 3ms/step - loss: 1.4697 - mae: 1.4697\n",
      "Epoch 21/100\n",
      "13/13 [==============================] - 0s 3ms/step - loss: 1.4686 - mae: 1.4686\n",
      "Epoch 22/100\n",
      "13/13 [==============================] - 0s 3ms/step - loss: 1.4715 - mae: 1.4715\n",
      "Epoch 23/100\n",
      "13/13 [==============================] - 0s 6ms/step - loss: 1.4658 - mae: 1.4658\n",
      "Epoch 24/100\n",
      "13/13 [==============================] - 0s 5ms/step - loss: 1.4700 - mae: 1.4700\n",
      "Epoch 25/100\n",
      "13/13 [==============================] - 0s 4ms/step - loss: 1.4631 - mae: 1.4631\n",
      "Epoch 26/100\n",
      "13/13 [==============================] - 0s 3ms/step - loss: 1.4660 - mae: 1.4660\n",
      "Epoch 27/100\n",
      "13/13 [==============================] - 0s 3ms/step - loss: 1.4647 - mae: 1.4647\n",
      "Epoch 28/100\n",
      "13/13 [==============================] - 0s 3ms/step - loss: 1.4758 - mae: 1.4758\n",
      "Epoch 29/100\n",
      "13/13 [==============================] - 0s 3ms/step - loss: 1.4611 - mae: 1.4611\n",
      "Epoch 30/100\n",
      "13/13 [==============================] - 0s 3ms/step - loss: 1.4652 - mae: 1.4652\n",
      "Epoch 31/100\n",
      "13/13 [==============================] - 0s 3ms/step - loss: 1.4643 - mae: 1.4643\n",
      "Epoch 32/100\n",
      "13/13 [==============================] - 0s 3ms/step - loss: 1.4714 - mae: 1.4714\n",
      "Epoch 33/100\n",
      "13/13 [==============================] - 0s 4ms/step - loss: 1.4658 - mae: 1.4658\n",
      "Epoch 34/100\n",
      "13/13 [==============================] - 0s 3ms/step - loss: 1.4654 - mae: 1.4654\n",
      "Epoch 35/100\n",
      "13/13 [==============================] - 0s 3ms/step - loss: 1.4678 - mae: 1.4678\n",
      "Epoch 36/100\n",
      "13/13 [==============================] - 0s 3ms/step - loss: 1.4601 - mae: 1.4601\n",
      "Epoch 37/100\n",
      "13/13 [==============================] - 0s 3ms/step - loss: 1.4571 - mae: 1.4571\n",
      "Epoch 38/100\n",
      "13/13 [==============================] - 0s 4ms/step - loss: 1.4663 - mae: 1.4663\n",
      "Epoch 39/100\n",
      "13/13 [==============================] - 0s 3ms/step - loss: 1.4819 - mae: 1.4819\n",
      "Epoch 40/100\n",
      "13/13 [==============================] - 0s 3ms/step - loss: 1.4762 - mae: 1.4762\n",
      "Epoch 41/100\n",
      "13/13 [==============================] - 0s 3ms/step - loss: 1.4648 - mae: 1.4648\n",
      "Epoch 42/100\n",
      "13/13 [==============================] - 0s 3ms/step - loss: 1.4653 - mae: 1.4653\n",
      "Epoch 43/100\n",
      "13/13 [==============================] - 0s 3ms/step - loss: 1.4735 - mae: 1.4735\n",
      "Epoch 44/100\n",
      "13/13 [==============================] - 0s 3ms/step - loss: 1.4803 - mae: 1.4803\n",
      "Epoch 45/100\n",
      "13/13 [==============================] - 0s 3ms/step - loss: 1.4774 - mae: 1.4774\n",
      "Epoch 46/100\n",
      "13/13 [==============================] - 0s 3ms/step - loss: 1.4668 - mae: 1.4668\n",
      "Epoch 47/100\n",
      "13/13 [==============================] - 0s 3ms/step - loss: 1.4637 - mae: 1.4637\n",
      "Epoch 48/100\n",
      "13/13 [==============================] - 0s 3ms/step - loss: 1.4582 - mae: 1.4582\n",
      "Epoch 49/100\n",
      "13/13 [==============================] - 0s 3ms/step - loss: 1.4582 - mae: 1.4582\n",
      "Epoch 50/100\n",
      "13/13 [==============================] - 0s 3ms/step - loss: 1.4509 - mae: 1.4509\n",
      "Epoch 51/100\n",
      "13/13 [==============================] - 0s 3ms/step - loss: 1.4547 - mae: 1.4547\n",
      "Epoch 52/100\n",
      "13/13 [==============================] - 0s 3ms/step - loss: 1.4549 - mae: 1.4549\n",
      "Epoch 53/100\n",
      "13/13 [==============================] - 0s 3ms/step - loss: 1.4479 - mae: 1.4479\n",
      "Epoch 54/100\n",
      "13/13 [==============================] - 0s 3ms/step - loss: 1.4636 - mae: 1.4636\n",
      "Epoch 55/100\n",
      "13/13 [==============================] - 0s 4ms/step - loss: 1.4516 - mae: 1.4516\n",
      "Epoch 56/100\n",
      "13/13 [==============================] - 0s 3ms/step - loss: 1.4541 - mae: 1.4541\n",
      "Epoch 57/100\n",
      "13/13 [==============================] - 0s 3ms/step - loss: 1.4505 - mae: 1.4505\n",
      "Epoch 58/100\n",
      "13/13 [==============================] - 0s 3ms/step - loss: 1.4535 - mae: 1.4535\n",
      "Epoch 59/100\n",
      "13/13 [==============================] - 0s 3ms/step - loss: 1.4489 - mae: 1.4489\n",
      "Epoch 60/100\n",
      "13/13 [==============================] - 0s 3ms/step - loss: 1.4632 - mae: 1.4632\n",
      "Epoch 61/100\n",
      "13/13 [==============================] - 0s 3ms/step - loss: 1.4525 - mae: 1.4525\n",
      "Epoch 62/100\n",
      "13/13 [==============================] - 0s 3ms/step - loss: 1.4549 - mae: 1.4549\n",
      "Epoch 63/100\n",
      "13/13 [==============================] - 0s 3ms/step - loss: 1.4647 - mae: 1.4647\n",
      "Epoch 64/100\n",
      "13/13 [==============================] - 0s 3ms/step - loss: 1.4567 - mae: 1.4567\n",
      "Epoch 65/100\n",
      "13/13 [==============================] - 0s 3ms/step - loss: 1.4503 - mae: 1.4503\n",
      "Epoch 66/100\n",
      "13/13 [==============================] - 0s 3ms/step - loss: 1.4509 - mae: 1.4509\n",
      "Epoch 67/100\n",
      "13/13 [==============================] - 0s 3ms/step - loss: 1.4481 - mae: 1.4481\n",
      "Epoch 68/100\n",
      "13/13 [==============================] - 0s 3ms/step - loss: 1.4569 - mae: 1.4569\n",
      "Epoch 69/100\n",
      "13/13 [==============================] - 0s 3ms/step - loss: 1.4451 - mae: 1.4451\n",
      "Epoch 70/100\n",
      "13/13 [==============================] - 0s 3ms/step - loss: 1.4493 - mae: 1.4493\n",
      "Epoch 71/100\n",
      "13/13 [==============================] - 0s 3ms/step - loss: 1.4491 - mae: 1.4491\n",
      "Epoch 72/100\n",
      "13/13 [==============================] - 0s 3ms/step - loss: 1.4472 - mae: 1.4472\n",
      "Epoch 73/100\n",
      "13/13 [==============================] - 0s 3ms/step - loss: 1.4597 - mae: 1.4597\n",
      "Epoch 74/100\n",
      "13/13 [==============================] - 0s 3ms/step - loss: 1.4590 - mae: 1.4590\n",
      "Epoch 75/100\n",
      "13/13 [==============================] - 0s 3ms/step - loss: 1.4503 - mae: 1.4503\n",
      "Epoch 76/100\n",
      "13/13 [==============================] - 0s 3ms/step - loss: 1.4525 - mae: 1.4525\n",
      "Epoch 77/100\n",
      "13/13 [==============================] - 0s 3ms/step - loss: 1.4476 - mae: 1.4476\n",
      "Epoch 78/100\n",
      "13/13 [==============================] - 0s 3ms/step - loss: 1.4406 - mae: 1.4406\n",
      "Epoch 79/100\n",
      "13/13 [==============================] - 0s 3ms/step - loss: 1.4419 - mae: 1.4419\n",
      "Epoch 80/100\n",
      "13/13 [==============================] - 0s 4ms/step - loss: 1.4399 - mae: 1.4399\n",
      "Epoch 81/100\n",
      "13/13 [==============================] - 0s 4ms/step - loss: 1.4497 - mae: 1.4497\n",
      "Epoch 82/100\n",
      "13/13 [==============================] - 0s 3ms/step - loss: 1.4487 - mae: 1.4487\n",
      "Epoch 83/100\n",
      "13/13 [==============================] - 0s 3ms/step - loss: 1.4482 - mae: 1.4482\n",
      "Epoch 84/100\n",
      "13/13 [==============================] - 0s 3ms/step - loss: 1.4445 - mae: 1.4445\n",
      "Epoch 85/100\n",
      "13/13 [==============================] - 0s 4ms/step - loss: 1.4476 - mae: 1.4476\n",
      "Epoch 86/100\n",
      "13/13 [==============================] - 0s 4ms/step - loss: 1.4548 - mae: 1.4548\n",
      "Epoch 87/100\n"
     ]
    },
    {
     "name": "stdout",
     "output_type": "stream",
     "text": [
      "13/13 [==============================] - 0s 3ms/step - loss: 1.4409 - mae: 1.4409\n",
      "Epoch 88/100\n",
      "13/13 [==============================] - 0s 3ms/step - loss: 1.4411 - mae: 1.4411\n",
      "Epoch 89/100\n",
      "13/13 [==============================] - 0s 3ms/step - loss: 1.4499 - mae: 1.4499\n",
      "Epoch 90/100\n",
      "13/13 [==============================] - 0s 3ms/step - loss: 1.4464 - mae: 1.4464\n",
      "Epoch 91/100\n",
      "13/13 [==============================] - 0s 3ms/step - loss: 1.4384 - mae: 1.4384\n",
      "Epoch 92/100\n",
      "13/13 [==============================] - 0s 3ms/step - loss: 1.4413 - mae: 1.4413\n",
      "Epoch 93/100\n",
      "13/13 [==============================] - 0s 3ms/step - loss: 1.4404 - mae: 1.4404\n",
      "Epoch 94/100\n",
      "13/13 [==============================] - 0s 3ms/step - loss: 1.4393 - mae: 1.4393\n",
      "Epoch 95/100\n",
      "13/13 [==============================] - 0s 3ms/step - loss: 1.4436 - mae: 1.4436\n",
      "Epoch 96/100\n",
      "13/13 [==============================] - 0s 3ms/step - loss: 1.4376 - mae: 1.4376\n",
      "Epoch 97/100\n",
      "13/13 [==============================] - 0s 3ms/step - loss: 1.4401 - mae: 1.4401\n",
      "Epoch 98/100\n",
      "13/13 [==============================] - 0s 3ms/step - loss: 1.4408 - mae: 1.4408\n",
      "Epoch 99/100\n",
      "13/13 [==============================] - 0s 3ms/step - loss: 1.4447 - mae: 1.4447\n",
      "Epoch 100/100\n",
      "13/13 [==============================] - 0s 3ms/step - loss: 1.4437 - mae: 1.4437\n",
      "Epoch 1/100\n",
      "13/13 [==============================] - 2s 3ms/step - loss: 5.4970 - mse: 5.4970\n",
      "Epoch 2/100\n",
      "13/13 [==============================] - 0s 3ms/step - loss: 5.4773 - mse: 5.4773\n",
      "Epoch 3/100\n",
      "13/13 [==============================] - 0s 3ms/step - loss: 5.3036 - mse: 5.3036\n",
      "Epoch 4/100\n",
      "13/13 [==============================] - 0s 3ms/step - loss: 5.2756 - mse: 5.2756\n",
      "Epoch 5/100\n",
      "13/13 [==============================] - 0s 3ms/step - loss: 5.2499 - mse: 5.2499\n",
      "Epoch 6/100\n",
      "13/13 [==============================] - 0s 4ms/step - loss: 5.2582 - mse: 5.2582\n",
      "Epoch 7/100\n",
      "13/13 [==============================] - 0s 3ms/step - loss: 5.2344 - mse: 5.2344\n",
      "Epoch 8/100\n",
      "13/13 [==============================] - 0s 3ms/step - loss: 5.2445 - mse: 5.2445\n",
      "Epoch 9/100\n",
      "13/13 [==============================] - 0s 3ms/step - loss: 5.2252 - mse: 5.2252\n",
      "Epoch 10/100\n",
      "13/13 [==============================] - 0s 3ms/step - loss: 5.2156 - mse: 5.2156\n",
      "Epoch 11/100\n",
      "13/13 [==============================] - 0s 3ms/step - loss: 5.2074 - mse: 5.2074\n",
      "Epoch 12/100\n",
      "13/13 [==============================] - 0s 3ms/step - loss: 5.2203 - mse: 5.2203\n",
      "Epoch 13/100\n",
      "13/13 [==============================] - 0s 3ms/step - loss: 5.1738 - mse: 5.1738\n",
      "Epoch 14/100\n",
      "13/13 [==============================] - 0s 4ms/step - loss: 5.1901 - mse: 5.1901\n",
      "Epoch 15/100\n",
      "13/13 [==============================] - 0s 4ms/step - loss: 5.1751 - mse: 5.1751\n",
      "Epoch 16/100\n",
      "13/13 [==============================] - 0s 3ms/step - loss: 5.1714 - mse: 5.1714\n",
      "Epoch 17/100\n",
      "13/13 [==============================] - 0s 3ms/step - loss: 5.1786 - mse: 5.1786\n",
      "Epoch 18/100\n",
      "13/13 [==============================] - 0s 3ms/step - loss: 5.1710 - mse: 5.1710\n",
      "Epoch 19/100\n",
      "13/13 [==============================] - 0s 3ms/step - loss: 5.1774 - mse: 5.1774\n",
      "Epoch 20/100\n",
      "13/13 [==============================] - 0s 4ms/step - loss: 5.1609 - mse: 5.1609\n",
      "Epoch 21/100\n",
      "13/13 [==============================] - 0s 3ms/step - loss: 5.1701 - mse: 5.1701\n",
      "Epoch 22/100\n",
      "13/13 [==============================] - 0s 4ms/step - loss: 5.1551 - mse: 5.1551\n",
      "Epoch 23/100\n",
      "13/13 [==============================] - 0s 4ms/step - loss: 5.1576 - mse: 5.1576\n",
      "Epoch 24/100\n",
      "13/13 [==============================] - 0s 3ms/step - loss: 5.1416 - mse: 5.1416\n",
      "Epoch 25/100\n",
      "13/13 [==============================] - 0s 3ms/step - loss: 5.1529 - mse: 5.1529\n",
      "Epoch 26/100\n",
      "13/13 [==============================] - 0s 3ms/step - loss: 5.1291 - mse: 5.1291\n",
      "Epoch 27/100\n",
      "13/13 [==============================] - 0s 3ms/step - loss: 5.1699 - mse: 5.1699\n",
      "Epoch 28/100\n",
      "13/13 [==============================] - 0s 3ms/step - loss: 5.1320 - mse: 5.1320\n",
      "Epoch 29/100\n",
      "13/13 [==============================] - 0s 4ms/step - loss: 5.1314 - mse: 5.1314\n",
      "Epoch 30/100\n",
      "13/13 [==============================] - 0s 4ms/step - loss: 5.1741 - mse: 5.1741\n",
      "Epoch 31/100\n",
      "13/13 [==============================] - 0s 3ms/step - loss: 5.1273 - mse: 5.1273\n",
      "Epoch 32/100\n",
      "13/13 [==============================] - 0s 4ms/step - loss: 5.1331 - mse: 5.1331\n",
      "Epoch 33/100\n",
      "13/13 [==============================] - 0s 3ms/step - loss: 5.1723 - mse: 5.1723\n",
      "Epoch 34/100\n",
      "13/13 [==============================] - 0s 3ms/step - loss: 5.1279 - mse: 5.1279\n",
      "Epoch 35/100\n",
      "13/13 [==============================] - 0s 4ms/step - loss: 5.1420 - mse: 5.1420\n",
      "Epoch 36/100\n",
      "13/13 [==============================] - 0s 3ms/step - loss: 5.1303 - mse: 5.1303\n",
      "Epoch 37/100\n",
      "13/13 [==============================] - 0s 3ms/step - loss: 5.1138 - mse: 5.1138\n",
      "Epoch 38/100\n",
      "13/13 [==============================] - 0s 4ms/step - loss: 5.1180 - mse: 5.1180\n",
      "Epoch 39/100\n",
      "13/13 [==============================] - 0s 3ms/step - loss: 5.1300 - mse: 5.1300\n",
      "Epoch 40/100\n",
      "13/13 [==============================] - 0s 3ms/step - loss: 5.1181 - mse: 5.1181\n",
      "Epoch 41/100\n",
      "13/13 [==============================] - 0s 4ms/step - loss: 5.1052 - mse: 5.1052\n",
      "Epoch 42/100\n",
      "13/13 [==============================] - 0s 3ms/step - loss: 5.1243 - mse: 5.1243\n",
      "Epoch 43/100\n",
      "13/13 [==============================] - 0s 3ms/step - loss: 5.0958 - mse: 5.0958\n",
      "Epoch 44/100\n",
      "13/13 [==============================] - 0s 3ms/step - loss: 5.1259 - mse: 5.1259\n",
      "Epoch 45/100\n",
      "13/13 [==============================] - 0s 3ms/step - loss: 5.1108 - mse: 5.1108\n",
      "Epoch 46/100\n",
      "13/13 [==============================] - 0s 3ms/step - loss: 5.1204 - mse: 5.1204\n",
      "Epoch 47/100\n",
      "13/13 [==============================] - 0s 3ms/step - loss: 5.1053 - mse: 5.1053\n",
      "Epoch 48/100\n",
      "13/13 [==============================] - 0s 3ms/step - loss: 5.1226 - mse: 5.1226\n",
      "Epoch 49/100\n",
      "13/13 [==============================] - 0s 3ms/step - loss: 5.1115 - mse: 5.1115\n",
      "Epoch 50/100\n",
      "13/13 [==============================] - 0s 4ms/step - loss: 5.1160 - mse: 5.1160\n",
      "Epoch 51/100\n",
      "13/13 [==============================] - 0s 3ms/step - loss: 5.1460 - mse: 5.1460\n",
      "Epoch 52/100\n",
      "13/13 [==============================] - 0s 3ms/step - loss: 5.0757 - mse: 5.0757\n",
      "Epoch 53/100\n",
      "13/13 [==============================] - 0s 3ms/step - loss: 5.0919 - mse: 5.0919\n",
      "Epoch 54/100\n",
      "13/13 [==============================] - 0s 3ms/step - loss: 5.0947 - mse: 5.0947\n",
      "Epoch 55/100\n",
      "13/13 [==============================] - 0s 3ms/step - loss: 5.1163 - mse: 5.1163\n",
      "Epoch 56/100\n",
      "13/13 [==============================] - 0s 3ms/step - loss: 5.1438 - mse: 5.1438\n",
      "Epoch 57/100\n",
      "13/13 [==============================] - 0s 3ms/step - loss: 5.0810 - mse: 5.0810\n",
      "Epoch 58/100\n",
      "13/13 [==============================] - 0s 3ms/step - loss: 5.0917 - mse: 5.0917\n",
      "Epoch 59/100\n",
      "13/13 [==============================] - 0s 3ms/step - loss: 5.0917 - mse: 5.0917\n",
      "Epoch 60/100\n",
      "13/13 [==============================] - 0s 3ms/step - loss: 5.1053 - mse: 5.1053\n",
      "Epoch 61/100\n",
      "13/13 [==============================] - 0s 3ms/step - loss: 5.1415 - mse: 5.1415\n",
      "Epoch 62/100\n",
      "13/13 [==============================] - 0s 3ms/step - loss: 5.0941 - mse: 5.0941\n",
      "Epoch 63/100\n",
      "13/13 [==============================] - 0s 3ms/step - loss: 5.1206 - mse: 5.1206\n",
      "Epoch 64/100\n",
      "13/13 [==============================] - 0s 3ms/step - loss: 5.0784 - mse: 5.0784\n",
      "Epoch 65/100\n",
      "13/13 [==============================] - 0s 4ms/step - loss: 5.0788 - mse: 5.0788\n",
      "Epoch 66/100\n",
      "13/13 [==============================] - 0s 4ms/step - loss: 5.0957 - mse: 5.0957\n",
      "Epoch 67/100\n",
      "13/13 [==============================] - 0s 5ms/step - loss: 5.0782 - mse: 5.0782\n",
      "Epoch 68/100\n",
      "13/13 [==============================] - 0s 4ms/step - loss: 5.0743 - mse: 5.0743\n",
      "Epoch 69/100\n",
      "13/13 [==============================] - 0s 4ms/step - loss: 5.0918 - mse: 5.0918\n",
      "Epoch 70/100\n",
      "13/13 [==============================] - 0s 3ms/step - loss: 5.0835 - mse: 5.0835\n",
      "Epoch 71/100\n",
      "13/13 [==============================] - 0s 3ms/step - loss: 5.0798 - mse: 5.0798\n",
      "Epoch 72/100\n",
      "13/13 [==============================] - 0s 3ms/step - loss: 5.0952 - mse: 5.0952\n",
      "Epoch 73/100\n"
     ]
    },
    {
     "name": "stdout",
     "output_type": "stream",
     "text": [
      "13/13 [==============================] - 0s 3ms/step - loss: 5.0554 - mse: 5.0554\n",
      "Epoch 74/100\n",
      "13/13 [==============================] - 0s 3ms/step - loss: 5.0934 - mse: 5.0934\n",
      "Epoch 75/100\n",
      "13/13 [==============================] - 0s 4ms/step - loss: 5.0788 - mse: 5.0788\n",
      "Epoch 76/100\n",
      "13/13 [==============================] - 0s 3ms/step - loss: 5.0638 - mse: 5.0638\n",
      "Epoch 77/100\n",
      "13/13 [==============================] - 0s 3ms/step - loss: 5.0866 - mse: 5.0866\n",
      "Epoch 78/100\n",
      "13/13 [==============================] - 0s 3ms/step - loss: 5.0816 - mse: 5.0816\n",
      "Epoch 79/100\n",
      "13/13 [==============================] - 0s 3ms/step - loss: 5.0434 - mse: 5.0434\n",
      "Epoch 80/100\n",
      "13/13 [==============================] - 0s 3ms/step - loss: 5.0746 - mse: 5.0746\n",
      "Epoch 81/100\n",
      "13/13 [==============================] - 0s 3ms/step - loss: 5.0520 - mse: 5.0520\n",
      "Epoch 82/100\n",
      "13/13 [==============================] - 0s 3ms/step - loss: 5.0617 - mse: 5.0617\n",
      "Epoch 83/100\n",
      "13/13 [==============================] - 0s 3ms/step - loss: 5.0524 - mse: 5.0524\n",
      "Epoch 84/100\n",
      "13/13 [==============================] - 0s 3ms/step - loss: 5.0618 - mse: 5.0618\n",
      "Epoch 85/100\n",
      "13/13 [==============================] - 0s 3ms/step - loss: 5.0565 - mse: 5.0565\n",
      "Epoch 86/100\n",
      "13/13 [==============================] - 0s 3ms/step - loss: 5.0909 - mse: 5.0909\n",
      "Epoch 87/100\n",
      "13/13 [==============================] - 0s 3ms/step - loss: 5.0549 - mse: 5.0549\n",
      "Epoch 88/100\n",
      "13/13 [==============================] - 0s 3ms/step - loss: 5.0526 - mse: 5.0526\n",
      "Epoch 89/100\n",
      "13/13 [==============================] - 0s 3ms/step - loss: 5.0955 - mse: 5.0955\n",
      "Epoch 90/100\n",
      "13/13 [==============================] - 0s 3ms/step - loss: 5.0427 - mse: 5.0427\n",
      "Epoch 91/100\n",
      "13/13 [==============================] - 0s 3ms/step - loss: 5.0718 - mse: 5.0718\n",
      "Epoch 92/100\n",
      "13/13 [==============================] - 0s 4ms/step - loss: 5.0547 - mse: 5.0547\n",
      "Epoch 93/100\n",
      "13/13 [==============================] - 0s 3ms/step - loss: 5.0617 - mse: 5.0617\n",
      "Epoch 94/100\n",
      "13/13 [==============================] - 0s 3ms/step - loss: 5.0378 - mse: 5.0378\n",
      "Epoch 95/100\n",
      "13/13 [==============================] - 0s 3ms/step - loss: 5.0641 - mse: 5.0641\n",
      "Epoch 96/100\n",
      "13/13 [==============================] - 0s 3ms/step - loss: 5.0612 - mse: 5.0612\n",
      "Epoch 97/100\n",
      "13/13 [==============================] - 0s 4ms/step - loss: 5.0382 - mse: 5.0382\n",
      "Epoch 98/100\n",
      "13/13 [==============================] - 0s 3ms/step - loss: 5.0481 - mse: 5.0481\n",
      "Epoch 99/100\n",
      "13/13 [==============================] - 0s 3ms/step - loss: 5.0460 - mse: 5.0460\n",
      "Epoch 100/100\n",
      "13/13 [==============================] - 0s 4ms/step - loss: 5.0499 - mse: 5.0499\n",
      "MAE - Train: 1.4437, Validation: 1.4437\n",
      "MSE - Train: 5.0499, Validation: 5.0499\n"
     ]
    },
    {
     "data": {
      "image/png": "[encoded data removed]",
      "text/plain": [
       "<Figure size 432x288 with 1 Axes>"
      ]
     },
     "metadata": {
      "needs_background": "light"
     },
     "output_type": "display_data"
    }
   ],
   "source": [
    "# YOUR CODE HERE\n",
    "\n",
    "optimizer = Adam\n",
    "es = EarlyStopping(patience=10, restore_best_weights=True)\n",
    "\n",
    "\n",
    "model.compile(optimizer='adam', loss='mae', metrics=['mae'])\n",
    "history_mae = model.fit(X_train, y_train, batch_size=32, epochs=100)\n",
    "\n",
    "model.compile(optimizer='adam', loss='mse', metrics=['mse'])\n",
    "history_mse = model.fit(X_train, y_train, batch_size=32, epochs=100)\n",
    "\n",
    "mae_train_mae, mae_val_mae = history_mae.history['mae'], history_mae.history['mae']\n",
    "mse_train_mse, mse_val_mse = history_mse.history['mse'], history_mse.history['mse']\n",
    "\n",
    "print(f'MAE - Train: {mae_train_mae[-1]:.4f}, Validation: {mae_val_mae[-1]:.4f}')\n",
    "print(f'MSE - Train: {mse_train_mse[-1]:.4f}, Validation: {mse_val_mse[-1]:.4f}')\n",
    "\n",
    "plt.plot(history_mae.history['mae'], label='val_mae')\n",
    "plt.plot(history_mae.history['mae'], label='mae')\n",
    "plt.title('MAE')\n",
    "plt.ylabel('MAE')\n",
    "plt.xlabel('Epoch')\n",
    "plt.legend(['Validation', 'Train'], loc='upper right')\n",
    "plt.show()"
   ]
  },
  {
   "cell_type": "markdown",
   "metadata": {},
   "source": [
    "❗️ Countrary to first intuition, it can be sometimes better to use the MSE as the loss function in order to get the best MAE possible in the end!\n",
    "\n",
    "<details>\n",
    "    <summary>▶ Why?</summary>\n",
    "\n",
    "Well, even the Deep Learning research community is still trying to answer these types of questions rigorously.\n",
    "    \n",
    "One thing for sure: In Deep Learning, you will never really reach the \"global minimum\" of the true loss function (the one computed using your entire training set as one single \"batch\"). So, in your first model (minimizing the MAE loss), your global MAE minimum has clearly **not** been reached (otherwise you could never beat it). \n",
    "\n",
    "Why? It may well be that the minimization process of the second model has performed better. Maybe because the loss function \"energy map\" is \"smoother\" or more \"convex\" in the case of MSE loss? Or maybe your hyper-parameter are best suited to the MSE than to the MAE loss?\n",
    "\n",
    "</details>"
   ]
  },
  {
   "cell_type": "markdown",
   "metadata": {},
   "source": [
    "### 🧪 Test your model best performance\n",
    "\n",
    "❓ Save your best model performance on the test set at `mae_test` and check it out below"
   ]
  },
  {
   "cell_type": "code",
   "execution_count": 37,
   "metadata": {},
   "outputs": [
    {
     "ename": "AttributeError",
     "evalue": "'NoneType' object has no attribute 'compile'",
     "output_type": "error",
     "traceback": [
      "\u001b[1;31m---------------------------------------------------------------------------\u001b[0m",
      "\u001b[1;31mAttributeError\u001b[0m                            Traceback (most recent call last)",
      "Input \u001b[1;32mIn [37]\u001b[0m, in \u001b[0;36m<cell line: 5>\u001b[1;34m()\u001b[0m\n\u001b[0;32m      1\u001b[0m \u001b[38;5;66;03m# YOUR CODE HERE\u001b[39;00m\n\u001b[0;32m      3\u001b[0m \u001b[38;5;28;01mfrom\u001b[39;00m \u001b[38;5;21;01mkeras\u001b[39;00m\u001b[38;5;21;01m.\u001b[39;00m\u001b[38;5;21;01mcallbacks\u001b[39;00m \u001b[38;5;28;01mimport\u001b[39;00m ModelCheckpoint\n\u001b[1;32m----> 5\u001b[0m model \u001b[38;5;241m=\u001b[39m \u001b[43mmodel\u001b[49m\u001b[38;5;241;43m.\u001b[39;49m\u001b[43mcompile\u001b[49m(loss\u001b[38;5;241m=\u001b[39m\u001b[38;5;124m'\u001b[39m\u001b[38;5;124mmae\u001b[39m\u001b[38;5;124m'\u001b[39m, optimizer\u001b[38;5;241m=\u001b[39mAdam, metrics\u001b[38;5;241m=\u001b[39m[\u001b[38;5;124m'\u001b[39m\u001b[38;5;124mmae\u001b[39m\u001b[38;5;124m'\u001b[39m])\n\u001b[0;32m      7\u001b[0m \u001b[38;5;66;03m# define checkpoint path and file\u001b[39;00m\n\u001b[0;32m      8\u001b[0m mae_test \u001b[38;5;241m=\u001b[39m ModelCheckpoint(filepath\u001b[38;5;241m=\u001b[39m\u001b[38;5;124m'\u001b[39m\u001b[38;5;124mmodel\u001b[39m\u001b[38;5;124m'\u001b[39m, verbose\u001b[38;5;241m=\u001b[39m\u001b[38;5;241m1\u001b[39m,\n\u001b[0;32m      9\u001b[0m                           save_best_only\u001b[38;5;241m=\u001b[39m\u001b[38;5;28;01mTrue\u001b[39;00m, monitor\u001b[38;5;241m=\u001b[39m\u001b[38;5;124m'\u001b[39m\u001b[38;5;124mval_mae\u001b[39m\u001b[38;5;124m'\u001b[39m)\n",
      "\u001b[1;31mAttributeError\u001b[0m: 'NoneType' object has no attribute 'compile'"
     ]
    }
   ],
   "source": [
    "# YOUR CODE HERE\n",
    "\n",
    "from keras.callbacks import ModelCheckpoint\n",
    "\n",
    "model = model.compile(loss='mae', optimizer=Adam, metrics=['mae'])\n",
    "\n",
    "# define checkpoint path and file\n",
    "mae_test = ModelCheckpoint(filepath='model', verbose=1,\n",
    "                          save_best_only=True, monitor='val_mae')\n",
    "\n",
    "# fit model and save the best performance\n",
    "history = model.fit(X_train, y_train, validation_data=(X_test, y_test), callbacks=[mae_test])"
   ]
  },
  {
   "cell_type": "markdown",
   "metadata": {},
   "source": [
    "# 4 : Save and load a model\n",
    "\n",
    "❓ **Question** ❓  Save your model using `.save_model(model, 'name_of_my_model')` method that you can find [here](https://www.tensorflow.org/api_docs/python/tf/keras/models/save_model).."
   ]
  },
  {
   "cell_type": "markdown",
   "metadata": {},
   "source": [
    "❓ **Question** ❓ Now, in a variable that you will call `loaded_model`, load the model you just saved thanks to `.load_model('name_of_your_model')` [(documentation here)](https://www.tensorflow.org/api_docs/python/tf/keras/models/load_model), and evaluate it on the test data to check that it gives the same result as before."
   ]
  },
  {
   "cell_type": "code",
   "execution_count": null,
   "metadata": {
    "tags": [
     "challengify"
    ]
   },
   "outputs": [],
   "source": [
    "# YOUR CODE"
   ]
  },
  {
   "cell_type": "markdown",
   "metadata": {},
   "source": [
    "## (Optional) `Exponential Decay` for the Optimizer's Learning Rate\n",
    "\n",
    "The next question is not essential and can be skipped as many algorithms can be run without such optimization. \n",
    "\n",
    "Instead of keeping a fixed learning rate, you can change it from one iteration to the other, with the intuition that at first, you need large learning rates, and as the neural network converges and get closer to the minimum loss value, you can decrease the value of the learning rate. This is called a **`scheduler`**. \n",
    "\n",
    "❓ **Question** ❓ Use the [Exponential Decay Scheduler](https://www.tensorflow.org/api_docs/python/tf/keras/optimizers/schedules/ExponentialDecay) in the `adam` optimizer and run it on the previous data. Start with the following:\n",
    "\n",
    "```python\n",
    "initial_learning_rate = 0.001 # start with default ADAM value\n",
    "\n",
    "lr_schedule = ExponentialDecay(\n",
    "    # Every 5000 iterations, multiply the learning rate by 0.7\n",
    "    initial_learning_rate, decay_steps=5000, decay_rate=0.7,\n",
    ")\n",
    "```"
   ]
  },
  {
   "cell_type": "code",
   "execution_count": null,
   "metadata": {},
   "outputs": [],
   "source": [
    "# YOUR CODE HERE"
   ]
  },
  {
   "cell_type": "code",
   "execution_count": null,
   "metadata": {},
   "outputs": [],
   "source": []
  }
 ],
 "metadata": {
  "kernelspec": {
   "display_name": "Python 3 (ipykernel)",
   "language": "python",
   "name": "python3"
  },
  "language_info": {
   "codemirror_mode": {
    "name": "ipython",
    "version": 3
   },
   "file_extension": ".py",
   "mimetype": "text/x-python",
   "name": "python",
   "nbconvert_exporter": "python",
   "pygments_lexer": "ipython3",
   "version": "3.9.12"
  }
 },
 "nbformat": 4,
 "nbformat_minor": 2
}
